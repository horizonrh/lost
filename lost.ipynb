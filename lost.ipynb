{
 "cells": [
  {
   "cell_type": "markdown",
   "metadata": {},
   "source": [
    "## 无限法则流失预测初探\n",
    "> 流失预测作为我们组第一个探路性质的小项目，做的不是很严谨，主要还是在走流程的路上。对于以后具体的需求可能还需要集思广益，大家共同努力。\n",
    "\n",
    "为了预测玩家的流失，采用监督学习的分类算法。\n",
    "###### 取五周的数据：\n",
    "- 训练正样本：第1.2周在玩，第3周无登录，即流失。 limit 10000\n",
    "- 训练负样本：第1.2周在玩，第三周仍有登录行为，即未流失。limit 10000\n",
    "- 测试样本：第4周有登录行为随机uid，limit 10000，样本真值，在第5周是否有登陆行为。\n",
    "\n",
    "训练采用k-折叠交叉。在训练样本中分割出训练集和验证集，分别使用五种分类算法对其进行学习和预测，预测得到的预测值向量作为特征传入第二层中进行xgboost分类训练，最终等到结果。\n",
    "\n",
    "---\n"
   ]
  },
  {
   "cell_type": "code",
   "execution_count": 1,
   "metadata": {},
   "outputs": [
    {
     "data": {
      "text/html": [
       "        <script type=\"text/javascript\">\n",
       "        window.PlotlyConfig = {MathJaxConfig: 'local'};\n",
       "        if (window.MathJax) {MathJax.Hub.Config({SVG: {font: \"STIX-Web\"}});}\n",
       "        if (typeof require !== 'undefined') {\n",
       "        require.undef(\"plotly\");\n",
       "        requirejs.config({\n",
       "            paths: {\n",
       "                'plotly': ['https://cdn.plot.ly/plotly-latest.min']\n",
       "            }\n",
       "        });\n",
       "        require(['plotly'], function(Plotly) {\n",
       "            window._Plotly = Plotly;\n",
       "        });\n",
       "        }\n",
       "        </script>\n",
       "        "
      ]
     },
     "metadata": {},
     "output_type": "display_data"
    },
    {
     "name": "stdout",
     "output_type": "stream",
     "text": [
      "libs ok~\n"
     ]
    }
   ],
   "source": [
    "# 载入库\n",
    "import time\n",
    "import datetime\n",
    "import pandas as pd\n",
    "import numpy as np\n",
    "import re\n",
    "import sklearn\n",
    "import xgboost as xgb\n",
    "import seaborn as sns\n",
    "import matplotlib.pyplot as plt\n",
    "%matplotlib inline\n",
    " \n",
    "import plotly.offline as py\n",
    "py.init_notebook_mode(connected=True)\n",
    "import plotly.graph_objs as go\n",
    "import plotly.tools as tls\n",
    " \n",
    "import warnings\n",
    "warnings.filterwarnings('ignore')\n",
    " \n",
    "# 五种基础模型\n",
    "from sklearn.ensemble import RandomForestClassifier, AdaBoostClassifier, GradientBoostingClassifier, ExtraTreesClassifier\n",
    "from sklearn.svm import SVC\n",
    "\n",
    "# k-交叉折叠\n",
    "from sklearn.model_selection import KFold;\n",
    "\n",
    "print(\"libs ok~\")"
   ]
  },
  {
   "cell_type": "code",
   "execution_count": 2,
   "metadata": {
    "scrolled": true
   },
   "outputs": [
    {
     "data": {
      "text/html": [
       "<div>\n",
       "<style scoped>\n",
       "    .dataframe tbody tr th:only-of-type {\n",
       "        vertical-align: middle;\n",
       "    }\n",
       "\n",
       "    .dataframe tbody tr th {\n",
       "        vertical-align: top;\n",
       "    }\n",
       "\n",
       "    .dataframe thead th {\n",
       "        text-align: right;\n",
       "    }\n",
       "</style>\n",
       "<table border=\"1\" class=\"dataframe\">\n",
       "  <thead>\n",
       "    <tr style=\"text-align: right;\">\n",
       "      <th></th>\n",
       "      <th>login_cnt</th>\n",
       "      <th>quest_cnt</th>\n",
       "      <th>quest_cnt.1</th>\n",
       "      <th>create_date</th>\n",
       "      <th>create_date.1</th>\n",
       "      <th>sigle_match_cnt</th>\n",
       "      <th>team_match_cnt</th>\n",
       "      <th>play_cnt</th>\n",
       "      <th>avg_kill</th>\n",
       "      <th>avg_hurt</th>\n",
       "      <th>...</th>\n",
       "      <th>spend_money</th>\n",
       "      <th>creat_use</th>\n",
       "      <th>friend_add</th>\n",
       "      <th>friend_del</th>\n",
       "      <th>tier</th>\n",
       "      <th>bp_new</th>\n",
       "      <th>bp_old</th>\n",
       "      <th>free_fuck_new</th>\n",
       "      <th>free_fuck_old</th>\n",
       "      <th>label</th>\n",
       "    </tr>\n",
       "  </thead>\n",
       "  <tbody>\n",
       "    <tr>\n",
       "      <th>0</th>\n",
       "      <td>1</td>\n",
       "      <td>4</td>\n",
       "      <td>4.0</td>\n",
       "      <td>2.019072e+09</td>\n",
       "      <td>NaN</td>\n",
       "      <td>11.0</td>\n",
       "      <td>1.0</td>\n",
       "      <td>9.0</td>\n",
       "      <td>3.000000</td>\n",
       "      <td>2829.444444</td>\n",
       "      <td>...</td>\n",
       "      <td>NaN</td>\n",
       "      <td>3.0</td>\n",
       "      <td>NaN</td>\n",
       "      <td>NaN</td>\n",
       "      <td>7.0</td>\n",
       "      <td>NaN</td>\n",
       "      <td>NaN</td>\n",
       "      <td>NaN</td>\n",
       "      <td>NaN</td>\n",
       "      <td>0</td>\n",
       "    </tr>\n",
       "    <tr>\n",
       "      <th>1</th>\n",
       "      <td>2</td>\n",
       "      <td>4</td>\n",
       "      <td>4.0</td>\n",
       "      <td>2.019072e+09</td>\n",
       "      <td>NaN</td>\n",
       "      <td>20.0</td>\n",
       "      <td>NaN</td>\n",
       "      <td>17.0</td>\n",
       "      <td>8.647059</td>\n",
       "      <td>8165.235294</td>\n",
       "      <td>...</td>\n",
       "      <td>NaN</td>\n",
       "      <td>2.0</td>\n",
       "      <td>NaN</td>\n",
       "      <td>NaN</td>\n",
       "      <td>8.0</td>\n",
       "      <td>NaN</td>\n",
       "      <td>NaN</td>\n",
       "      <td>NaN</td>\n",
       "      <td>NaN</td>\n",
       "      <td>0</td>\n",
       "    </tr>\n",
       "    <tr>\n",
       "      <th>2</th>\n",
       "      <td>39</td>\n",
       "      <td>5</td>\n",
       "      <td>5.0</td>\n",
       "      <td>2.019070e+09</td>\n",
       "      <td>NaN</td>\n",
       "      <td>4.0</td>\n",
       "      <td>11.0</td>\n",
       "      <td>13.0</td>\n",
       "      <td>3.692308</td>\n",
       "      <td>3705.846154</td>\n",
       "      <td>...</td>\n",
       "      <td>NaN</td>\n",
       "      <td>4.0</td>\n",
       "      <td>2.0</td>\n",
       "      <td>NaN</td>\n",
       "      <td>7.0</td>\n",
       "      <td>1.0</td>\n",
       "      <td>NaN</td>\n",
       "      <td>NaN</td>\n",
       "      <td>NaN</td>\n",
       "      <td>0</td>\n",
       "    </tr>\n",
       "  </tbody>\n",
       "</table>\n",
       "<p>3 rows × 22 columns</p>\n",
       "</div>"
      ],
      "text/plain": [
       "   login_cnt  quest_cnt  quest_cnt.1   create_date  create_date.1  \\\n",
       "0          1          4          4.0  2.019072e+09            NaN   \n",
       "1          2          4          4.0  2.019072e+09            NaN   \n",
       "2         39          5          5.0  2.019070e+09            NaN   \n",
       "\n",
       "   sigle_match_cnt  team_match_cnt  play_cnt  avg_kill     avg_hurt  ...  \\\n",
       "0             11.0             1.0       9.0  3.000000  2829.444444  ...   \n",
       "1             20.0             NaN      17.0  8.647059  8165.235294  ...   \n",
       "2              4.0            11.0      13.0  3.692308  3705.846154  ...   \n",
       "\n",
       "   spend_money  creat_use  friend_add  friend_del  tier  bp_new  bp_old  \\\n",
       "0          NaN        3.0         NaN         NaN   7.0     NaN     NaN   \n",
       "1          NaN        2.0         NaN         NaN   8.0     NaN     NaN   \n",
       "2          NaN        4.0         2.0         NaN   7.0     1.0     NaN   \n",
       "\n",
       "   free_fuck_new  free_fuck_old  label  \n",
       "0            NaN            NaN      0  \n",
       "1            NaN            NaN      0  \n",
       "2            NaN            NaN      0  \n",
       "\n",
       "[3 rows x 22 columns]"
      ]
     },
     "execution_count": 2,
     "metadata": {},
     "output_type": "execute_result"
    }
   ],
   "source": [
    "# 载入数据\n",
    "train_neg = pd.read_csv('neg.csv', na_values=['\\\\N'])\n",
    "train_pos = pd.read_csv('pos.csv', na_values=['\\\\N'])\n",
    "test = pd.read_csv('pre.csv', na_values=['\\\\N'])\n",
    "train = pd.concat([train_neg, train_pos])\n",
    "\n",
    "# Store our passenger ID for easy access\n",
    "# PassengerId = test['PassengerId']\n",
    " \n",
    "train.head(3)"
   ]
  },
  {
   "cell_type": "markdown",
   "metadata": {},
   "source": [
    "### 数据预处理阶段\n",
    "\n",
    "原始数据如上图，数据比较脏，包含大量的空值以及一些客观条件造成的多列，另外需要把注册日期转换为距离今天的天数等，因为我们的数据并没有枚举值，都是连续的数字，且有大有小，在这里并没有直接进行标准化或者归一化，而是以段位将数据分类，这样就忽略掉了大部分数值本身的大小差异，而且不至于数值过于连续，造成这个人登录3次还是登录4次特征就会发生变化。稀疏离散的矩阵也是机器学习中的优质数据。"
   ]
  },
  {
   "cell_type": "code",
   "execution_count": 3,
   "metadata": {},
   "outputs": [
    {
     "data": {
      "text/html": [
       "<div>\n",
       "<style scoped>\n",
       "    .dataframe tbody tr th:only-of-type {\n",
       "        vertical-align: middle;\n",
       "    }\n",
       "\n",
       "    .dataframe tbody tr th {\n",
       "        vertical-align: top;\n",
       "    }\n",
       "\n",
       "    .dataframe thead th {\n",
       "        text-align: right;\n",
       "    }\n",
       "</style>\n",
       "<table border=\"1\" class=\"dataframe\">\n",
       "  <thead>\n",
       "    <tr style=\"text-align: right;\">\n",
       "      <th></th>\n",
       "      <th>login_cnt</th>\n",
       "      <th>quest_cnt</th>\n",
       "      <th>sigle_match_cnt</th>\n",
       "      <th>team_match_cnt</th>\n",
       "      <th>play_cnt</th>\n",
       "      <th>avg_kill</th>\n",
       "      <th>avg_hurt</th>\n",
       "      <th>avg_livetime</th>\n",
       "      <th>rank</th>\n",
       "      <th>spend_money</th>\n",
       "      <th>friend_add</th>\n",
       "      <th>friend_del</th>\n",
       "      <th>tier</th>\n",
       "      <th>label</th>\n",
       "      <th>game_time</th>\n",
       "      <th>register_day</th>\n",
       "      <th>lonely_rate</th>\n",
       "      <th>crate_use</th>\n",
       "      <th>bp</th>\n",
       "      <th>free_fuck</th>\n",
       "    </tr>\n",
       "  </thead>\n",
       "  <tbody>\n",
       "    <tr>\n",
       "      <th>0</th>\n",
       "      <td>1</td>\n",
       "      <td>1</td>\n",
       "      <td>3.0</td>\n",
       "      <td>1.0</td>\n",
       "      <td>2.0</td>\n",
       "      <td>3.0</td>\n",
       "      <td>8.0</td>\n",
       "      <td>5.0</td>\n",
       "      <td>0.0</td>\n",
       "      <td>0.0</td>\n",
       "      <td>0.0</td>\n",
       "      <td>0.0</td>\n",
       "      <td>1.0</td>\n",
       "      <td>0</td>\n",
       "      <td>3.0</td>\n",
       "      <td>2.0</td>\n",
       "      <td>1.500000</td>\n",
       "      <td>1.0</td>\n",
       "      <td>0.0</td>\n",
       "      <td>0.0</td>\n",
       "    </tr>\n",
       "    <tr>\n",
       "      <th>1</th>\n",
       "      <td>1</td>\n",
       "      <td>1</td>\n",
       "      <td>3.0</td>\n",
       "      <td>0.0</td>\n",
       "      <td>3.0</td>\n",
       "      <td>5.0</td>\n",
       "      <td>9.0</td>\n",
       "      <td>6.0</td>\n",
       "      <td>0.0</td>\n",
       "      <td>0.0</td>\n",
       "      <td>0.0</td>\n",
       "      <td>0.0</td>\n",
       "      <td>1.0</td>\n",
       "      <td>0</td>\n",
       "      <td>6.0</td>\n",
       "      <td>2.0</td>\n",
       "      <td>3.000000</td>\n",
       "      <td>1.0</td>\n",
       "      <td>0.0</td>\n",
       "      <td>0.0</td>\n",
       "    </tr>\n",
       "    <tr>\n",
       "      <th>2</th>\n",
       "      <td>4</td>\n",
       "      <td>1</td>\n",
       "      <td>1.0</td>\n",
       "      <td>3.0</td>\n",
       "      <td>3.0</td>\n",
       "      <td>4.0</td>\n",
       "      <td>8.0</td>\n",
       "      <td>3.0</td>\n",
       "      <td>0.0</td>\n",
       "      <td>0.0</td>\n",
       "      <td>1.0</td>\n",
       "      <td>0.0</td>\n",
       "      <td>1.0</td>\n",
       "      <td>0</td>\n",
       "      <td>3.0</td>\n",
       "      <td>2.0</td>\n",
       "      <td>0.250000</td>\n",
       "      <td>2.0</td>\n",
       "      <td>1.0</td>\n",
       "      <td>0.0</td>\n",
       "    </tr>\n",
       "    <tr>\n",
       "      <th>3</th>\n",
       "      <td>2</td>\n",
       "      <td>1</td>\n",
       "      <td>5.0</td>\n",
       "      <td>1.0</td>\n",
       "      <td>5.0</td>\n",
       "      <td>5.0</td>\n",
       "      <td>9.0</td>\n",
       "      <td>6.0</td>\n",
       "      <td>0.0</td>\n",
       "      <td>0.0</td>\n",
       "      <td>0.0</td>\n",
       "      <td>0.0</td>\n",
       "      <td>2.0</td>\n",
       "      <td>0</td>\n",
       "      <td>8.0</td>\n",
       "      <td>2.0</td>\n",
       "      <td>2.500000</td>\n",
       "      <td>1.0</td>\n",
       "      <td>0.0</td>\n",
       "      <td>1.0</td>\n",
       "    </tr>\n",
       "    <tr>\n",
       "      <th>4</th>\n",
       "      <td>1</td>\n",
       "      <td>2</td>\n",
       "      <td>2.0</td>\n",
       "      <td>5.0</td>\n",
       "      <td>5.0</td>\n",
       "      <td>3.0</td>\n",
       "      <td>6.0</td>\n",
       "      <td>5.0</td>\n",
       "      <td>0.0</td>\n",
       "      <td>0.0</td>\n",
       "      <td>0.0</td>\n",
       "      <td>0.0</td>\n",
       "      <td>2.0</td>\n",
       "      <td>0</td>\n",
       "      <td>8.0</td>\n",
       "      <td>2.0</td>\n",
       "      <td>0.333333</td>\n",
       "      <td>2.0</td>\n",
       "      <td>0.0</td>\n",
       "      <td>1.0</td>\n",
       "    </tr>\n",
       "  </tbody>\n",
       "</table>\n",
       "</div>"
      ],
      "text/plain": [
       "   login_cnt  quest_cnt  sigle_match_cnt  team_match_cnt  play_cnt  avg_kill  \\\n",
       "0          1          1              3.0             1.0       2.0       3.0   \n",
       "1          1          1              3.0             0.0       3.0       5.0   \n",
       "2          4          1              1.0             3.0       3.0       4.0   \n",
       "3          2          1              5.0             1.0       5.0       5.0   \n",
       "4          1          2              2.0             5.0       5.0       3.0   \n",
       "\n",
       "   avg_hurt  avg_livetime  rank  spend_money  friend_add  friend_del  tier  \\\n",
       "0       8.0           5.0   0.0          0.0         0.0         0.0   1.0   \n",
       "1       9.0           6.0   0.0          0.0         0.0         0.0   1.0   \n",
       "2       8.0           3.0   0.0          0.0         1.0         0.0   1.0   \n",
       "3       9.0           6.0   0.0          0.0         0.0         0.0   2.0   \n",
       "4       6.0           5.0   0.0          0.0         0.0         0.0   2.0   \n",
       "\n",
       "   label  game_time  register_day  lonely_rate  crate_use   bp  free_fuck  \n",
       "0      0        3.0           2.0     1.500000        1.0  0.0        0.0  \n",
       "1      0        6.0           2.0     3.000000        1.0  0.0        0.0  \n",
       "2      0        3.0           2.0     0.250000        2.0  1.0        0.0  \n",
       "3      0        8.0           2.0     2.500000        1.0  0.0        1.0  \n",
       "4      0        8.0           2.0     0.333333        2.0  0.0        1.0  "
      ]
     },
     "execution_count": 3,
     "metadata": {},
     "output_type": "execute_result"
    }
   ],
   "source": [
    "full_data = [train, test]\n",
    "\n",
    "for data_set in full_data:\n",
    "    \n",
    "    data_set.fillna(0, inplace=True)\n",
    "    \n",
    "    data_set.drop(['quest_cnt.1'], axis = 1)\n",
    "    \n",
    "    data_set['game_time'] = data_set['play_cnt'] * data_set['avg_livetime'];\n",
    "    data_set.loc[(data_set['game_time'] > 0) & (data_set['game_time'] <= 1000), 'game_time'] = 1\n",
    "    data_set.loc[(data_set['game_time'] >1000) & (data_set['game_time'] <= 5000), 'game_time'] = 2\n",
    "    data_set.loc[(data_set['game_time'] >5000) & (data_set['game_time'] <= 10000), 'game_time'] = 3\n",
    "    data_set.loc[(data_set['game_time'] >10000) & (data_set['game_time'] <= 15000), 'game_time'] = 4\n",
    "    data_set.loc[(data_set['game_time'] >15000) & (data_set['game_time'] <= 20000), 'game_time'] = 5\n",
    "    data_set.loc[(data_set['game_time'] >20000) & (data_set['game_time'] <= 25000), 'game_time'] = 6\n",
    "    data_set.loc[(data_set['game_time'] >25000) & (data_set['game_time'] <= 30000), 'game_time'] = 7\n",
    "    data_set.loc[(data_set['game_time'] >30000), 'game_time'] = 8\n",
    "    \n",
    "    data_set['create_date'] = data_set['create_date'] + data_set['create_date.1'] \n",
    "    data_set.drop(['create_date.1'], axis = 1, inplace=True)\n",
    "    data_set['create_date'] = data_set['create_date'].astype(str)\n",
    "    data_set['create_date'] = data_set['create_date'].apply(lambda x : x[0 : -4])\n",
    "    data_set['create_date'] = pd.to_datetime(data_set['create_date'])\n",
    "    str_today = time.strftime('%Y%m%d',time.localtime(time.time()))\n",
    "    today = pd.to_datetime(str_today, format='%Y%m%d', errors='ignore')\n",
    "    data_set['register_day'] = data_set['create_date'].apply(lambda x : (today - x).days)\n",
    "    data_set.drop(['create_date'], axis = 1, inplace=True)\n",
    "    data_set.loc[(data_set['register_day'] >= 0) & (data_set['register_day'] <= 30), 'register_day'] = 1\n",
    "    data_set.loc[(data_set['register_day'] >30) & (data_set['register_day'] <= 60), 'register_day'] = 2\n",
    "    data_set.loc[(data_set['register_day'] >60) & (data_set['register_day'] <= 90), 'register_day'] = 3\n",
    "    data_set.loc[(data_set['register_day'] >90) & (data_set['register_day'] <= 180), 'register_day'] = 4\n",
    "    data_set.loc[(data_set['register_day'] >180) & (data_set['register_day'] <= 360), 'register_day'] = 5\n",
    "    data_set.loc[(data_set['register_day'] >360) & (data_set['register_day'] <= 720), 'register_day'] = 6\n",
    "    data_set.loc[(data_set['register_day'] >720), 'register_day'] = 7\n",
    "    \n",
    "    data_set.loc[(data_set['login_cnt'] >0) & (data_set['login_cnt'] <= 5), 'login_cnt'] = 1\n",
    "    data_set.loc[(data_set['login_cnt'] >5) & (data_set['login_cnt'] <= 10), 'login_cnt'] = 2\n",
    "    data_set.loc[(data_set['login_cnt'] >10) & (data_set['login_cnt'] <= 30), 'login_cnt'] = 3\n",
    "    data_set.loc[(data_set['login_cnt'] >30) & (data_set['login_cnt'] <= 60), 'login_cnt'] = 4\n",
    "    data_set.loc[(data_set['login_cnt'] >60) & (data_set['login_cnt'] <= 100), 'login_cnt'] = 5\n",
    "    data_set.loc[(data_set['login_cnt'] >100), 'login_cnt'] = 6\n",
    "    \n",
    "    data_set.loc[(data_set['quest_cnt'] >0) & (data_set['quest_cnt'] <= 10), 'quest_cnt'] = 1\n",
    "    data_set.loc[(data_set['quest_cnt'] >10) & (data_set['quest_cnt'] <= 30), 'quest_cnt'] = 2\n",
    "    data_set.loc[(data_set['quest_cnt'] >30) & (data_set['quest_cnt'] <= 50), 'quest_cnt'] = 3\n",
    "    data_set.loc[(data_set['quest_cnt'] >50) & (data_set['quest_cnt'] <= 75), 'quest_cnt'] = 4\n",
    "    data_set.loc[(data_set['quest_cnt'] >75), 'quest_cnt'] = 5\n",
    "    data_set.drop(['quest_cnt.1'], axis = 1, inplace=True)\n",
    "    \n",
    "    data_set.loc[(data_set['sigle_match_cnt'] >0) & (data_set['sigle_match_cnt'] <= 5), 'sigle_match_cnt'] = 1\n",
    "    data_set.loc[(data_set['sigle_match_cnt'] >5) & (data_set['sigle_match_cnt'] <= 10), 'sigle_match_cnt'] = 2\n",
    "    data_set.loc[(data_set['sigle_match_cnt'] >10) & (data_set['sigle_match_cnt'] <= 20), 'sigle_match_cnt'] = 3\n",
    "    data_set.loc[(data_set['sigle_match_cnt'] >20) & (data_set['sigle_match_cnt'] <= 50), 'sigle_match_cnt'] = 4\n",
    "    data_set.loc[(data_set['sigle_match_cnt'] >50), 'sigle_match_cnt'] = 5\n",
    "    \n",
    "    data_set.loc[(data_set['team_match_cnt'] >0) & (data_set['team_match_cnt'] <= 5), 'team_match_cnt'] = 1\n",
    "    data_set.loc[(data_set['team_match_cnt'] >5) & (data_set['team_match_cnt'] <= 10), 'team_match_cnt'] = 2\n",
    "    data_set.loc[(data_set['team_match_cnt'] >10) & (data_set['team_match_cnt'] <= 20), 'team_match_cnt'] = 3\n",
    "    data_set.loc[(data_set['team_match_cnt'] >20) & (data_set['team_match_cnt'] <= 50), 'team_match_cnt'] = 4\n",
    "    data_set.loc[(data_set['team_match_cnt'] >50), 'team_match_cnt'] = 5\n",
    "    \n",
    "    data_set['lonely_rate'] = data_set['sigle_match_cnt'] / ( data_set['team_match_cnt'] + 1);\n",
    "    \n",
    "    data_set.loc[(data_set['play_cnt'] >0) & (data_set['play_cnt'] <= 5), 'play_cnt'] = 1\n",
    "    data_set.loc[(data_set['play_cnt'] >5) & (data_set['play_cnt'] <= 10), 'play_cnt'] = 2\n",
    "    data_set.loc[(data_set['play_cnt'] >10) & (data_set['play_cnt'] <= 20), 'play_cnt'] = 3\n",
    "    data_set.loc[(data_set['play_cnt'] >20) & (data_set['play_cnt'] <= 50), 'play_cnt'] = 4\n",
    "    data_set.loc[(data_set['play_cnt'] >50) & (data_set['play_cnt'] <= 100), 'play_cnt'] = 5\n",
    "    data_set.loc[(data_set['play_cnt'] >100), 'play_cnt'] = 6\n",
    "    \n",
    "    data_set.loc[(data_set['avg_kill'] >0) & (data_set['avg_kill'] <= 0.5), 'avg_kill'] = 1\n",
    "    data_set.loc[(data_set['avg_kill'] >0.5) & (data_set['avg_kill'] <= 1), 'avg_kill'] = 2\n",
    "    data_set.loc[(data_set['avg_kill'] >1) & (data_set['avg_kill'] <= 3), 'avg_kill'] = 3\n",
    "    data_set.loc[(data_set['avg_kill'] >3) & (data_set['avg_kill'] <= 5), 'avg_kill'] = 4\n",
    "    data_set.loc[(data_set['avg_kill'] >5) & (data_set['avg_kill'] <= 10), 'avg_kill'] = 5\n",
    "    data_set.loc[(data_set['avg_kill'] >10), 'avg_kill'] = 6\n",
    "    \n",
    "    data_set.loc[(data_set['avg_hurt'] >0) & (data_set['avg_hurt'] <= 100), 'avg_hurt'] = 1\n",
    "    data_set.loc[(data_set['avg_hurt'] >100) & (data_set['avg_hurt'] <= 300), 'avg_hurt'] = 2\n",
    "    data_set.loc[(data_set['avg_hurt'] >300) & (data_set['avg_hurt'] <= 500), 'avg_hurt'] = 3\n",
    "    data_set.loc[(data_set['avg_hurt'] >500) & (data_set['avg_hurt'] <= 750), 'avg_hurt'] = 4\n",
    "    data_set.loc[(data_set['avg_hurt'] >750) & (data_set['avg_hurt'] <= 1000), 'avg_hurt'] = 5\n",
    "    data_set.loc[(data_set['avg_hurt'] >1000) & (data_set['avg_hurt'] <= 1500), 'avg_hurt'] = 6\n",
    "    data_set.loc[(data_set['avg_hurt'] >1500) & (data_set['avg_hurt'] <= 2000), 'avg_hurt'] = 7\n",
    "    data_set.loc[(data_set['avg_hurt'] >2000) & (data_set['avg_hurt'] <= 5000), 'avg_hurt'] = 8\n",
    "    data_set.loc[(data_set['avg_hurt'] >5000), 'avg_hurt'] = 9\n",
    "    \n",
    "    data_set.loc[(data_set['avg_livetime'] >0) & (data_set['avg_livetime'] <= 100), 'avg_livetime'] = 1\n",
    "    data_set.loc[(data_set['avg_livetime'] >100) & (data_set['avg_livetime'] <= 300), 'avg_livetime'] = 2\n",
    "    data_set.loc[(data_set['avg_livetime'] >300) & (data_set['avg_livetime'] <= 500), 'avg_livetime'] = 3\n",
    "    data_set.loc[(data_set['avg_livetime'] >500) & (data_set['avg_livetime'] <= 750), 'avg_livetime'] = 4\n",
    "    data_set.loc[(data_set['avg_livetime'] >750) & (data_set['avg_livetime'] <= 1000), 'avg_livetime'] = 5\n",
    "    data_set.loc[(data_set['avg_livetime'] >1000) & (data_set['avg_livetime'] <= 1500), 'avg_livetime'] = 6\n",
    "    data_set.loc[(data_set['avg_livetime'] >1000), 'avg_livetime'] = 7\n",
    "    \n",
    "    data_set.loc[(data_set['rank'] >0), 'rank'] = 1\n",
    "    \n",
    "    data_set.loc[(data_set['spend_money'] >0) & (data_set['spend_money'] <= 1000), 'spend_money'] = 1\n",
    "    data_set.loc[(data_set['spend_money'] >1000), 'spend_money'] = 2\n",
    "    \n",
    "    data_set.loc[(data_set['creat_use'] ==0), 'crate_use'] = 0\n",
    "    data_set.loc[(data_set['creat_use'] >0) & (data_set['creat_use'] <= 3), 'crate_use'] = 1\n",
    "    data_set.loc[(data_set['creat_use'] >3) & (data_set['creat_use'] <= 7), 'crate_use'] = 2\n",
    "    data_set.loc[(data_set['creat_use'] >8) & (data_set['creat_use'] <= 10), 'crate_use'] = 3\n",
    "    data_set.loc[(data_set['creat_use'] >10), 'crate_use'] = 4\n",
    "    data_set.drop(['creat_use'], axis = 1, inplace=True)\n",
    "    \n",
    "    data_set.loc[(data_set['friend_add'] >0) & (data_set['friend_add'] <= 5), 'friend_add'] = 1\n",
    "    data_set.loc[(data_set['friend_add'] >5) & (data_set['friend_add'] <= 10), 'friend_add'] = 2\n",
    "    data_set.loc[(data_set['friend_add'] >10), 'friend_add'] = 3\n",
    "    \n",
    "    data_set.loc[(data_set['friend_del'] >0) & (data_set['friend_del'] <= 5), 'friend_del'] = 1\n",
    "    data_set.loc[(data_set['friend_del'] >5) & (data_set['friend_del'] <= 10), 'friend_del'] = 2\n",
    "    data_set.loc[(data_set['friend_del'] >10), 'friend_del'] = 3\n",
    "    \n",
    "    \n",
    "    data_set.loc[(data_set['tier'] >0) & (data_set['tier'] <= 10), 'tier'] = 1\n",
    "    data_set.loc[(data_set['tier'] >10) & (data_set['tier'] <= 30), 'tier'] = 2\n",
    "    data_set.loc[(data_set['tier'] >30) & (data_set['tier'] <= 50), 'tier'] = 3\n",
    "    data_set.loc[(data_set['tier'] >50) & (data_set['tier'] <= 75), 'tier'] = 4\n",
    "    data_set.loc[(data_set['tier'] >75), 'tier'] = 5\n",
    "    \n",
    "    data_set['bp'] = data_set['bp_new'] + data_set['bp_old'] \n",
    "    data_set.drop(['bp_new'], axis = 1, inplace=True)\n",
    "    data_set.drop(['bp_old'], axis = 1, inplace=True)\n",
    "    \n",
    "    data_set['free_fuck'] = data_set['free_fuck_new'] + data_set['free_fuck_old'] \n",
    "    data_set.drop(['free_fuck_new'], axis = 1, inplace=True)\n",
    "    data_set.drop(['free_fuck_old'], axis = 1, inplace=True)\n",
    "    \n",
    "# train.loc[(train['create_date'] == 0) & (train['create_date.1'] == 0) & (train['label'] == 0)].head(100)\n",
    "# train['create_date_real'] = train['create_date'].apply(lambda x : x if x > 0and else 0)\n",
    "test.loc[(test['label'] == 0), 'label'] = 1\n",
    "test.loc[(test['label'] > 1), 'label'] = 0\n",
    "train['game_time'].describe()\n",
    "train.head(5)"
   ]
  },
  {
   "cell_type": "code",
   "execution_count": 4,
   "metadata": {},
   "outputs": [],
   "source": [
    "train_input = train.dropna(axis=0,how='any')\n",
    "test_input = test.dropna(axis=0,how='any')"
   ]
  },
  {
   "cell_type": "code",
   "execution_count": 5,
   "metadata": {},
   "outputs": [
    {
     "data": {
      "text/plain": [
       "<matplotlib.axes._subplots.AxesSubplot at 0x2357514c2e8>"
      ]
     },
     "execution_count": 5,
     "metadata": {},
     "output_type": "execute_result"
    },
    {
     "data": {
      "image/png": "[encoded data removed]",
      "text/plain": [
       "<Figure size 1008x864 with 2 Axes>"
      ]
     },
     "metadata": {
      "needs_background": "light"
     },
     "output_type": "display_data"
    }
   ],
   "source": [
    "colormap = plt.cm.viridis\n",
    "plt.figure(figsize=(14,12))\n",
    "plt.title('Pearson Correlation of Features', y=1.05, size=15)\n",
    "sns.heatmap(train_input.astype(float).corr(),linewidths=0.1,vmax=1.0, square=True, cmap=colormap, linecolor='white', annot=True)"
   ]
  },
  {
   "cell_type": "markdown",
   "metadata": {},
   "source": [
    "##### 设置参数，包一些api方便后面使用"
   ]
  },
  {
   "cell_type": "code",
   "execution_count": 6,
   "metadata": {},
   "outputs": [],
   "source": [
    "ntrain = train_input.shape[0]\n",
    "ntest = test_input.shape[0]\n",
    "SEED = 0 # for reproducibility\n",
    "NFOLDS = 5 # set folds for out-of-fold prediction\n",
    "kf = KFold(n_splits=NFOLDS, random_state=SEED)"
   ]
  },
  {
   "cell_type": "code",
   "execution_count": 7,
   "metadata": {},
   "outputs": [],
   "source": [
    "class SklearnHelper(object):\n",
    "    def __init__(self, clf, seed=0, params=None):\n",
    "        params['random_state'] = seed\n",
    "        self.clf = clf(**params)\n",
    " \n",
    "    def train(self, x_train, y_train):\n",
    "        self.clf.fit(x_train, y_train)\n",
    " \n",
    "    def predict(self, x):\n",
    "        return self.clf.predict(x)\n",
    "    \n",
    "    def predict_prob(self, x):\n",
    "        return self.clf.predict_proba(x)\n",
    "    \n",
    "    def fit(self,x,y):\n",
    "        return self.clf.fit(x,y)\n",
    "    \n",
    "    def feature_importances(self,x,y):\n",
    "#         print(self.clf.fit(x,y).feature_importances_)\n",
    "        return self.clf.fit(x,y).feature_importances_"
   ]
  },
  {
   "cell_type": "code",
   "execution_count": 8,
   "metadata": {},
   "outputs": [],
   "source": [
    "def get_oof(clf, x_train, y_train, x_test):\n",
    "    oof_train = np.zeros((ntrain,))\n",
    "    oof_test = np.zeros((ntest,))\n",
    "    oof_test_skf = np.empty((NFOLDS, ntest))\n",
    " \n",
    "    for i, (train_index, test_index) in enumerate(kf.split(x_train)):\n",
    "        x_tr = x_train[train_index]\n",
    "        y_tr = y_train[train_index]\n",
    "        x_te = x_train[test_index]\n",
    " \n",
    "        clf.train(x_tr, y_tr)\n",
    " \n",
    "        oof_train[test_index] = clf.predict(x_te)\n",
    "        oof_test_skf[i, :] = clf.predict(x_test)\n",
    " \n",
    "    oof_test[:] = oof_test_skf.mean(axis=0)\n",
    "    return oof_train.reshape(-1, 1), oof_test.reshape(-1, 1)"
   ]
  },
  {
   "cell_type": "markdown",
   "metadata": {},
   "source": [
    "##### 参数都是网上找的，相当于直接用默认了，并没有单独经过细致的调参，后面会说"
   ]
  },
  {
   "cell_type": "code",
   "execution_count": 9,
   "metadata": {},
   "outputs": [],
   "source": [
    "# Random Forest parameters\n",
    "rf_params = {\n",
    "    'n_jobs': -1,\n",
    "    'n_estimators': 500,\n",
    "     'warm_start': True, \n",
    "     #'max_features': 0.2,\n",
    "    'max_depth': 6,\n",
    "    'min_samples_leaf': 2,\n",
    "    'max_features' : 'sqrt',\n",
    "    'verbose': 0\n",
    "}\n",
    " \n",
    "# Extra Trees Parameters\n",
    "et_params = {\n",
    "    'n_jobs': -1,\n",
    "    'n_estimators':500,\n",
    "    #'max_features': 0.5,\n",
    "    'max_depth': 8,\n",
    "    'min_samples_leaf': 2,\n",
    "    'verbose': 0\n",
    "}\n",
    " \n",
    "# AdaBoost parameters\n",
    "ada_params = {\n",
    "    'n_estimators': 500,\n",
    "    'learning_rate' : 0.75\n",
    "}\n",
    " \n",
    "# Gradient Boosting parameters\n",
    "gb_params = {\n",
    "    'n_estimators': 500,\n",
    "     #'max_features': 0.2,\n",
    "    'max_depth': 5,\n",
    "    'min_samples_leaf': 2,\n",
    "    'verbose': 0\n",
    "}\n",
    " \n",
    "# Support Vector Classifier parameters \n",
    "svc_params = {\n",
    "    'kernel' : 'linear',\n",
    "    'C' : 0.025\n",
    "}"
   ]
  },
  {
   "cell_type": "code",
   "execution_count": 10,
   "metadata": {},
   "outputs": [],
   "source": [
    "rf = SklearnHelper(clf=RandomForestClassifier, seed=SEED, params=rf_params)\n",
    "et = SklearnHelper(clf=ExtraTreesClassifier, seed=SEED, params=et_params)\n",
    "ada = SklearnHelper(clf=AdaBoostClassifier, seed=SEED, params=ada_params)\n",
    "gb = SklearnHelper(clf=GradientBoostingClassifier, seed=SEED, params=gb_params)\n",
    "svc = SklearnHelper(clf=SVC, seed=SEED, params=svc_params)"
   ]
  },
  {
   "cell_type": "code",
   "execution_count": 11,
   "metadata": {},
   "outputs": [],
   "source": [
    "y_train = train_input['label'].ravel()\n",
    "train_input = train_input.drop(['label'], axis=1)\n",
    "x_train = train_input.values # Creates an array of the train data\n",
    "test_true = test_input['label'].ravel()\n",
    "test_input = test_input.drop(['label'], axis=1)\n",
    "x_test = test_input.values # Creats an array of the test data"
   ]
  },
  {
   "cell_type": "code",
   "execution_count": 12,
   "metadata": {},
   "outputs": [
    {
     "name": "stdout",
     "output_type": "stream",
     "text": [
      "Training is complete\n"
     ]
    }
   ],
   "source": [
    "et_oof_train, et_oof_test = get_oof(et, x_train, y_train, x_test) # Extra Trees\n",
    "rf_oof_train, rf_oof_test = get_oof(rf,x_train, y_train, x_test) # Random Forest\n",
    "ada_oof_train, ada_oof_test = get_oof(ada, x_train, y_train, x_test) # AdaBoost \n",
    "gb_oof_train, gb_oof_test = get_oof(gb,x_train, y_train, x_test) # Gradient Boost\n",
    "svc_oof_train, svc_oof_test = get_oof(svc,x_train, y_train, x_test) # Support Vector Classifier\n",
    " \n",
    "print(\"Training is complete\")"
   ]
  },
  {
   "cell_type": "code",
   "execution_count": 13,
   "metadata": {},
   "outputs": [
    {
     "name": "stdout",
     "output_type": "stream",
     "text": [
      "Feature impotance is complete\n"
     ]
    }
   ],
   "source": [
    "rf_feature = rf.feature_importances(x_train,y_train)\n",
    "et_feature = et.feature_importances(x_train, y_train)\n",
    "ada_feature = ada.feature_importances(x_train, y_train)\n",
    "gb_feature = gb.feature_importances(x_train,y_train)\n",
    "\n",
    "print(\"Feature impotance is complete\")"
   ]
  },
  {
   "cell_type": "markdown",
   "metadata": {},
   "source": [
    "##### 训练完成后查看对于每个模型的特征重要性，可以用来判定并删除一些特征。也可以在前面特征相关度的时候就删掉，这些都是优化并尝试的过程。"
   ]
  },
  {
   "cell_type": "code",
   "execution_count": 14,
   "metadata": {},
   "outputs": [
    {
     "data": {
      "text/html": [
       "<div>\n",
       "<style scoped>\n",
       "    .dataframe tbody tr th:only-of-type {\n",
       "        vertical-align: middle;\n",
       "    }\n",
       "\n",
       "    .dataframe tbody tr th {\n",
       "        vertical-align: top;\n",
       "    }\n",
       "\n",
       "    .dataframe thead th {\n",
       "        text-align: right;\n",
       "    }\n",
       "</style>\n",
       "<table border=\"1\" class=\"dataframe\">\n",
       "  <thead>\n",
       "    <tr style=\"text-align: right;\">\n",
       "      <th></th>\n",
       "      <th>features</th>\n",
       "      <th>Random Forest feature importances</th>\n",
       "      <th>Extra Trees  feature importances</th>\n",
       "      <th>AdaBoost feature importances</th>\n",
       "      <th>Gradient Boost feature importances</th>\n",
       "    </tr>\n",
       "  </thead>\n",
       "  <tbody>\n",
       "    <tr>\n",
       "      <th>0</th>\n",
       "      <td>login_cnt</td>\n",
       "      <td>0.064656</td>\n",
       "      <td>0.062696</td>\n",
       "      <td>0.054</td>\n",
       "      <td>0.045305</td>\n",
       "    </tr>\n",
       "    <tr>\n",
       "      <th>1</th>\n",
       "      <td>quest_cnt</td>\n",
       "      <td>0.194538</td>\n",
       "      <td>0.089650</td>\n",
       "      <td>0.046</td>\n",
       "      <td>0.062887</td>\n",
       "    </tr>\n",
       "    <tr>\n",
       "      <th>2</th>\n",
       "      <td>sigle_match_cnt</td>\n",
       "      <td>0.021560</td>\n",
       "      <td>0.020916</td>\n",
       "      <td>0.092</td>\n",
       "      <td>0.015174</td>\n",
       "    </tr>\n",
       "  </tbody>\n",
       "</table>\n",
       "</div>"
      ],
      "text/plain": [
       "          features  Random Forest feature importances  \\\n",
       "0        login_cnt                           0.064656   \n",
       "1        quest_cnt                           0.194538   \n",
       "2  sigle_match_cnt                           0.021560   \n",
       "\n",
       "   Extra Trees  feature importances  AdaBoost feature importances  \\\n",
       "0                          0.062696                         0.054   \n",
       "1                          0.089650                         0.046   \n",
       "2                          0.020916                         0.092   \n",
       "\n",
       "   Gradient Boost feature importances  \n",
       "0                            0.045305  \n",
       "1                            0.062887  \n",
       "2                            0.015174  "
      ]
     },
     "execution_count": 14,
     "metadata": {},
     "output_type": "execute_result"
    }
   ],
   "source": [
    "cols = train_input.columns.values\n",
    "# Create a dataframe with features\n",
    "feature_dataframe = pd.DataFrame({\n",
    "    'features': cols,\n",
    "    'Random Forest feature importances': rf_feature,\n",
    "    'Extra Trees  feature importances': et_feature,\n",
    "    'AdaBoost feature importances': ada_feature,\n",
    "    'Gradient Boost feature importances': gb_feature\n",
    "})\n",
    "feature_dataframe.head(3)"
   ]
  },
  {
   "cell_type": "code",
   "execution_count": 15,
   "metadata": {
    "scrolled": false
   },
   "outputs": [
    {
     "data": {
      "application/vnd.plotly.v1+json": {
       "config": {
        "linkText": "Export to plot.ly",
        "plotlyServerURL": "https://plot.ly",
        "showLink": false
       },
       "data": [
        {
         "marker": {
          "color": [
           -0.3353376147609585,
           -1.4042891599554015,
           -0.9614836999545557,
           -1.261824709593803,
           -0.4386582954459156,
           -0.2222560921507836,
           1.1381846344236293,
           0.8024445571595322,
           0.3602072137586941,
           1.6733024952172073,
           0.037138429243023754,
           0.003361473443792037,
           1.2980983499647345,
           1.1991526498188996,
           0.07464806791072771,
           0.3626113054607763,
           0.7224444179513245,
           -0.6066676213061845,
           -1.1204446597546531,
           1.8748110196534127,
           -0.37477992905566093,
           0.38887572301762313,
           0.8079737713532996,
           -0.906482850526356,
           -1.0253465786195406,
           -0.6677681886182645,
           -2.042806350224445,
           0.016233016864006675,
           -0.18370034617369926,
           0.002127865933296744,
           1.0334149283679201,
           0.6730631190590274,
           0.20157973086169892,
           0.3082628542587688,
           -0.5772313195959742,
           1.1977434115076124,
           1.3546233584163376,
           -0.012030259699876679,
           -1.6407058885128185,
           1.9839841777665115,
           -0.8340332645834284,
           0.6256051492895208,
           0.13592871532217538,
           0.1687801058973868,
           1.4168618921557148,
           -0.4631409779764809,
           -1.4465145761192997,
           -0.29899985951242514,
           -0.33812267179741035,
           0.003045627921196728,
           0.5540411536055901,
           -0.45380223444938383,
           -0.506525652132364,
           0.035873945802292556,
           -1.6896189937511146,
           -0.4793036095245791,
           1.8679085882093274,
           0.944414934881014,
           0.4411587239711828,
           0.23448068083666665,
           -3.155269278543635,
           -0.5462524714994639,
           -0.13289584064623475,
           1.104213692319906,
           1.811138344888353,
           -0.8082281242692769,
           0.5622140398739509,
           -0.6889122069362767,
           0.8758136752998136,
           0.9421323837153465,
           -0.021749711924612305,
           -1.6320119052849875,
           -0.15190194812676938,
           -0.32059355778776744,
           0.6930169406072464,
           1.2357188716030028,
           0.9587704774290203,
           1.3579491084879232,
           -1.8469714219388702,
           0.6220512575670857,
           -0.38775084113235675,
           0.7922350292202558,
           -0.8643856672058164,
           0.6241982773845431,
           0.6948311552296698,
           -0.9322939704240909,
           -0.6102826424532283,
           -0.3604403865847407,
           -0.7126984393913409,
           -0.34234243539796405,
           -1.417220673669325,
           -0.9533768109284345,
           0.08909289397908773,
           -0.13792137718564135,
           -1.2795725789378973,
           -0.735186308947198,
           -2.085394927529343,
           1.0638079219919137,
           -0.49354190899500416,
           1.4524967873758607,
           -0.5073192042796822,
           0.44057074567862886,
           -0.9262209116737113,
           -0.6884776221512766,
           -1.214472558189641,
           0.5195324050659522,
           -0.7562591226237654,
           0.9178881181216172,
           1.315577599373413,
           -0.5818554896116392,
           -0.40828845042883055,
           -0.5280863680862977,
           0.5361180440506962,
           1.2019497744772667,
           -0.5284905222923578,
           0.17928009823648314,
           -1.4219919587600618,
           0.08952088835074822,
           1.5444559969263534,
           -1.077715682062838,
           0.47240746495348135,
           -1.3569399240762812,
           -0.23195050919434268,
           0.5980911030893796,
           -0.35561897288769556,
           1.7384430432371303,
           0.34029383394764334,
           1.9890008942598452,
           -1.603714781943722,
           -1.941641013743892,
           -0.20924300794235492,
           1.4196227851401588,
           0.33379962385937567,
           0.865513456923821,
           0.9836595713036511,
           -0.26109812488496315,
           -1.01258561824023,
           -0.3174242549404332,
           -1.8483384526560713,
           0.19078531811342894,
           -0.3385531648485672,
           0.12152756220899144,
           -1.0142572111016874,
           1.3525782963962225,
           -1.4188582767185591,
           2.5197389475954735,
           -1.2921280996239375,
           1.7956414232465199,
           -0.6974115698036386,
           -0.4345261774637677,
           0.3316181379528232,
           -1.9056036985572529,
           0.5816531545825484,
           0.5916125591910739,
           -1.1499684792935585,
           -1.056917944788559,
           1.7354903815044276,
           -2.169963801263564,
           0.2378618348327417,
           0.8066668948852506,
           -0.17481174205469135,
           0.8626859952487883,
           0.7435308477389513,
           0.14412355697647417,
           -0.3716086179826378,
           0.1725719847195825,
           0.5100242386382239,
           -0.7742624664222421,
           0.33432572565854773,
           0.49029466206521743,
           -2.1625869691736166,
           -0.9843645047500291,
           0.29712917583382914,
           0.39480849347508423,
           -1.178326435845253,
           0.8573202646711067,
           0.39056177516194157,
           0.3139504333631136,
           -0.47617561212199067,
           0.7184500869980851,
           -1.0784214592578796,
           0.9886141639988171,
           0.06296214916090441,
           -0.7416753474200375,
           -0.36000772083417676,
           0.9556980777683448,
           -0.7653110554745037,
           -1.426589363715177,
           -0.4919304451168174,
           -0.7240844079843897,
           1.4595768501996835,
           0.7652927718594033,
           -1.1883754205685755,
           -0.4916259906748099,
           -0.5704836988032077,
           -0.2597612858632458,
           -0.7208479396759166,
           -0.4531987237157769,
           -0.30319356959297694,
           -1.8344170053642312,
           1.5530430394546186,
           0.17363785609472157,
           0.09491289675167482,
           -0.6223545650054554,
           1.0232069524289515,
           -0.7263181080718044,
           1.1511388857950313,
           -0.5063706663085695,
           -0.6108774028941931,
           -0.0105261435751175,
           -0.9318234398474138,
           -2.222875767152766,
           -1.8119949517784368,
           0.7603008240983952,
           0.6049017369903009,
           -0.18954885335041682,
           -0.012047004599588542,
           0.20782524133464422,
           0.6766714915752667,
           1.246431234125301,
           -1.3319298009260665,
           1.429626992314386,
           0.4245985004948846,
           1.863693407729793,
           -0.3225167243067926,
           -2.6308517933966478,
           0.6574374316001864,
           -0.01045864239939025,
           -0.17078518790268032,
           -0.9326837481200836,
           -1.6963262241616688,
           0.25929464236523825,
           -1.233831477207251,
           0.0748959216047371,
           -0.5412756691532451,
           1.4006768890467325,
           -0.781666534838617,
           -0.09558287187628038,
           -0.9128863881122656,
           -1.9245660954306572,
           -1.1352709450640848,
           -0.9260399362742419,
           -0.8936861410042839,
           -0.9986463610598192,
           -0.9002874101477361,
           0.2695808296286708,
           -0.2385989402289383,
           0.7937787236260896,
           0.49134022528740545,
           -0.7855143576894216,
           -0.03414357294880547,
           0.05442707498850344,
           0.48568098412331534,
           -1.1122516074696827,
           1.3214073935921142,
           -1.0874704043242178,
           0.7094930310078075,
           -1.203184926458515,
           -0.05993803685005482,
           -1.1877978410041117,
           0.9518364545745527,
           -0.04240140470162814,
           -0.10192698699798047,
           0.5353577066511538,
           0.8804313324760098,
           -0.2462994887771365,
           0.4983818381653534,
           1.1521721200919826,
           -1.5271872431046438,
           0.3059627343585621,
           -0.1028091441441614,
           -1.0931738230121666,
           -1.7173916146949222,
           -0.7210131441189547,
           1.7119277974461728,
           0.5200749331426697,
           -0.7118321872839047,
           0.10877903141831134,
           -1.0076135147970797,
           0.19169663901003692,
           -0.7554621933430306,
           -0.13848162159030683,
           1.3961352997492076,
           1.0358828411937042,
           -0.7470305578635078,
           1.9526853152655892,
           1.174843847374466,
           0.49384245907372254,
           -1.444817855958777,
           1.623663880383649,
           -1.51718091284297,
           0.5076822649997734,
           1.5675864991092492,
           1.8036111804494779,
           1.0907819274869215,
           -1.1508757121219497,
           -0.25486449047224297,
           -0.2790737400258413,
           0.25864939273996634,
           -0.5450315621590771,
           0.12901530942139836,
           -0.15417782428554644,
           -1.7502893725253807,
           0.5590638834343684,
           -1.3967984142966927,
           -0.051840602028329706,
           1.096039057519209,
           1.12483216798458,
           0.17511583262140742,
           0.0714328302124511,
           0.8075907071682299,
           0.12576164953095798,
           1.5123631663996766,
           2.90516788875404,
           -0.05128132280082284,
           1.009250214054736,
           -0.1702067170801991,
           -0.18161221015996815,
           -0.8086210864446688,
           0.09102664201739301,
           -0.3509328017797546,
           -0.0697593972443536,
           0.41636763453842385,
           -0.6402199034971231,
           -2.1387847825263884,
           1.124876844774957,
           -1.502987924608273,
           0.43236436216095203,
           -0.2902031966975695,
           0.45745616364430153,
           0.007780032836187446,
           0.7041447220554169,
           -0.8895626979377331,
           0.46343066843642694,
           0.45876365493100196,
           -0.23771079388882935,
           -0.10540629600129992,
           -1.4888542462494523,
           0.40229079560399883,
           0.49890992229919945,
           -0.3812701455167237,
           -1.207630859381012,
           0.6645546857640957,
           1.7367495066802132,
           -3.0444895156455254,
           1.0121707310155903,
           0.5196419839923987,
           -0.47942861363765626,
           -0.048626759326097516,
           -0.05726464751335672,
           0.8493475659704812,
           -0.1879816285542869,
           -0.09517033368631608,
           -0.424958366906432,
           0.9839264549501151,
           0.6825693696327301,
           1.227467605830624,
           -0.8580487092283057,
           1.1024342813203325,
           -0.6246897911248428,
           0.04607267207988817,
           -0.35132896975206784,
           0.47641233951763334,
           0.8722114173195052,
           -0.6312719884089766,
           0.24848200560232112,
           1.7121083256711596,
           0.7481534029756042,
           -0.21788707334087393,
           -1.2959905221451589,
           2.4113724569592057,
           0.26413643943815507,
           -1.4233725132300137,
           -0.16310104971928233,
           0.18944963855629426,
           -0.7886048012577656,
           -2.038178936234981,
           -2.0731736023590033,
           0.4731074123177532,
           -1.1554071469824336,
           0.22460715838857803,
           0.7261995411746806,
           -0.5325176821483372,
           -0.09499169888325157,
           -0.6069128321235006,
           -0.30389638436691707,
           0.17180680738744614,
           -1.7748367406282093,
           0.5351915463863195,
           0.7701843791657349,
           1.1404667501082169,
           0.20077718549167903,
           -0.03152086389234094,
           -2.333454184892856,
           1.2977413283118264,
           1.173880238327771,
           2.7558028376154193,
           0.25022557830437425,
           1.3895630427366228,
           0.36124410051891337,
           0.2911282051468478,
           0.0684195738445797,
           0.40219532888302706,
           0.39611848771254304,
           0.013021326777734387,
           1.2938064284567157,
           -0.030045742084238235,
           0.25859424821488985,
           0.6404400302498962,
           0.33765066160624696,
           0.40611526653005264,
           -1.4288212290105067,
           -0.6394003954409403,
           -0.7886231950009955,
           0.5164776612262105,
           -2.1257044495461437,
           1.6593572390585618,
           0.03339004443249167,
           -0.7560077918642104,
           1.1608766378073148,
           -1.5758551045521219,
           -0.188811315053448,
           -1.9246845710181746,
           0.6495095113367977,
           -0.2940458254654021,
           -2.5579465948161433,
           0.006177948160610393,
           -1.2048491659846148,
           -0.5684550509630808,
           0.3559919592717965,
           -0.7111860663652326,
           -0.7284395942917629,
           -0.26940272078764893,
           0.5037776699714761,
           0.6069379187463427,
           1.5285996288838744,
           0.1716468958812224,
           -1.152761606484809,
           1.0476511112031874,
           0.12634287477620293,
           -0.25507138622123954,
           0.5686825442154397,
           0.23084990743066444,
           -0.010107754104748366,
           -0.5696018838517874,
           0.2893098661259062,
           -0.3534213864222207,
           -0.13059409209136294,
           -2.745092852508266,
           -0.43789245051413783,
           -0.06882645854266295,
           0.7323016310256256,
           0.4755752923381142,
           0.8837723534400802,
           -0.24617050556268347,
           1.0814183731299563,
           -0.7870518185419969,
           0.011141856203725872,
           -0.4695622935614185,
           -0.1857884941887127,
           0.8593566112009932,
           1.3972978310198967,
           0.287283599685767,
           0.8294912019653948,
           0.2260434932897947,
           -0.09884642232199493,
           -0.4054088436632556,
           1.2186743542533953,
           1.298717467603445,
           0.8852476375026288,
           1.1638662967066338,
           0.09348762270539712,
           -0.8310605987697813,
           -2.12062430999399,
           -0.3485645719433257,
           1.499876492332393,
           -0.9262780454846035,
           1.1842006647470438,
           0.041502345730696326,
           -0.3554396856448697,
           0.1788196264888005,
           0.4635986428859278,
           0.9965205320256205,
           0.4718293315376081,
           0.40055917886294357,
           -1.2449537884185011,
           0.4555277365789204,
           -1.1430994563910448,
           0.5720196868776892,
           -1.868336041024046,
           0.11318230009395963,
           -0.6021941207659604,
           -0.3057492284030149,
           0.13392054981399026,
           0.4349378828911786,
           -0.25315044888624005,
           0.19966410017462918,
           0.16470068258961404,
           1.240496844175983,
           0.84810858504583
          ],
          "colorscale": [
           [
            0,
            "rgb(12,51,131)"
           ],
           [
            0.25,
            "rgb(10,136,186)"
           ],
           [
            0.5,
            "rgb(242,211,56)"
           ],
           [
            0.75,
            "rgb(242,143,56)"
           ],
           [
            1,
            "rgb(217,30,30)"
           ]
          ],
          "showscale": true,
          "size": 25,
          "sizemode": "diameter",
          "sizeref": 1
         },
         "mode": "markers",
         "text": [
          "login_cnt",
          "quest_cnt",
          "sigle_match_cnt",
          "team_match_cnt",
          "play_cnt",
          "avg_kill",
          "avg_hurt",
          "avg_livetime",
          "rank",
          "spend_money",
          "friend_add",
          "friend_del",
          "tier",
          "game_time",
          "register_day",
          "lonely_rate",
          "crate_use",
          "bp",
          "free_fuck"
         ],
         "type": "scatter",
         "x": [
          "login_cnt",
          "quest_cnt",
          "sigle_match_cnt",
          "team_match_cnt",
          "play_cnt",
          "avg_kill",
          "avg_hurt",
          "avg_livetime",
          "rank",
          "spend_money",
          "friend_add",
          "friend_del",
          "tier",
          "game_time",
          "register_day",
          "lonely_rate",
          "crate_use",
          "bp",
          "free_fuck"
         ],
         "y": [
          0.06465606997232692,
          0.19453799275891348,
          0.021559696433657405,
          0.06488089912525763,
          0.13680959067699433,
          0.007620220062177062,
          0.003353532676284078,
          0.0030018700073747065,
          0.008159546636148011,
          0.0018229687800768858,
          0.0022466894688031,
          0.0008278392364984268,
          0.08276108999557548,
          0.23843349780272455,
          0.0019911686886996236,
          0.007516121380710813,
          0.12727067405733639,
          0.0007948930926806214,
          0.03175563914776042
         ]
        }
       ],
       "layout": {
        "autosize": true,
        "hovermode": "closest",
        "showlegend": false,
        "template": {
         "data": {
          "bar": [
           {
            "error_x": {
             "color": "#2a3f5f"
            },
            "error_y": {
             "color": "#2a3f5f"
            },
            "marker": {
             "line": {
              "color": "#E5ECF6",
              "width": 0.5
             }
            },
            "type": "bar"
           }
          ],
          "barpolar": [
           {
            "marker": {
             "line": {
              "color": "#E5ECF6",
              "width": 0.5
             }
            },
            "type": "barpolar"
           }
          ],
          "carpet": [
           {
            "aaxis": {
             "endlinecolor": "#2a3f5f",
             "gridcolor": "white",
             "linecolor": "white",
             "minorgridcolor": "white",
             "startlinecolor": "#2a3f5f"
            },
            "baxis": {
             "endlinecolor": "#2a3f5f",
             "gridcolor": "white",
             "linecolor": "white",
             "minorgridcolor": "white",
             "startlinecolor": "#2a3f5f"
            },
            "type": "carpet"
           }
          ],
          "choropleth": [
           {
            "colorbar": {
             "outlinewidth": 0,
             "ticks": ""
            },
            "type": "choropleth"
           }
          ],
          "contour": [
           {
            "colorbar": {
             "outlinewidth": 0,
             "ticks": ""
            },
            "colorscale": [
             [
              0,
              "#0d0887"
             ],
             [
              0.1111111111111111,
              "#46039f"
             ],
             [
              0.2222222222222222,
              "#7201a8"
             ],
             [
              0.3333333333333333,
              "#9c179e"
             ],
             [
              0.4444444444444444,
              "#bd3786"
             ],
             [
              0.5555555555555556,
              "#d8576b"
             ],
             [
              0.6666666666666666,
              "#ed7953"
             ],
             [
              0.7777777777777778,
              "#fb9f3a"
             ],
             [
              0.8888888888888888,
              "#fdca26"
             ],
             [
              1,
              "#f0f921"
             ]
            ],
            "type": "contour"
           }
          ],
          "contourcarpet": [
           {
            "colorbar": {
             "outlinewidth": 0,
             "ticks": ""
            },
            "type": "contourcarpet"
           }
          ],
          "heatmap": [
           {
            "colorbar": {
             "outlinewidth": 0,
             "ticks": ""
            },
            "colorscale": [
             [
              0,
              "#0d0887"
             ],
             [
              0.1111111111111111,
              "#46039f"
             ],
             [
              0.2222222222222222,
              "#7201a8"
             ],
             [
              0.3333333333333333,
              "#9c179e"
             ],
             [
              0.4444444444444444,
              "#bd3786"
             ],
             [
              0.5555555555555556,
              "#d8576b"
             ],
             [
              0.6666666666666666,
              "#ed7953"
             ],
             [
              0.7777777777777778,
              "#fb9f3a"
             ],
             [
              0.8888888888888888,
              "#fdca26"
             ],
             [
              1,
              "#f0f921"
             ]
            ],
            "type": "heatmap"
           }
          ],
          "heatmapgl": [
           {
            "colorbar": {
             "outlinewidth": 0,
             "ticks": ""
            },
            "colorscale": [
             [
              0,
              "#0d0887"
             ],
             [
              0.1111111111111111,
              "#46039f"
             ],
             [
              0.2222222222222222,
              "#7201a8"
             ],
             [
              0.3333333333333333,
              "#9c179e"
             ],
             [
              0.4444444444444444,
              "#bd3786"
             ],
             [
              0.5555555555555556,
              "#d8576b"
             ],
             [
              0.6666666666666666,
              "#ed7953"
             ],
             [
              0.7777777777777778,
              "#fb9f3a"
             ],
             [
              0.8888888888888888,
              "#fdca26"
             ],
             [
              1,
              "#f0f921"
             ]
            ],
            "type": "heatmapgl"
           }
          ],
          "histogram": [
           {
            "marker": {
             "colorbar": {
              "outlinewidth": 0,
              "ticks": ""
             }
            },
            "type": "histogram"
           }
          ],
          "histogram2d": [
           {
            "colorbar": {
             "outlinewidth": 0,
             "ticks": ""
            },
            "colorscale": [
             [
              0,
              "#0d0887"
             ],
             [
              0.1111111111111111,
              "#46039f"
             ],
             [
              0.2222222222222222,
              "#7201a8"
             ],
             [
              0.3333333333333333,
              "#9c179e"
             ],
             [
              0.4444444444444444,
              "#bd3786"
             ],
             [
              0.5555555555555556,
              "#d8576b"
             ],
             [
              0.6666666666666666,
              "#ed7953"
             ],
             [
              0.7777777777777778,
              "#fb9f3a"
             ],
             [
              0.8888888888888888,
              "#fdca26"
             ],
             [
              1,
              "#f0f921"
             ]
            ],
            "type": "histogram2d"
           }
          ],
          "histogram2dcontour": [
           {
            "colorbar": {
             "outlinewidth": 0,
             "ticks": ""
            },
            "colorscale": [
             [
              0,
              "#0d0887"
             ],
             [
              0.1111111111111111,
              "#46039f"
             ],
             [
              0.2222222222222222,
              "#7201a8"
             ],
             [
              0.3333333333333333,
              "#9c179e"
             ],
             [
              0.4444444444444444,
              "#bd3786"
             ],
             [
              0.5555555555555556,
              "#d8576b"
             ],
             [
              0.6666666666666666,
              "#ed7953"
             ],
             [
              0.7777777777777778,
              "#fb9f3a"
             ],
             [
              0.8888888888888888,
              "#fdca26"
             ],
             [
              1,
              "#f0f921"
             ]
            ],
            "type": "histogram2dcontour"
           }
          ],
          "mesh3d": [
           {
            "colorbar": {
             "outlinewidth": 0,
             "ticks": ""
            },
            "type": "mesh3d"
           }
          ],
          "parcoords": [
           {
            "line": {
             "colorbar": {
              "outlinewidth": 0,
              "ticks": ""
             }
            },
            "type": "parcoords"
           }
          ],
          "scatter": [
           {
            "marker": {
             "colorbar": {
              "outlinewidth": 0,
              "ticks": ""
             }
            },
            "type": "scatter"
           }
          ],
          "scatter3d": [
           {
            "line": {
             "colorbar": {
              "outlinewidth": 0,
              "ticks": ""
             }
            },
            "marker": {
             "colorbar": {
              "outlinewidth": 0,
              "ticks": ""
             }
            },
            "type": "scatter3d"
           }
          ],
          "scattercarpet": [
           {
            "marker": {
             "colorbar": {
              "outlinewidth": 0,
              "ticks": ""
             }
            },
            "type": "scattercarpet"
           }
          ],
          "scattergeo": [
           {
            "marker": {
             "colorbar": {
              "outlinewidth": 0,
              "ticks": ""
             }
            },
            "type": "scattergeo"
           }
          ],
          "scattergl": [
           {
            "marker": {
             "colorbar": {
              "outlinewidth": 0,
              "ticks": ""
             }
            },
            "type": "scattergl"
           }
          ],
          "scattermapbox": [
           {
            "marker": {
             "colorbar": {
              "outlinewidth": 0,
              "ticks": ""
             }
            },
            "type": "scattermapbox"
           }
          ],
          "scatterpolar": [
           {
            "marker": {
             "colorbar": {
              "outlinewidth": 0,
              "ticks": ""
             }
            },
            "type": "scatterpolar"
           }
          ],
          "scatterpolargl": [
           {
            "marker": {
             "colorbar": {
              "outlinewidth": 0,
              "ticks": ""
             }
            },
            "type": "scatterpolargl"
           }
          ],
          "scatterternary": [
           {
            "marker": {
             "colorbar": {
              "outlinewidth": 0,
              "ticks": ""
             }
            },
            "type": "scatterternary"
           }
          ],
          "surface": [
           {
            "colorbar": {
             "outlinewidth": 0,
             "ticks": ""
            },
            "colorscale": [
             [
              0,
              "#0d0887"
             ],
             [
              0.1111111111111111,
              "#46039f"
             ],
             [
              0.2222222222222222,
              "#7201a8"
             ],
             [
              0.3333333333333333,
              "#9c179e"
             ],
             [
              0.4444444444444444,
              "#bd3786"
             ],
             [
              0.5555555555555556,
              "#d8576b"
             ],
             [
              0.6666666666666666,
              "#ed7953"
             ],
             [
              0.7777777777777778,
              "#fb9f3a"
             ],
             [
              0.8888888888888888,
              "#fdca26"
             ],
             [
              1,
              "#f0f921"
             ]
            ],
            "type": "surface"
           }
          ],
          "table": [
           {
            "cells": {
             "fill": {
              "color": "#EBF0F8"
             },
             "line": {
              "color": "white"
             }
            },
            "header": {
             "fill": {
              "color": "#C8D4E3"
             },
             "line": {
              "color": "white"
             }
            },
            "type": "table"
           }
          ]
         },
         "layout": {
          "annotationdefaults": {
           "arrowcolor": "#2a3f5f",
           "arrowhead": 0,
           "arrowwidth": 1
          },
          "colorscale": {
           "diverging": [
            [
             0,
             "#8e0152"
            ],
            [
             0.1,
             "#c51b7d"
            ],
            [
             0.2,
             "#de77ae"
            ],
            [
             0.3,
             "#f1b6da"
            ],
            [
             0.4,
             "#fde0ef"
            ],
            [
             0.5,
             "#f7f7f7"
            ],
            [
             0.6,
             "#e6f5d0"
            ],
            [
             0.7,
             "#b8e186"
            ],
            [
             0.8,
             "#7fbc41"
            ],
            [
             0.9,
             "#4d9221"
            ],
            [
             1,
             "#276419"
            ]
           ],
           "sequential": [
            [
             0,
             "#0d0887"
            ],
            [
             0.1111111111111111,
             "#46039f"
            ],
            [
             0.2222222222222222,
             "#7201a8"
            ],
            [
             0.3333333333333333,
             "#9c179e"
            ],
            [
             0.4444444444444444,
             "#bd3786"
            ],
            [
             0.5555555555555556,
             "#d8576b"
            ],
            [
             0.6666666666666666,
             "#ed7953"
            ],
            [
             0.7777777777777778,
             "#fb9f3a"
            ],
            [
             0.8888888888888888,
             "#fdca26"
            ],
            [
             1,
             "#f0f921"
            ]
           ],
           "sequentialminus": [
            [
             0,
             "#0d0887"
            ],
            [
             0.1111111111111111,
             "#46039f"
            ],
            [
             0.2222222222222222,
             "#7201a8"
            ],
            [
             0.3333333333333333,
             "#9c179e"
            ],
            [
             0.4444444444444444,
             "#bd3786"
            ],
            [
             0.5555555555555556,
             "#d8576b"
            ],
            [
             0.6666666666666666,
             "#ed7953"
            ],
            [
             0.7777777777777778,
             "#fb9f3a"
            ],
            [
             0.8888888888888888,
             "#fdca26"
            ],
            [
             1,
             "#f0f921"
            ]
           ]
          },
          "colorway": [
           "#636efa",
           "#EF553B",
           "#00cc96",
           "#ab63fa",
           "#FFA15A",
           "#19d3f3",
           "#FF6692",
           "#B6E880",
           "#FF97FF",
           "#FECB52"
          ],
          "font": {
           "color": "#2a3f5f"
          },
          "geo": {
           "bgcolor": "white",
           "lakecolor": "white",
           "landcolor": "#E5ECF6",
           "showlakes": true,
           "showland": true,
           "subunitcolor": "white"
          },
          "hoverlabel": {
           "align": "left"
          },
          "hovermode": "closest",
          "mapbox": {
           "style": "light"
          },
          "paper_bgcolor": "white",
          "plot_bgcolor": "#E5ECF6",
          "polar": {
           "angularaxis": {
            "gridcolor": "white",
            "linecolor": "white",
            "ticks": ""
           },
           "bgcolor": "#E5ECF6",
           "radialaxis": {
            "gridcolor": "white",
            "linecolor": "white",
            "ticks": ""
           }
          },
          "scene": {
           "xaxis": {
            "backgroundcolor": "#E5ECF6",
            "gridcolor": "white",
            "gridwidth": 2,
            "linecolor": "white",
            "showbackground": true,
            "ticks": "",
            "zerolinecolor": "white"
           },
           "yaxis": {
            "backgroundcolor": "#E5ECF6",
            "gridcolor": "white",
            "gridwidth": 2,
            "linecolor": "white",
            "showbackground": true,
            "ticks": "",
            "zerolinecolor": "white"
           },
           "zaxis": {
            "backgroundcolor": "#E5ECF6",
            "gridcolor": "white",
            "gridwidth": 2,
            "linecolor": "white",
            "showbackground": true,
            "ticks": "",
            "zerolinecolor": "white"
           }
          },
          "shapedefaults": {
           "line": {
            "color": "#2a3f5f"
           }
          },
          "ternary": {
           "aaxis": {
            "gridcolor": "white",
            "linecolor": "white",
            "ticks": ""
           },
           "baxis": {
            "gridcolor": "white",
            "linecolor": "white",
            "ticks": ""
           },
           "bgcolor": "#E5ECF6",
           "caxis": {
            "gridcolor": "white",
            "linecolor": "white",
            "ticks": ""
           }
          },
          "title": {
           "x": 0.05
          },
          "xaxis": {
           "automargin": true,
           "gridcolor": "white",
           "linecolor": "white",
           "ticks": "",
           "zerolinecolor": "white",
           "zerolinewidth": 2
          },
          "yaxis": {
           "automargin": true,
           "gridcolor": "white",
           "linecolor": "white",
           "ticks": "",
           "zerolinecolor": "white",
           "zerolinewidth": 2
          }
         }
        },
        "title": {
         "text": "Random Forest Feature Importance"
        },
        "yaxis": {
         "gridwidth": 2,
         "ticklen": 5,
         "title": {
          "text": "Feature Importance"
         }
        }
       }
      },
      "text/html": [
       "<div>\n",
       "        \n",
       "        \n",
       "            <div id=\"ba3d5abd-a28f-46c6-8027-4579c7a3af66\" class=\"plotly-graph-div\" style=\"height:525px; width:100%;\"></div>\n",
       "            <script type=\"text/javascript\">\n",
       "                require([\"plotly\"], function(Plotly) {\n",
       "                    window.PLOTLYENV=window.PLOTLYENV || {};\n",
       "                    \n",
       "                if (document.getElementById(\"ba3d5abd-a28f-46c6-8027-4579c7a3af66\")) {\n",
       "                    Plotly.newPlot(\n",
       "                        'ba3d5abd-a28f-46c6-8027-4579c7a3af66',\n",
       "                        [{\"marker\": {\"color\": [-0.3353376147609585, -1.4042891599554015, -0.9614836999545557, -1.261824709593803, -0.4386582954459156, -0.2222560921507836, 1.1381846344236293, 0.8024445571595322, 0.3602072137586941, 1.6733024952172073, 0.037138429243023754, 0.003361473443792037, 1.2980983499647345, 1.1991526498188996, 0.07464806791072771, 0.3626113054607763, 0.7224444179513245, -0.6066676213061845, -1.1204446597546531, 1.8748110196534127, -0.37477992905566093, 0.38887572301762313, 0.8079737713532996, -0.906482850526356, -1.0253465786195406, -0.6677681886182645, -2.042806350224445, 0.016233016864006675, -0.18370034617369926, 0.002127865933296744, 1.0334149283679201, 0.6730631190590274, 0.20157973086169892, 0.3082628542587688, -0.5772313195959742, 1.1977434115076124, 1.3546233584163376, -0.012030259699876679, -1.6407058885128185, 1.9839841777665115, -0.8340332645834284, 0.6256051492895208, 0.13592871532217538, 0.1687801058973868, 1.4168618921557148, -0.4631409779764809, -1.4465145761192997, -0.29899985951242514, -0.33812267179741035, 0.003045627921196728, 0.5540411536055901, -0.45380223444938383, -0.506525652132364, 0.035873945802292556, -1.6896189937511146, -0.4793036095245791, 1.8679085882093274, 0.944414934881014, 0.4411587239711828, 0.23448068083666665, -3.155269278543635, -0.5462524714994639, -0.13289584064623475, 1.104213692319906, 1.811138344888353, -0.8082281242692769, 0.5622140398739509, -0.6889122069362767, 0.8758136752998136, 0.9421323837153465, -0.021749711924612305, -1.6320119052849875, -0.15190194812676938, -0.32059355778776744, 0.6930169406072464, 1.2357188716030028, 0.9587704774290203, 1.3579491084879232, -1.8469714219388702, 0.6220512575670857, -0.38775084113235675, 0.7922350292202558, -0.8643856672058164, 0.6241982773845431, 0.6948311552296698, -0.9322939704240909, -0.6102826424532283, -0.3604403865847407, -0.7126984393913409, -0.34234243539796405, -1.417220673669325, -0.9533768109284345, 0.08909289397908773, -0.13792137718564135, -1.2795725789378973, -0.735186308947198, -2.085394927529343, 1.0638079219919137, -0.49354190899500416, 1.4524967873758607, -0.5073192042796822, 0.44057074567862886, -0.9262209116737113, -0.6884776221512766, -1.214472558189641, 0.5195324050659522, -0.7562591226237654, 0.9178881181216172, 1.315577599373413, -0.5818554896116392, -0.40828845042883055, -0.5280863680862977, 0.5361180440506962, 1.2019497744772667, -0.5284905222923578, 0.17928009823648314, -1.4219919587600618, 0.08952088835074822, 1.5444559969263534, -1.077715682062838, 0.47240746495348135, -1.3569399240762812, -0.23195050919434268, 0.5980911030893796, -0.35561897288769556, 1.7384430432371303, 0.34029383394764334, 1.9890008942598452, -1.603714781943722, -1.941641013743892, -0.20924300794235492, 1.4196227851401588, 0.33379962385937567, 0.865513456923821, 0.9836595713036511, -0.26109812488496315, -1.01258561824023, -0.3174242549404332, -1.8483384526560713, 0.19078531811342894, -0.3385531648485672, 0.12152756220899144, -1.0142572111016874, 1.3525782963962225, -1.4188582767185591, 2.5197389475954735, -1.2921280996239375, 1.7956414232465199, -0.6974115698036386, -0.4345261774637677, 0.3316181379528232, -1.9056036985572529, 0.5816531545825484, 0.5916125591910739, -1.1499684792935585, -1.056917944788559, 1.7354903815044276, -2.169963801263564, 0.2378618348327417, 0.8066668948852506, -0.17481174205469135, 0.8626859952487883, 0.7435308477389513, 0.14412355697647417, -0.3716086179826378, 0.1725719847195825, 0.5100242386382239, -0.7742624664222421, 0.33432572565854773, 0.49029466206521743, -2.1625869691736166, -0.9843645047500291, 0.29712917583382914, 0.39480849347508423, -1.178326435845253, 0.8573202646711067, 0.39056177516194157, 0.3139504333631136, -0.47617561212199067, 0.7184500869980851, -1.0784214592578796, 0.9886141639988171, 0.06296214916090441, -0.7416753474200375, -0.36000772083417676, 0.9556980777683448, -0.7653110554745037, -1.426589363715177, -0.4919304451168174, -0.7240844079843897, 1.4595768501996835, 0.7652927718594033, -1.1883754205685755, -0.4916259906748099, -0.5704836988032077, -0.2597612858632458, -0.7208479396759166, -0.4531987237157769, -0.30319356959297694, -1.8344170053642312, 1.5530430394546186, 0.17363785609472157, 0.09491289675167482, -0.6223545650054554, 1.0232069524289515, -0.7263181080718044, 1.1511388857950313, -0.5063706663085695, -0.6108774028941931, -0.0105261435751175, -0.9318234398474138, -2.222875767152766, -1.8119949517784368, 0.7603008240983952, 0.6049017369903009, -0.18954885335041682, -0.012047004599588542, 0.20782524133464422, 0.6766714915752667, 1.246431234125301, -1.3319298009260665, 1.429626992314386, 0.4245985004948846, 1.863693407729793, -0.3225167243067926, -2.6308517933966478, 0.6574374316001864, -0.01045864239939025, -0.17078518790268032, -0.9326837481200836, -1.6963262241616688, 0.25929464236523825, -1.233831477207251, 0.0748959216047371, -0.5412756691532451, 1.4006768890467325, -0.781666534838617, -0.09558287187628038, -0.9128863881122656, -1.9245660954306572, -1.1352709450640848, -0.9260399362742419, -0.8936861410042839, -0.9986463610598192, -0.9002874101477361, 0.2695808296286708, -0.2385989402289383, 0.7937787236260896, 0.49134022528740545, -0.7855143576894216, -0.03414357294880547, 0.05442707498850344, 0.48568098412331534, -1.1122516074696827, 1.3214073935921142, -1.0874704043242178, 0.7094930310078075, -1.203184926458515, -0.05993803685005482, -1.1877978410041117, 0.9518364545745527, -0.04240140470162814, -0.10192698699798047, 0.5353577066511538, 0.8804313324760098, -0.2462994887771365, 0.4983818381653534, 1.1521721200919826, -1.5271872431046438, 0.3059627343585621, -0.1028091441441614, -1.0931738230121666, -1.7173916146949222, -0.7210131441189547, 1.7119277974461728, 0.5200749331426697, -0.7118321872839047, 0.10877903141831134, -1.0076135147970797, 0.19169663901003692, -0.7554621933430306, -0.13848162159030683, 1.3961352997492076, 1.0358828411937042, -0.7470305578635078, 1.9526853152655892, 1.174843847374466, 0.49384245907372254, -1.444817855958777, 1.623663880383649, -1.51718091284297, 0.5076822649997734, 1.5675864991092492, 1.8036111804494779, 1.0907819274869215, -1.1508757121219497, -0.25486449047224297, -0.2790737400258413, 0.25864939273996634, -0.5450315621590771, 0.12901530942139836, -0.15417782428554644, -1.7502893725253807, 0.5590638834343684, -1.3967984142966927, -0.051840602028329706, 1.096039057519209, 1.12483216798458, 0.17511583262140742, 0.0714328302124511, 0.8075907071682299, 0.12576164953095798, 1.5123631663996766, 2.90516788875404, -0.05128132280082284, 1.009250214054736, -0.1702067170801991, -0.18161221015996815, -0.8086210864446688, 0.09102664201739301, -0.3509328017797546, -0.0697593972443536, 0.41636763453842385, -0.6402199034971231, -2.1387847825263884, 1.124876844774957, -1.502987924608273, 0.43236436216095203, -0.2902031966975695, 0.45745616364430153, 0.007780032836187446, 0.7041447220554169, -0.8895626979377331, 0.46343066843642694, 0.45876365493100196, -0.23771079388882935, -0.10540629600129992, -1.4888542462494523, 0.40229079560399883, 0.49890992229919945, -0.3812701455167237, -1.207630859381012, 0.6645546857640957, 1.7367495066802132, -3.0444895156455254, 1.0121707310155903, 0.5196419839923987, -0.47942861363765626, -0.048626759326097516, -0.05726464751335672, 0.8493475659704812, -0.1879816285542869, -0.09517033368631608, -0.424958366906432, 0.9839264549501151, 0.6825693696327301, 1.227467605830624, -0.8580487092283057, 1.1024342813203325, -0.6246897911248428, 0.04607267207988817, -0.35132896975206784, 0.47641233951763334, 0.8722114173195052, -0.6312719884089766, 0.24848200560232112, 1.7121083256711596, 0.7481534029756042, -0.21788707334087393, -1.2959905221451589, 2.4113724569592057, 0.26413643943815507, -1.4233725132300137, -0.16310104971928233, 0.18944963855629426, -0.7886048012577656, -2.038178936234981, -2.0731736023590033, 0.4731074123177532, -1.1554071469824336, 0.22460715838857803, 0.7261995411746806, -0.5325176821483372, -0.09499169888325157, -0.6069128321235006, -0.30389638436691707, 0.17180680738744614, -1.7748367406282093, 0.5351915463863195, 0.7701843791657349, 1.1404667501082169, 0.20077718549167903, -0.03152086389234094, -2.333454184892856, 1.2977413283118264, 1.173880238327771, 2.7558028376154193, 0.25022557830437425, 1.3895630427366228, 0.36124410051891337, 0.2911282051468478, 0.0684195738445797, 0.40219532888302706, 0.39611848771254304, 0.013021326777734387, 1.2938064284567157, -0.030045742084238235, 0.25859424821488985, 0.6404400302498962, 0.33765066160624696, 0.40611526653005264, -1.4288212290105067, -0.6394003954409403, -0.7886231950009955, 0.5164776612262105, -2.1257044495461437, 1.6593572390585618, 0.03339004443249167, -0.7560077918642104, 1.1608766378073148, -1.5758551045521219, -0.188811315053448, -1.9246845710181746, 0.6495095113367977, -0.2940458254654021, -2.5579465948161433, 0.006177948160610393, -1.2048491659846148, -0.5684550509630808, 0.3559919592717965, -0.7111860663652326, -0.7284395942917629, -0.26940272078764893, 0.5037776699714761, 0.6069379187463427, 1.5285996288838744, 0.1716468958812224, -1.152761606484809, 1.0476511112031874, 0.12634287477620293, -0.25507138622123954, 0.5686825442154397, 0.23084990743066444, -0.010107754104748366, -0.5696018838517874, 0.2893098661259062, -0.3534213864222207, -0.13059409209136294, -2.745092852508266, -0.43789245051413783, -0.06882645854266295, 0.7323016310256256, 0.4755752923381142, 0.8837723534400802, -0.24617050556268347, 1.0814183731299563, -0.7870518185419969, 0.011141856203725872, -0.4695622935614185, -0.1857884941887127, 0.8593566112009932, 1.3972978310198967, 0.287283599685767, 0.8294912019653948, 0.2260434932897947, -0.09884642232199493, -0.4054088436632556, 1.2186743542533953, 1.298717467603445, 0.8852476375026288, 1.1638662967066338, 0.09348762270539712, -0.8310605987697813, -2.12062430999399, -0.3485645719433257, 1.499876492332393, -0.9262780454846035, 1.1842006647470438, 0.041502345730696326, -0.3554396856448697, 0.1788196264888005, 0.4635986428859278, 0.9965205320256205, 0.4718293315376081, 0.40055917886294357, -1.2449537884185011, 0.4555277365789204, -1.1430994563910448, 0.5720196868776892, -1.868336041024046, 0.11318230009395963, -0.6021941207659604, -0.3057492284030149, 0.13392054981399026, 0.4349378828911786, -0.25315044888624005, 0.19966410017462918, 0.16470068258961404, 1.240496844175983, 0.84810858504583], \"colorscale\": [[0.0, \"rgb(12,51,131)\"], [0.25, \"rgb(10,136,186)\"], [0.5, \"rgb(242,211,56)\"], [0.75, \"rgb(242,143,56)\"], [1.0, \"rgb(217,30,30)\"]], \"showscale\": true, \"size\": 25, \"sizemode\": \"diameter\", \"sizeref\": 1}, \"mode\": \"markers\", \"text\": [\"login_cnt\", \"quest_cnt\", \"sigle_match_cnt\", \"team_match_cnt\", \"play_cnt\", \"avg_kill\", \"avg_hurt\", \"avg_livetime\", \"rank\", \"spend_money\", \"friend_add\", \"friend_del\", \"tier\", \"game_time\", \"register_day\", \"lonely_rate\", \"crate_use\", \"bp\", \"free_fuck\"], \"type\": \"scatter\", \"x\": [\"login_cnt\", \"quest_cnt\", \"sigle_match_cnt\", \"team_match_cnt\", \"play_cnt\", \"avg_kill\", \"avg_hurt\", \"avg_livetime\", \"rank\", \"spend_money\", \"friend_add\", \"friend_del\", \"tier\", \"game_time\", \"register_day\", \"lonely_rate\", \"crate_use\", \"bp\", \"free_fuck\"], \"y\": [0.06465606997232692, 0.19453799275891348, 0.021559696433657405, 0.06488089912525763, 0.13680959067699433, 0.007620220062177062, 0.003353532676284078, 0.0030018700073747065, 0.008159546636148011, 0.0018229687800768858, 0.0022466894688031, 0.0008278392364984268, 0.08276108999557548, 0.23843349780272455, 0.0019911686886996236, 0.007516121380710813, 0.12727067405733639, 0.0007948930926806214, 0.03175563914776042]}],\n",
       "                        {\"autosize\": true, \"hovermode\": \"closest\", \"showlegend\": false, \"template\": {\"data\": {\"bar\": [{\"error_x\": {\"color\": \"#2a3f5f\"}, \"error_y\": {\"color\": \"#2a3f5f\"}, \"marker\": {\"line\": {\"color\": \"#E5ECF6\", \"width\": 0.5}}, \"type\": \"bar\"}], \"barpolar\": [{\"marker\": {\"line\": {\"color\": \"#E5ECF6\", \"width\": 0.5}}, \"type\": \"barpolar\"}], \"carpet\": [{\"aaxis\": {\"endlinecolor\": \"#2a3f5f\", \"gridcolor\": \"white\", \"linecolor\": \"white\", \"minorgridcolor\": \"white\", \"startlinecolor\": \"#2a3f5f\"}, \"baxis\": {\"endlinecolor\": \"#2a3f5f\", \"gridcolor\": \"white\", \"linecolor\": \"white\", \"minorgridcolor\": \"white\", \"startlinecolor\": \"#2a3f5f\"}, \"type\": \"carpet\"}], \"choropleth\": [{\"colorbar\": {\"outlinewidth\": 0, \"ticks\": \"\"}, \"type\": \"choropleth\"}], \"contour\": [{\"colorbar\": {\"outlinewidth\": 0, \"ticks\": \"\"}, \"colorscale\": [[0.0, \"#0d0887\"], [0.1111111111111111, \"#46039f\"], [0.2222222222222222, \"#7201a8\"], [0.3333333333333333, \"#9c179e\"], [0.4444444444444444, \"#bd3786\"], [0.5555555555555556, \"#d8576b\"], [0.6666666666666666, \"#ed7953\"], [0.7777777777777778, \"#fb9f3a\"], [0.8888888888888888, \"#fdca26\"], [1.0, \"#f0f921\"]], \"type\": \"contour\"}], \"contourcarpet\": [{\"colorbar\": {\"outlinewidth\": 0, \"ticks\": \"\"}, \"type\": \"contourcarpet\"}], \"heatmap\": [{\"colorbar\": {\"outlinewidth\": 0, \"ticks\": \"\"}, \"colorscale\": [[0.0, \"#0d0887\"], [0.1111111111111111, \"#46039f\"], [0.2222222222222222, \"#7201a8\"], [0.3333333333333333, \"#9c179e\"], [0.4444444444444444, \"#bd3786\"], [0.5555555555555556, \"#d8576b\"], [0.6666666666666666, \"#ed7953\"], [0.7777777777777778, \"#fb9f3a\"], [0.8888888888888888, \"#fdca26\"], [1.0, \"#f0f921\"]], \"type\": \"heatmap\"}], \"heatmapgl\": [{\"colorbar\": {\"outlinewidth\": 0, \"ticks\": \"\"}, \"colorscale\": [[0.0, \"#0d0887\"], [0.1111111111111111, \"#46039f\"], [0.2222222222222222, \"#7201a8\"], [0.3333333333333333, \"#9c179e\"], [0.4444444444444444, \"#bd3786\"], [0.5555555555555556, \"#d8576b\"], [0.6666666666666666, \"#ed7953\"], [0.7777777777777778, \"#fb9f3a\"], [0.8888888888888888, \"#fdca26\"], [1.0, \"#f0f921\"]], \"type\": \"heatmapgl\"}], \"histogram\": [{\"marker\": {\"colorbar\": {\"outlinewidth\": 0, \"ticks\": \"\"}}, \"type\": \"histogram\"}], \"histogram2d\": [{\"colorbar\": {\"outlinewidth\": 0, \"ticks\": \"\"}, \"colorscale\": [[0.0, \"#0d0887\"], [0.1111111111111111, \"#46039f\"], [0.2222222222222222, \"#7201a8\"], [0.3333333333333333, \"#9c179e\"], [0.4444444444444444, \"#bd3786\"], [0.5555555555555556, \"#d8576b\"], [0.6666666666666666, \"#ed7953\"], [0.7777777777777778, \"#fb9f3a\"], [0.8888888888888888, \"#fdca26\"], [1.0, \"#f0f921\"]], \"type\": \"histogram2d\"}], \"histogram2dcontour\": [{\"colorbar\": {\"outlinewidth\": 0, \"ticks\": \"\"}, \"colorscale\": [[0.0, \"#0d0887\"], [0.1111111111111111, \"#46039f\"], [0.2222222222222222, \"#7201a8\"], [0.3333333333333333, \"#9c179e\"], [0.4444444444444444, \"#bd3786\"], [0.5555555555555556, \"#d8576b\"], [0.6666666666666666, \"#ed7953\"], [0.7777777777777778, \"#fb9f3a\"], [0.8888888888888888, \"#fdca26\"], [1.0, \"#f0f921\"]], \"type\": \"histogram2dcontour\"}], \"mesh3d\": [{\"colorbar\": {\"outlinewidth\": 0, \"ticks\": \"\"}, \"type\": \"mesh3d\"}], \"parcoords\": [{\"line\": {\"colorbar\": {\"outlinewidth\": 0, \"ticks\": \"\"}}, \"type\": \"parcoords\"}], \"scatter\": [{\"marker\": {\"colorbar\": {\"outlinewidth\": 0, \"ticks\": \"\"}}, \"type\": \"scatter\"}], \"scatter3d\": [{\"line\": {\"colorbar\": {\"outlinewidth\": 0, \"ticks\": \"\"}}, \"marker\": {\"colorbar\": {\"outlinewidth\": 0, \"ticks\": \"\"}}, \"type\": \"scatter3d\"}], \"scattercarpet\": [{\"marker\": {\"colorbar\": {\"outlinewidth\": 0, \"ticks\": \"\"}}, \"type\": \"scattercarpet\"}], \"scattergeo\": [{\"marker\": {\"colorbar\": {\"outlinewidth\": 0, \"ticks\": \"\"}}, \"type\": \"scattergeo\"}], \"scattergl\": [{\"marker\": {\"colorbar\": {\"outlinewidth\": 0, \"ticks\": \"\"}}, \"type\": \"scattergl\"}], \"scattermapbox\": [{\"marker\": {\"colorbar\": {\"outlinewidth\": 0, \"ticks\": \"\"}}, \"type\": \"scattermapbox\"}], \"scatterpolar\": [{\"marker\": {\"colorbar\": {\"outlinewidth\": 0, \"ticks\": \"\"}}, \"type\": \"scatterpolar\"}], \"scatterpolargl\": [{\"marker\": {\"colorbar\": {\"outlinewidth\": 0, \"ticks\": \"\"}}, \"type\": \"scatterpolargl\"}], \"scatterternary\": [{\"marker\": {\"colorbar\": {\"outlinewidth\": 0, \"ticks\": \"\"}}, \"type\": \"scatterternary\"}], \"surface\": [{\"colorbar\": {\"outlinewidth\": 0, \"ticks\": \"\"}, \"colorscale\": [[0.0, \"#0d0887\"], [0.1111111111111111, \"#46039f\"], [0.2222222222222222, \"#7201a8\"], [0.3333333333333333, \"#9c179e\"], [0.4444444444444444, \"#bd3786\"], [0.5555555555555556, \"#d8576b\"], [0.6666666666666666, \"#ed7953\"], [0.7777777777777778, \"#fb9f3a\"], [0.8888888888888888, \"#fdca26\"], [1.0, \"#f0f921\"]], \"type\": \"surface\"}], \"table\": [{\"cells\": {\"fill\": {\"color\": \"#EBF0F8\"}, \"line\": {\"color\": \"white\"}}, \"header\": {\"fill\": {\"color\": \"#C8D4E3\"}, \"line\": {\"color\": \"white\"}}, \"type\": \"table\"}]}, \"layout\": {\"annotationdefaults\": {\"arrowcolor\": \"#2a3f5f\", \"arrowhead\": 0, \"arrowwidth\": 1}, \"colorscale\": {\"diverging\": [[0, \"#8e0152\"], [0.1, \"#c51b7d\"], [0.2, \"#de77ae\"], [0.3, \"#f1b6da\"], [0.4, \"#fde0ef\"], [0.5, \"#f7f7f7\"], [0.6, \"#e6f5d0\"], [0.7, \"#b8e186\"], [0.8, \"#7fbc41\"], [0.9, \"#4d9221\"], [1, \"#276419\"]], \"sequential\": [[0.0, \"#0d0887\"], [0.1111111111111111, \"#46039f\"], [0.2222222222222222, \"#7201a8\"], [0.3333333333333333, \"#9c179e\"], [0.4444444444444444, \"#bd3786\"], [0.5555555555555556, \"#d8576b\"], [0.6666666666666666, \"#ed7953\"], [0.7777777777777778, \"#fb9f3a\"], [0.8888888888888888, \"#fdca26\"], [1.0, \"#f0f921\"]], \"sequentialminus\": [[0.0, \"#0d0887\"], [0.1111111111111111, \"#46039f\"], [0.2222222222222222, \"#7201a8\"], [0.3333333333333333, \"#9c179e\"], [0.4444444444444444, \"#bd3786\"], [0.5555555555555556, \"#d8576b\"], [0.6666666666666666, \"#ed7953\"], [0.7777777777777778, \"#fb9f3a\"], [0.8888888888888888, \"#fdca26\"], [1.0, \"#f0f921\"]]}, \"colorway\": [\"#636efa\", \"#EF553B\", \"#00cc96\", \"#ab63fa\", \"#FFA15A\", \"#19d3f3\", \"#FF6692\", \"#B6E880\", \"#FF97FF\", \"#FECB52\"], \"font\": {\"color\": \"#2a3f5f\"}, \"geo\": {\"bgcolor\": \"white\", \"lakecolor\": \"white\", \"landcolor\": \"#E5ECF6\", \"showlakes\": true, \"showland\": true, \"subunitcolor\": \"white\"}, \"hoverlabel\": {\"align\": \"left\"}, \"hovermode\": \"closest\", \"mapbox\": {\"style\": \"light\"}, \"paper_bgcolor\": \"white\", \"plot_bgcolor\": \"#E5ECF6\", \"polar\": {\"angularaxis\": {\"gridcolor\": \"white\", \"linecolor\": \"white\", \"ticks\": \"\"}, \"bgcolor\": \"#E5ECF6\", \"radialaxis\": {\"gridcolor\": \"white\", \"linecolor\": \"white\", \"ticks\": \"\"}}, \"scene\": {\"xaxis\": {\"backgroundcolor\": \"#E5ECF6\", \"gridcolor\": \"white\", \"gridwidth\": 2, \"linecolor\": \"white\", \"showbackground\": true, \"ticks\": \"\", \"zerolinecolor\": \"white\"}, \"yaxis\": {\"backgroundcolor\": \"#E5ECF6\", \"gridcolor\": \"white\", \"gridwidth\": 2, \"linecolor\": \"white\", \"showbackground\": true, \"ticks\": \"\", \"zerolinecolor\": \"white\"}, \"zaxis\": {\"backgroundcolor\": \"#E5ECF6\", \"gridcolor\": \"white\", \"gridwidth\": 2, \"linecolor\": \"white\", \"showbackground\": true, \"ticks\": \"\", \"zerolinecolor\": \"white\"}}, \"shapedefaults\": {\"line\": {\"color\": \"#2a3f5f\"}}, \"ternary\": {\"aaxis\": {\"gridcolor\": \"white\", \"linecolor\": \"white\", \"ticks\": \"\"}, \"baxis\": {\"gridcolor\": \"white\", \"linecolor\": \"white\", \"ticks\": \"\"}, \"bgcolor\": \"#E5ECF6\", \"caxis\": {\"gridcolor\": \"white\", \"linecolor\": \"white\", \"ticks\": \"\"}}, \"title\": {\"x\": 0.05}, \"xaxis\": {\"automargin\": true, \"gridcolor\": \"white\", \"linecolor\": \"white\", \"ticks\": \"\", \"zerolinecolor\": \"white\", \"zerolinewidth\": 2}, \"yaxis\": {\"automargin\": true, \"gridcolor\": \"white\", \"linecolor\": \"white\", \"ticks\": \"\", \"zerolinecolor\": \"white\", \"zerolinewidth\": 2}}}, \"title\": {\"text\": \"Random Forest Feature Importance\"}, \"yaxis\": {\"gridwidth\": 2, \"ticklen\": 5, \"title\": {\"text\": \"Feature Importance\"}}},\n",
       "                        {\"responsive\": true}\n",
       "                    ).then(function(){\n",
       "                            \n",
       "var gd = document.getElementById('ba3d5abd-a28f-46c6-8027-4579c7a3af66');\n",
       "var x = new MutationObserver(function (mutations, observer) {{\n",
       "        var display = window.getComputedStyle(gd).display;\n",
       "        if (!display || display === 'none') {{\n",
       "            console.log([gd, 'removed!']);\n",
       "            Plotly.purge(gd);\n",
       "            observer.disconnect();\n",
       "        }}\n",
       "}});\n",
       "\n",
       "// Listen for the removal of the full notebook cells\n",
       "var notebookContainer = gd.closest('#notebook-container');\n",
       "if (notebookContainer) {{\n",
       "    x.observe(notebookContainer, {childList: true});\n",
       "}}\n",
       "\n",
       "// Listen for the clearing of the current output cell\n",
       "var outputEl = gd.closest('.output');\n",
       "if (outputEl) {{\n",
       "    x.observe(outputEl, {childList: true});\n",
       "}}\n",
       "\n",
       "                        })\n",
       "                };\n",
       "                });\n",
       "            </script>\n",
       "        </div>"
      ]
     },
     "metadata": {},
     "output_type": "display_data"
    },
    {
     "data": {
      "application/vnd.plotly.v1+json": {
       "config": {
        "linkText": "Export to plot.ly",
        "plotlyServerURL": "https://plot.ly",
        "showLink": false
       },
       "data": [
        {
         "marker": {
          "color": [
           -0.11105529758392998,
           -0.2923200298351649,
           -0.6477421351533977,
           -1.386877042697099,
           0.7196655809914138,
           -1.1498357091244245,
           0.3322404572484553,
           -1.9551737661592412,
           -0.9168563616432229,
           0.20837035058276676,
           -0.33479313296752433,
           -0.9102224286078124,
           0.7456475809514449,
           -0.15907802018683212,
           0.22493261758348002,
           0.2630854299585097,
           -0.8986810821933943,
           -2.140219629111162,
           0.2209934901006074,
           -0.12877866574697402,
           -0.7378977106718742,
           1.5859406955670523,
           -0.32870446684111276,
           -0.6053003052273422,
           0.8314995657035085,
           -0.3240413925981094,
           -1.2338392389368298,
           -0.6213660659269404,
           -0.3983715359035118,
           1.5098559441302737,
           1.6273170602245215,
           0.7725580684793028,
           -1.0835658713263083,
           0.4346957147993267,
           0.3407966444673746,
           0.5972672587161415,
           0.4908005880848382,
           1.1880022737751885,
           -0.0491936074429368,
           -1.3057470116601546,
           -0.31133069348439407,
           1.0812033088056734,
           -0.26277736402963187,
           0.8768180770125006,
           -0.929445008787959,
           0.4909344726180694,
           0.4276336798716747,
           0.33259650900855775,
           0.6362134028837167,
           0.9552269596529266,
           -1.7989460481142197,
           0.4919336133542929,
           0.08825970136810149,
           -0.4438650282873001,
           -2.087882824266498,
           0.6695884847778808,
           0.6861098482425331,
           0.36979682643992656,
           0.9309436785724663,
           -2.0105954853246826,
           0.48939020651294207,
           -1.7918427069053138,
           0.20714268853949175,
           0.08317359084635699,
           1.0931809419383705,
           0.48829927876318924,
           0.24422717277309558,
           0.7024570909078646,
           -0.5674711838510433,
           0.025266175320648638,
           0.7066139161678903,
           0.34305465680380737,
           0.9223410094972352,
           0.10530950475006333,
           0.5409886633222378,
           -0.30041106502036585,
           0.3631622108193101,
           0.7693918344162255,
           0.4814179284846968,
           0.12870825723684706,
           -0.14241655325808908,
           -0.8213099631650952,
           1.0761841686479454,
           -0.4346521639530179,
           -0.006260205935005482,
           -1.1954929656401352,
           0.7359841965848166,
           0.066830346350099,
           -1.2725540984086272,
           0.6490430736018162,
           -0.4470581332667927,
           -1.651515981416063,
           0.40550185938689187,
           -0.9146278295781483,
           -1.129990380340998,
           -1.67905486226276,
           -1.3798182079879606,
           0.931254715828862,
           -0.3228952858399608,
           -1.0304960027262453,
           -0.8361132246786033,
           -0.6792422194457147,
           0.7694553929102625,
           0.4138862265408116,
           -1.2564833862089226,
           -0.4605766351991167,
           -0.47924777282440073,
           -0.6152027466472063,
           0.13146139779482785,
           0.6329169085315602,
           -0.8619131337389744,
           3.3019330234130297,
           -0.5626469834390955,
           -1.4544232934033965,
           0.7059305927752212,
           0.07841401006503287,
           -0.8461462453289216,
           -0.8402619778163279,
           0.32444854333372186,
           -0.3910942160817213,
           -1.274546967604794,
           -0.42865037775698456,
           0.31521890631822747,
           -2.0939775183542877,
           2.575027265264172,
           0.011115065353552292,
           0.5330611558133453,
           -1.3019105349843183,
           -0.6320788776360854,
           1.1078252810871938,
           -0.9033212452407932,
           0.5784000458669666,
           0.2603531787235004,
           1.0389833461726676,
           0.0762513381746285,
           1.054573198372189,
           0.49004726705985463,
           0.31831950894889344,
           0.09393542927957418,
           -0.0037594998309732407,
           -1.0097361171900374,
           0.01178614513515013,
           -1.4140597425052648,
           -1.484900596713729,
           2.137373638228251,
           -0.17300649606642995,
           -0.48679840419947806,
           -2.0207243574275138,
           -2.3273641817828734,
           1.2505891595519834,
           -1.4922935950814868,
           0.774552584036371,
           -0.3887115326446612,
           -0.37888906908497866,
           2.0774284566870427,
           -0.3956936033033204,
           0.43763479756166773,
           -0.3308760286170309,
           -0.5759928227124353,
           -0.2833042069289724,
           -1.1986244820392569,
           0.27633057585894144,
           2.3275577570675545,
           0.514401296836859,
           -0.5564967694138077,
           0.7964040804344814,
           -0.21028197632044662,
           0.4594454869968969,
           0.009542968188968331,
           1.517959289024015,
           -0.5332836631586974,
           0.19864406523645098,
           -0.26534032908436034,
           -1.9895409363488064,
           0.8477412346296599,
           -0.5599066231074837,
           0.5471245122629044,
           -0.33577328953422264,
           0.2695922756578749,
           0.24052345834701883,
           -1.4969006985047266,
           -0.5329198160553693,
           -1.1968375331597207,
           0.1255646008618227,
           -0.6994845414323578,
           0.3906539318629439,
           -0.461475781836718,
           0.2462380647614235,
           0.5876902058741584,
           1.9462100600623229,
           0.11990093730255785,
           1.2047136480341136,
           -0.40916145519072256,
           0.47154371035129933,
           -0.7527941323555464,
           -0.5520009509612632,
           1.6822663351197766,
           0.1357691460348686,
           -0.15794400134467523,
           0.5783130864781608,
           -0.16486441622909712,
           -0.9527484214766285,
           -1.3057888119248333,
           0.9296435886760152,
           0.31847179276075444,
           0.027098951874695534,
           0.04786438536701328,
           -0.31471361067397896,
           0.3246271145143591,
           0.8027552816524776,
           -0.37385393745690537,
           0.7062287739002236,
           -2.161109736891572,
           -0.7210306535085055,
           -0.2983972580487401,
           1.2994448836044885,
           -0.9156087194748694,
           0.07107136818783473,
           -0.21211277878097795,
           -0.22984180166177964,
           -1.9887187573423188,
           -0.8558792560893281,
           0.5748478257988971,
           -0.925963691885211,
           -0.5774937572304014,
           0.050580986509735304,
           0.8463479623378907,
           -0.4775708529584687,
           0.9416543901775197,
           0.7116509535193589,
           0.43011826108651385,
           0.8259430948359643,
           -0.8351430470548173,
           -0.7632370259043305,
           0.41973602460679593,
           1.1279931972055686,
           0.35641614351915984,
           2.063062360881289,
           -0.6628742951908833,
           -0.4522641077012951,
           0.7509084386357295,
           -0.07929173672490512,
           1.8333999546989819,
           0.18048087906049656,
           -0.612726163540122,
           0.25315958961901536,
           0.3147099935258091,
           1.0976033541640768,
           0.17901619506113092,
           -0.8138294567698976,
           1.6136990948735925,
           -0.12105831882572315,
           1.0963537394538188,
           1.5056687231076409,
           2.5657017860946754,
           -1.1814188520494724,
           -1.4036062691925817,
           -0.5936743003235952,
           -1.5251784747895036,
           -0.9961245453965429,
           0.13854450959598377,
           0.22724422372866634,
           2.1149225564737133,
           2.132728646431984,
           0.8623907412104301,
           -1.2863552198097974,
           0.36448689971714426,
           -0.49588170499437734,
           -0.8337079692683641,
           -0.3661283160710671,
           -0.881802075226618,
           1.2478846757141053,
           1.4257752025858337,
           -0.8243441228708441,
           -0.6630264662529878,
           0.8139414120017048,
           -1.8370688152781283,
           0.8154511274488757,
           0.08119122453879672,
           0.21936219036750848,
           0.3219340114969051,
           -1.367971284895183,
           0.024230011616635187,
           -0.48111000783357954,
           2.3528333354047297,
           0.03362869059842295,
           0.839255415157272,
           -2.958298560964698,
           -0.5952590693241303,
           -0.5241240518934627,
           0.13031802412897087,
           -0.80726536163603,
           -0.16700689206764024,
           -0.055922520919295296,
           -1.340629099961877,
           -0.021673115162106713,
           0.06512920308106425,
           2.7632364028756298,
           -1.6214746441675045,
           -0.585250130494108,
           1.0514164523046505,
           -0.4216239239614966,
           1.657685006162846,
           0.5199816747179522,
           -0.6074802227454075,
           -0.82350759207875,
           -1.73106128776861,
           0.2665210765285604,
           -1.7858203279409566,
           -0.493386926106348,
           1.084677259734001,
           -0.2648046192134761,
           -0.5023701019901755,
           -0.3063958660200597,
           -0.4386061908868358,
           1.5101285364500514,
           -1.2904236041699375,
           -1.2179921414353452,
           -1.1569322912395539,
           0.30788402950606014,
           -1.1642241927351917,
           -1.3393571968885007,
           0.30930719036395554,
           -0.8659225944646289,
           -1.090416340455088,
           -0.3117602606444439,
           0.9998250846175677,
           0.8675089945687829,
           0.5538800895310839,
           -1.3045128760400835,
           0.6936776939822584,
           -0.7630179937429955,
           0.2863459431551939,
           -0.16008436698995737,
           -0.757739856844735,
           1.2571257383615144,
           0.62984893273468,
           0.39649866242710174,
           0.259227403521647,
           -0.3882714280228605,
           -0.2495223166767512,
           -0.7653694835013355,
           1.4044466900836912,
           -0.44490136573025146,
           -1.3588389920771022,
           2.1422213796026828,
           0.7754267986470734,
           -0.6018109402655353,
           0.8339335919531641,
           2.2686450157662943,
           -1.7034184153558394,
           -1.4800916550097385,
           -0.17842037366811825,
           0.3987311270681713,
           0.30666952131835534,
           -1.7401261669502248,
           2.8698098134748338,
           0.2003283623984241,
           0.1395351802385916,
           -1.2628128722989849,
           0.09129059147161253,
           2.196840822547389,
           0.697365556599184,
           0.8344730885644824,
           -0.5649230702369167,
           -0.7214486925336189,
           0.38362986655112713,
           0.5291435202942755,
           1.6185957018398103,
           -1.0989871405792213,
           1.0950737679053684,
           -0.7724555685913331,
           -1.5196493066756231,
           -0.8022805344719409,
           0.23661043049051772,
           -1.6067192959041974,
           -0.3516096197173032,
           0.6086357328862416,
           1.2089370640472867,
           -0.16890452359566968,
           1.2730585895465885,
           -2.1824644312736163,
           -1.2049060969278416,
           0.031695512296009885,
           0.05469629730268976,
           0.27162725908494056,
           -0.27699724403420667,
           -1.3384668280518068,
           -0.5724855545843118,
           -0.6554779312679841,
           -1.4917080563473217,
           -0.8195097287898379,
           0.10689090764788,
           -0.08591589829582437,
           2.122546045959573,
           -0.07857461504918947,
           -0.1558128445986887,
           0.7598751532560747,
           0.01730286716386125,
           0.5883490066863462,
           0.8786255071829903,
           -0.06914271055056774,
           -0.14748995560155206,
           0.568777667196504,
           1.873119911270638,
           0.0408597178610688,
           1.2487509697016208,
           0.4234510782680167,
           -0.6963982677238019,
           0.440043927992394,
           -1.2026359240065223,
           -1.1575814967465823,
           0.025044105640753687,
           -0.31658717958319543,
           0.05535663615850908,
           0.6113679636319643,
           -0.5796438805587834,
           0.7790684844388255,
           0.4819580393554621,
           -1.1180500451574764,
           -0.8486021177379779,
           -1.7564136525942573,
           1.36172363484989,
           -0.7607071432272948,
           0.3401954029211508,
           1.8635106021715224,
           -1.1288652833986423,
           0.05050917416553085,
           0.3218986568462199,
           -2.1501107867430167,
           -1.6822410162117318,
           0.7465134174667939,
           0.7623672004447718,
           1.1535068117842708,
           0.2386353363333918,
           -0.4706739915206887,
           -0.8965090900689083,
           0.4342333944093473,
           2.400991645746382,
           1.0228065598526352,
           -0.5417490542495742,
           -0.8950592387842327,
           0.5266314767694761,
           -1.699823118407382,
           -0.145395070924028,
           0.07531263626783086,
           -1.719162714786118,
           -0.11201096758459235,
           -0.41308679767989404,
           0.7421466514873244,
           -1.6585538314165789,
           0.34277654938003166,
           0.3059560851221425,
           -1.1486383736832575,
           1.0052391469268496,
           -0.9997819464642234,
           0.8517592715536662,
           -0.6246241820853168,
           -1.1580717213826146,
           0.7479642321013773,
           -0.5162963716404868,
           -1.2816607053964624,
           1.059607565258486,
           0.6146787853479913,
           -0.13086350256813795,
           1.0020336752878094,
           -0.08735199023513834,
           -2.0827163786982426,
           -0.12582922919378448,
           0.1890096263706588,
           -0.9842212967798621,
           1.053819998658941,
           -1.3300533025555767,
           0.43560332445757477,
           0.9391622033131286,
           -1.5282253110217017,
           1.4361861902225446,
           -1.7726208785059796,
           0.30580986753295897,
           0.3637906687660853,
           -1.0425738254917323,
           -3.1193535793766203,
           1.0302361607517494,
           1.4921752887994417,
           0.9475093913770944,
           0.7923944210043411,
           0.45160697625668567,
           -0.6082637118928501,
           -1.5550819123791684,
           1.0559576348526334,
           -1.7740682598038575,
           0.7024237599645042,
           -0.3006353245744534,
           -1.226740149311113,
           0.0631301326061739,
           -0.8625672790584472,
           0.40165332316887076,
           0.23501152854699162,
           -0.6454062842654923,
           -0.6594020650132904
          ],
          "colorscale": [
           [
            0,
            "rgb(12,51,131)"
           ],
           [
            0.25,
            "rgb(10,136,186)"
           ],
           [
            0.5,
            "rgb(242,211,56)"
           ],
           [
            0.75,
            "rgb(242,143,56)"
           ],
           [
            1,
            "rgb(217,30,30)"
           ]
          ],
          "showscale": true,
          "size": 25,
          "sizemode": "diameter",
          "sizeref": 1
         },
         "mode": "markers",
         "text": [
          "login_cnt",
          "quest_cnt",
          "sigle_match_cnt",
          "team_match_cnt",
          "play_cnt",
          "avg_kill",
          "avg_hurt",
          "avg_livetime",
          "rank",
          "spend_money",
          "friend_add",
          "friend_del",
          "tier",
          "game_time",
          "register_day",
          "lonely_rate",
          "crate_use",
          "bp",
          "free_fuck"
         ],
         "type": "scatter",
         "x": [
          "login_cnt",
          "quest_cnt",
          "sigle_match_cnt",
          "team_match_cnt",
          "play_cnt",
          "avg_kill",
          "avg_hurt",
          "avg_livetime",
          "rank",
          "spend_money",
          "friend_add",
          "friend_del",
          "tier",
          "game_time",
          "register_day",
          "lonely_rate",
          "crate_use",
          "bp",
          "free_fuck"
         ],
         "y": [
          0.06269587600556892,
          0.08965018725330334,
          0.020915579677394044,
          0.10431314262606903,
          0.16957559551701673,
          0.015850274181748017,
          0.00551648517985011,
          0.004649043436419216,
          0.015967565057325234,
          0.004720798653497103,
          0.0030992325389479817,
          0.0013284506659290126,
          0.09352938601229648,
          0.21469058455109186,
          0.005405148805403279,
          0.004992731195176277,
          0.10782720773378561,
          0.001372115067860954,
          0.07390059584131697
         ]
        }
       ],
       "layout": {
        "autosize": true,
        "hovermode": "closest",
        "showlegend": false,
        "template": {
         "data": {
          "bar": [
           {
            "error_x": {
             "color": "#2a3f5f"
            },
            "error_y": {
             "color": "#2a3f5f"
            },
            "marker": {
             "line": {
              "color": "#E5ECF6",
              "width": 0.5
             }
            },
            "type": "bar"
           }
          ],
          "barpolar": [
           {
            "marker": {
             "line": {
              "color": "#E5ECF6",
              "width": 0.5
             }
            },
            "type": "barpolar"
           }
          ],
          "carpet": [
           {
            "aaxis": {
             "endlinecolor": "#2a3f5f",
             "gridcolor": "white",
             "linecolor": "white",
             "minorgridcolor": "white",
             "startlinecolor": "#2a3f5f"
            },
            "baxis": {
             "endlinecolor": "#2a3f5f",
             "gridcolor": "white",
             "linecolor": "white",
             "minorgridcolor": "white",
             "startlinecolor": "#2a3f5f"
            },
            "type": "carpet"
           }
          ],
          "choropleth": [
           {
            "colorbar": {
             "outlinewidth": 0,
             "ticks": ""
            },
            "type": "choropleth"
           }
          ],
          "contour": [
           {
            "colorbar": {
             "outlinewidth": 0,
             "ticks": ""
            },
            "colorscale": [
             [
              0,
              "#0d0887"
             ],
             [
              0.1111111111111111,
              "#46039f"
             ],
             [
              0.2222222222222222,
              "#7201a8"
             ],
             [
              0.3333333333333333,
              "#9c179e"
             ],
             [
              0.4444444444444444,
              "#bd3786"
             ],
             [
              0.5555555555555556,
              "#d8576b"
             ],
             [
              0.6666666666666666,
              "#ed7953"
             ],
             [
              0.7777777777777778,
              "#fb9f3a"
             ],
             [
              0.8888888888888888,
              "#fdca26"
             ],
             [
              1,
              "#f0f921"
             ]
            ],
            "type": "contour"
           }
          ],
          "contourcarpet": [
           {
            "colorbar": {
             "outlinewidth": 0,
             "ticks": ""
            },
            "type": "contourcarpet"
           }
          ],
          "heatmap": [
           {
            "colorbar": {
             "outlinewidth": 0,
             "ticks": ""
            },
            "colorscale": [
             [
              0,
              "#0d0887"
             ],
             [
              0.1111111111111111,
              "#46039f"
             ],
             [
              0.2222222222222222,
              "#7201a8"
             ],
             [
              0.3333333333333333,
              "#9c179e"
             ],
             [
              0.4444444444444444,
              "#bd3786"
             ],
             [
              0.5555555555555556,
              "#d8576b"
             ],
             [
              0.6666666666666666,
              "#ed7953"
             ],
             [
              0.7777777777777778,
              "#fb9f3a"
             ],
             [
              0.8888888888888888,
              "#fdca26"
             ],
             [
              1,
              "#f0f921"
             ]
            ],
            "type": "heatmap"
           }
          ],
          "heatmapgl": [
           {
            "colorbar": {
             "outlinewidth": 0,
             "ticks": ""
            },
            "colorscale": [
             [
              0,
              "#0d0887"
             ],
             [
              0.1111111111111111,
              "#46039f"
             ],
             [
              0.2222222222222222,
              "#7201a8"
             ],
             [
              0.3333333333333333,
              "#9c179e"
             ],
             [
              0.4444444444444444,
              "#bd3786"
             ],
             [
              0.5555555555555556,
              "#d8576b"
             ],
             [
              0.6666666666666666,
              "#ed7953"
             ],
             [
              0.7777777777777778,
              "#fb9f3a"
             ],
             [
              0.8888888888888888,
              "#fdca26"
             ],
             [
              1,
              "#f0f921"
             ]
            ],
            "type": "heatmapgl"
           }
          ],
          "histogram": [
           {
            "marker": {
             "colorbar": {
              "outlinewidth": 0,
              "ticks": ""
             }
            },
            "type": "histogram"
           }
          ],
          "histogram2d": [
           {
            "colorbar": {
             "outlinewidth": 0,
             "ticks": ""
            },
            "colorscale": [
             [
              0,
              "#0d0887"
             ],
             [
              0.1111111111111111,
              "#46039f"
             ],
             [
              0.2222222222222222,
              "#7201a8"
             ],
             [
              0.3333333333333333,
              "#9c179e"
             ],
             [
              0.4444444444444444,
              "#bd3786"
             ],
             [
              0.5555555555555556,
              "#d8576b"
             ],
             [
              0.6666666666666666,
              "#ed7953"
             ],
             [
              0.7777777777777778,
              "#fb9f3a"
             ],
             [
              0.8888888888888888,
              "#fdca26"
             ],
             [
              1,
              "#f0f921"
             ]
            ],
            "type": "histogram2d"
           }
          ],
          "histogram2dcontour": [
           {
            "colorbar": {
             "outlinewidth": 0,
             "ticks": ""
            },
            "colorscale": [
             [
              0,
              "#0d0887"
             ],
             [
              0.1111111111111111,
              "#46039f"
             ],
             [
              0.2222222222222222,
              "#7201a8"
             ],
             [
              0.3333333333333333,
              "#9c179e"
             ],
             [
              0.4444444444444444,
              "#bd3786"
             ],
             [
              0.5555555555555556,
              "#d8576b"
             ],
             [
              0.6666666666666666,
              "#ed7953"
             ],
             [
              0.7777777777777778,
              "#fb9f3a"
             ],
             [
              0.8888888888888888,
              "#fdca26"
             ],
             [
              1,
              "#f0f921"
             ]
            ],
            "type": "histogram2dcontour"
           }
          ],
          "mesh3d": [
           {
            "colorbar": {
             "outlinewidth": 0,
             "ticks": ""
            },
            "type": "mesh3d"
           }
          ],
          "parcoords": [
           {
            "line": {
             "colorbar": {
              "outlinewidth": 0,
              "ticks": ""
             }
            },
            "type": "parcoords"
           }
          ],
          "scatter": [
           {
            "marker": {
             "colorbar": {
              "outlinewidth": 0,
              "ticks": ""
             }
            },
            "type": "scatter"
           }
          ],
          "scatter3d": [
           {
            "line": {
             "colorbar": {
              "outlinewidth": 0,
              "ticks": ""
             }
            },
            "marker": {
             "colorbar": {
              "outlinewidth": 0,
              "ticks": ""
             }
            },
            "type": "scatter3d"
           }
          ],
          "scattercarpet": [
           {
            "marker": {
             "colorbar": {
              "outlinewidth": 0,
              "ticks": ""
             }
            },
            "type": "scattercarpet"
           }
          ],
          "scattergeo": [
           {
            "marker": {
             "colorbar": {
              "outlinewidth": 0,
              "ticks": ""
             }
            },
            "type": "scattergeo"
           }
          ],
          "scattergl": [
           {
            "marker": {
             "colorbar": {
              "outlinewidth": 0,
              "ticks": ""
             }
            },
            "type": "scattergl"
           }
          ],
          "scattermapbox": [
           {
            "marker": {
             "colorbar": {
              "outlinewidth": 0,
              "ticks": ""
             }
            },
            "type": "scattermapbox"
           }
          ],
          "scatterpolar": [
           {
            "marker": {
             "colorbar": {
              "outlinewidth": 0,
              "ticks": ""
             }
            },
            "type": "scatterpolar"
           }
          ],
          "scatterpolargl": [
           {
            "marker": {
             "colorbar": {
              "outlinewidth": 0,
              "ticks": ""
             }
            },
            "type": "scatterpolargl"
           }
          ],
          "scatterternary": [
           {
            "marker": {
             "colorbar": {
              "outlinewidth": 0,
              "ticks": ""
             }
            },
            "type": "scatterternary"
           }
          ],
          "surface": [
           {
            "colorbar": {
             "outlinewidth": 0,
             "ticks": ""
            },
            "colorscale": [
             [
              0,
              "#0d0887"
             ],
             [
              0.1111111111111111,
              "#46039f"
             ],
             [
              0.2222222222222222,
              "#7201a8"
             ],
             [
              0.3333333333333333,
              "#9c179e"
             ],
             [
              0.4444444444444444,
              "#bd3786"
             ],
             [
              0.5555555555555556,
              "#d8576b"
             ],
             [
              0.6666666666666666,
              "#ed7953"
             ],
             [
              0.7777777777777778,
              "#fb9f3a"
             ],
             [
              0.8888888888888888,
              "#fdca26"
             ],
             [
              1,
              "#f0f921"
             ]
            ],
            "type": "surface"
           }
          ],
          "table": [
           {
            "cells": {
             "fill": {
              "color": "#EBF0F8"
             },
             "line": {
              "color": "white"
             }
            },
            "header": {
             "fill": {
              "color": "#C8D4E3"
             },
             "line": {
              "color": "white"
             }
            },
            "type": "table"
           }
          ]
         },
         "layout": {
          "annotationdefaults": {
           "arrowcolor": "#2a3f5f",
           "arrowhead": 0,
           "arrowwidth": 1
          },
          "colorscale": {
           "diverging": [
            [
             0,
             "#8e0152"
            ],
            [
             0.1,
             "#c51b7d"
            ],
            [
             0.2,
             "#de77ae"
            ],
            [
             0.3,
             "#f1b6da"
            ],
            [
             0.4,
             "#fde0ef"
            ],
            [
             0.5,
             "#f7f7f7"
            ],
            [
             0.6,
             "#e6f5d0"
            ],
            [
             0.7,
             "#b8e186"
            ],
            [
             0.8,
             "#7fbc41"
            ],
            [
             0.9,
             "#4d9221"
            ],
            [
             1,
             "#276419"
            ]
           ],
           "sequential": [
            [
             0,
             "#0d0887"
            ],
            [
             0.1111111111111111,
             "#46039f"
            ],
            [
             0.2222222222222222,
             "#7201a8"
            ],
            [
             0.3333333333333333,
             "#9c179e"
            ],
            [
             0.4444444444444444,
             "#bd3786"
            ],
            [
             0.5555555555555556,
             "#d8576b"
            ],
            [
             0.6666666666666666,
             "#ed7953"
            ],
            [
             0.7777777777777778,
             "#fb9f3a"
            ],
            [
             0.8888888888888888,
             "#fdca26"
            ],
            [
             1,
             "#f0f921"
            ]
           ],
           "sequentialminus": [
            [
             0,
             "#0d0887"
            ],
            [
             0.1111111111111111,
             "#46039f"
            ],
            [
             0.2222222222222222,
             "#7201a8"
            ],
            [
             0.3333333333333333,
             "#9c179e"
            ],
            [
             0.4444444444444444,
             "#bd3786"
            ],
            [
             0.5555555555555556,
             "#d8576b"
            ],
            [
             0.6666666666666666,
             "#ed7953"
            ],
            [
             0.7777777777777778,
             "#fb9f3a"
            ],
            [
             0.8888888888888888,
             "#fdca26"
            ],
            [
             1,
             "#f0f921"
            ]
           ]
          },
          "colorway": [
           "#636efa",
           "#EF553B",
           "#00cc96",
           "#ab63fa",
           "#FFA15A",
           "#19d3f3",
           "#FF6692",
           "#B6E880",
           "#FF97FF",
           "#FECB52"
          ],
          "font": {
           "color": "#2a3f5f"
          },
          "geo": {
           "bgcolor": "white",
           "lakecolor": "white",
           "landcolor": "#E5ECF6",
           "showlakes": true,
           "showland": true,
           "subunitcolor": "white"
          },
          "hoverlabel": {
           "align": "left"
          },
          "hovermode": "closest",
          "mapbox": {
           "style": "light"
          },
          "paper_bgcolor": "white",
          "plot_bgcolor": "#E5ECF6",
          "polar": {
           "angularaxis": {
            "gridcolor": "white",
            "linecolor": "white",
            "ticks": ""
           },
           "bgcolor": "#E5ECF6",
           "radialaxis": {
            "gridcolor": "white",
            "linecolor": "white",
            "ticks": ""
           }
          },
          "scene": {
           "xaxis": {
            "backgroundcolor": "#E5ECF6",
            "gridcolor": "white",
            "gridwidth": 2,
            "linecolor": "white",
            "showbackground": true,
            "ticks": "",
            "zerolinecolor": "white"
           },
           "yaxis": {
            "backgroundcolor": "#E5ECF6",
            "gridcolor": "white",
            "gridwidth": 2,
            "linecolor": "white",
            "showbackground": true,
            "ticks": "",
            "zerolinecolor": "white"
           },
           "zaxis": {
            "backgroundcolor": "#E5ECF6",
            "gridcolor": "white",
            "gridwidth": 2,
            "linecolor": "white",
            "showbackground": true,
            "ticks": "",
            "zerolinecolor": "white"
           }
          },
          "shapedefaults": {
           "line": {
            "color": "#2a3f5f"
           }
          },
          "ternary": {
           "aaxis": {
            "gridcolor": "white",
            "linecolor": "white",
            "ticks": ""
           },
           "baxis": {
            "gridcolor": "white",
            "linecolor": "white",
            "ticks": ""
           },
           "bgcolor": "#E5ECF6",
           "caxis": {
            "gridcolor": "white",
            "linecolor": "white",
            "ticks": ""
           }
          },
          "title": {
           "x": 0.05
          },
          "xaxis": {
           "automargin": true,
           "gridcolor": "white",
           "linecolor": "white",
           "ticks": "",
           "zerolinecolor": "white",
           "zerolinewidth": 2
          },
          "yaxis": {
           "automargin": true,
           "gridcolor": "white",
           "linecolor": "white",
           "ticks": "",
           "zerolinecolor": "white",
           "zerolinewidth": 2
          }
         }
        },
        "title": {
         "text": "Extra Trees Feature Importance"
        },
        "yaxis": {
         "gridwidth": 2,
         "ticklen": 5,
         "title": {
          "text": "Feature Importance"
         }
        }
       }
      },
      "text/html": [
       "<div>\n",
       "        \n",
       "        \n",
       "            <div id=\"f6c815c1-658b-467a-b418-d9688b55f262\" class=\"plotly-graph-div\" style=\"height:525px; width:100%;\"></div>\n",
       "            <script type=\"text/javascript\">\n",
       "                require([\"plotly\"], function(Plotly) {\n",
       "                    window.PLOTLYENV=window.PLOTLYENV || {};\n",
       "                    \n",
       "                if (document.getElementById(\"f6c815c1-658b-467a-b418-d9688b55f262\")) {\n",
       "                    Plotly.newPlot(\n",
       "                        'f6c815c1-658b-467a-b418-d9688b55f262',\n",
       "                        [{\"marker\": {\"color\": [-0.11105529758392998, -0.2923200298351649, -0.6477421351533977, -1.386877042697099, 0.7196655809914138, -1.1498357091244245, 0.3322404572484553, -1.9551737661592412, -0.9168563616432229, 0.20837035058276676, -0.33479313296752433, -0.9102224286078124, 0.7456475809514449, -0.15907802018683212, 0.22493261758348002, 0.2630854299585097, -0.8986810821933943, -2.140219629111162, 0.2209934901006074, -0.12877866574697402, -0.7378977106718742, 1.5859406955670523, -0.32870446684111276, -0.6053003052273422, 0.8314995657035085, -0.3240413925981094, -1.2338392389368298, -0.6213660659269404, -0.3983715359035118, 1.5098559441302737, 1.6273170602245215, 0.7725580684793028, -1.0835658713263083, 0.4346957147993267, 0.3407966444673746, 0.5972672587161415, 0.4908005880848382, 1.1880022737751885, -0.0491936074429368, -1.3057470116601546, -0.31133069348439407, 1.0812033088056734, -0.26277736402963187, 0.8768180770125006, -0.929445008787959, 0.4909344726180694, 0.4276336798716747, 0.33259650900855775, 0.6362134028837167, 0.9552269596529266, -1.7989460481142197, 0.4919336133542929, 0.08825970136810149, -0.4438650282873001, -2.087882824266498, 0.6695884847778808, 0.6861098482425331, 0.36979682643992656, 0.9309436785724663, -2.0105954853246826, 0.48939020651294207, -1.7918427069053138, 0.20714268853949175, 0.08317359084635699, 1.0931809419383705, 0.48829927876318924, 0.24422717277309558, 0.7024570909078646, -0.5674711838510433, 0.025266175320648638, 0.7066139161678903, 0.34305465680380737, 0.9223410094972352, 0.10530950475006333, 0.5409886633222378, -0.30041106502036585, 0.3631622108193101, 0.7693918344162255, 0.4814179284846968, 0.12870825723684706, -0.14241655325808908, -0.8213099631650952, 1.0761841686479454, -0.4346521639530179, -0.006260205935005482, -1.1954929656401352, 0.7359841965848166, 0.066830346350099, -1.2725540984086272, 0.6490430736018162, -0.4470581332667927, -1.651515981416063, 0.40550185938689187, -0.9146278295781483, -1.129990380340998, -1.67905486226276, -1.3798182079879606, 0.931254715828862, -0.3228952858399608, -1.0304960027262453, -0.8361132246786033, -0.6792422194457147, 0.7694553929102625, 0.4138862265408116, -1.2564833862089226, -0.4605766351991167, -0.47924777282440073, -0.6152027466472063, 0.13146139779482785, 0.6329169085315602, -0.8619131337389744, 3.3019330234130297, -0.5626469834390955, -1.4544232934033965, 0.7059305927752212, 0.07841401006503287, -0.8461462453289216, -0.8402619778163279, 0.32444854333372186, -0.3910942160817213, -1.274546967604794, -0.42865037775698456, 0.31521890631822747, -2.0939775183542877, 2.575027265264172, 0.011115065353552292, 0.5330611558133453, -1.3019105349843183, -0.6320788776360854, 1.1078252810871938, -0.9033212452407932, 0.5784000458669666, 0.2603531787235004, 1.0389833461726676, 0.0762513381746285, 1.054573198372189, 0.49004726705985463, 0.31831950894889344, 0.09393542927957418, -0.0037594998309732407, -1.0097361171900374, 0.01178614513515013, -1.4140597425052648, -1.484900596713729, 2.137373638228251, -0.17300649606642995, -0.48679840419947806, -2.0207243574275138, -2.3273641817828734, 1.2505891595519834, -1.4922935950814868, 0.774552584036371, -0.3887115326446612, -0.37888906908497866, 2.0774284566870427, -0.3956936033033204, 0.43763479756166773, -0.3308760286170309, -0.5759928227124353, -0.2833042069289724, -1.1986244820392569, 0.27633057585894144, 2.3275577570675545, 0.514401296836859, -0.5564967694138077, 0.7964040804344814, -0.21028197632044662, 0.4594454869968969, 0.009542968188968331, 1.517959289024015, -0.5332836631586974, 0.19864406523645098, -0.26534032908436034, -1.9895409363488064, 0.8477412346296599, -0.5599066231074837, 0.5471245122629044, -0.33577328953422264, 0.2695922756578749, 0.24052345834701883, -1.4969006985047266, -0.5329198160553693, -1.1968375331597207, 0.1255646008618227, -0.6994845414323578, 0.3906539318629439, -0.461475781836718, 0.2462380647614235, 0.5876902058741584, 1.9462100600623229, 0.11990093730255785, 1.2047136480341136, -0.40916145519072256, 0.47154371035129933, -0.7527941323555464, -0.5520009509612632, 1.6822663351197766, 0.1357691460348686, -0.15794400134467523, 0.5783130864781608, -0.16486441622909712, -0.9527484214766285, -1.3057888119248333, 0.9296435886760152, 0.31847179276075444, 0.027098951874695534, 0.04786438536701328, -0.31471361067397896, 0.3246271145143591, 0.8027552816524776, -0.37385393745690537, 0.7062287739002236, -2.161109736891572, -0.7210306535085055, -0.2983972580487401, 1.2994448836044885, -0.9156087194748694, 0.07107136818783473, -0.21211277878097795, -0.22984180166177964, -1.9887187573423188, -0.8558792560893281, 0.5748478257988971, -0.925963691885211, -0.5774937572304014, 0.050580986509735304, 0.8463479623378907, -0.4775708529584687, 0.9416543901775197, 0.7116509535193589, 0.43011826108651385, 0.8259430948359643, -0.8351430470548173, -0.7632370259043305, 0.41973602460679593, 1.1279931972055686, 0.35641614351915984, 2.063062360881289, -0.6628742951908833, -0.4522641077012951, 0.7509084386357295, -0.07929173672490512, 1.8333999546989819, 0.18048087906049656, -0.612726163540122, 0.25315958961901536, 0.3147099935258091, 1.0976033541640768, 0.17901619506113092, -0.8138294567698976, 1.6136990948735925, -0.12105831882572315, 1.0963537394538188, 1.5056687231076409, 2.5657017860946754, -1.1814188520494724, -1.4036062691925817, -0.5936743003235952, -1.5251784747895036, -0.9961245453965429, 0.13854450959598377, 0.22724422372866634, 2.1149225564737133, 2.132728646431984, 0.8623907412104301, -1.2863552198097974, 0.36448689971714426, -0.49588170499437734, -0.8337079692683641, -0.3661283160710671, -0.881802075226618, 1.2478846757141053, 1.4257752025858337, -0.8243441228708441, -0.6630264662529878, 0.8139414120017048, -1.8370688152781283, 0.8154511274488757, 0.08119122453879672, 0.21936219036750848, 0.3219340114969051, -1.367971284895183, 0.024230011616635187, -0.48111000783357954, 2.3528333354047297, 0.03362869059842295, 0.839255415157272, -2.958298560964698, -0.5952590693241303, -0.5241240518934627, 0.13031802412897087, -0.80726536163603, -0.16700689206764024, -0.055922520919295296, -1.340629099961877, -0.021673115162106713, 0.06512920308106425, 2.7632364028756298, -1.6214746441675045, -0.585250130494108, 1.0514164523046505, -0.4216239239614966, 1.657685006162846, 0.5199816747179522, -0.6074802227454075, -0.82350759207875, -1.73106128776861, 0.2665210765285604, -1.7858203279409566, -0.493386926106348, 1.084677259734001, -0.2648046192134761, -0.5023701019901755, -0.3063958660200597, -0.4386061908868358, 1.5101285364500514, -1.2904236041699375, -1.2179921414353452, -1.1569322912395539, 0.30788402950606014, -1.1642241927351917, -1.3393571968885007, 0.30930719036395554, -0.8659225944646289, -1.090416340455088, -0.3117602606444439, 0.9998250846175677, 0.8675089945687829, 0.5538800895310839, -1.3045128760400835, 0.6936776939822584, -0.7630179937429955, 0.2863459431551939, -0.16008436698995737, -0.757739856844735, 1.2571257383615144, 0.62984893273468, 0.39649866242710174, 0.259227403521647, -0.3882714280228605, -0.2495223166767512, -0.7653694835013355, 1.4044466900836912, -0.44490136573025146, -1.3588389920771022, 2.1422213796026828, 0.7754267986470734, -0.6018109402655353, 0.8339335919531641, 2.2686450157662943, -1.7034184153558394, -1.4800916550097385, -0.17842037366811825, 0.3987311270681713, 0.30666952131835534, -1.7401261669502248, 2.8698098134748338, 0.2003283623984241, 0.1395351802385916, -1.2628128722989849, 0.09129059147161253, 2.196840822547389, 0.697365556599184, 0.8344730885644824, -0.5649230702369167, -0.7214486925336189, 0.38362986655112713, 0.5291435202942755, 1.6185957018398103, -1.0989871405792213, 1.0950737679053684, -0.7724555685913331, -1.5196493066756231, -0.8022805344719409, 0.23661043049051772, -1.6067192959041974, -0.3516096197173032, 0.6086357328862416, 1.2089370640472867, -0.16890452359566968, 1.2730585895465885, -2.1824644312736163, -1.2049060969278416, 0.031695512296009885, 0.05469629730268976, 0.27162725908494056, -0.27699724403420667, -1.3384668280518068, -0.5724855545843118, -0.6554779312679841, -1.4917080563473217, -0.8195097287898379, 0.10689090764788, -0.08591589829582437, 2.122546045959573, -0.07857461504918947, -0.1558128445986887, 0.7598751532560747, 0.01730286716386125, 0.5883490066863462, 0.8786255071829903, -0.06914271055056774, -0.14748995560155206, 0.568777667196504, 1.873119911270638, 0.0408597178610688, 1.2487509697016208, 0.4234510782680167, -0.6963982677238019, 0.440043927992394, -1.2026359240065223, -1.1575814967465823, 0.025044105640753687, -0.31658717958319543, 0.05535663615850908, 0.6113679636319643, -0.5796438805587834, 0.7790684844388255, 0.4819580393554621, -1.1180500451574764, -0.8486021177379779, -1.7564136525942573, 1.36172363484989, -0.7607071432272948, 0.3401954029211508, 1.8635106021715224, -1.1288652833986423, 0.05050917416553085, 0.3218986568462199, -2.1501107867430167, -1.6822410162117318, 0.7465134174667939, 0.7623672004447718, 1.1535068117842708, 0.2386353363333918, -0.4706739915206887, -0.8965090900689083, 0.4342333944093473, 2.400991645746382, 1.0228065598526352, -0.5417490542495742, -0.8950592387842327, 0.5266314767694761, -1.699823118407382, -0.145395070924028, 0.07531263626783086, -1.719162714786118, -0.11201096758459235, -0.41308679767989404, 0.7421466514873244, -1.6585538314165789, 0.34277654938003166, 0.3059560851221425, -1.1486383736832575, 1.0052391469268496, -0.9997819464642234, 0.8517592715536662, -0.6246241820853168, -1.1580717213826146, 0.7479642321013773, -0.5162963716404868, -1.2816607053964624, 1.059607565258486, 0.6146787853479913, -0.13086350256813795, 1.0020336752878094, -0.08735199023513834, -2.0827163786982426, -0.12582922919378448, 0.1890096263706588, -0.9842212967798621, 1.053819998658941, -1.3300533025555767, 0.43560332445757477, 0.9391622033131286, -1.5282253110217017, 1.4361861902225446, -1.7726208785059796, 0.30580986753295897, 0.3637906687660853, -1.0425738254917323, -3.1193535793766203, 1.0302361607517494, 1.4921752887994417, 0.9475093913770944, 0.7923944210043411, 0.45160697625668567, -0.6082637118928501, -1.5550819123791684, 1.0559576348526334, -1.7740682598038575, 0.7024237599645042, -0.3006353245744534, -1.226740149311113, 0.0631301326061739, -0.8625672790584472, 0.40165332316887076, 0.23501152854699162, -0.6454062842654923, -0.6594020650132904], \"colorscale\": [[0.0, \"rgb(12,51,131)\"], [0.25, \"rgb(10,136,186)\"], [0.5, \"rgb(242,211,56)\"], [0.75, \"rgb(242,143,56)\"], [1.0, \"rgb(217,30,30)\"]], \"showscale\": true, \"size\": 25, \"sizemode\": \"diameter\", \"sizeref\": 1}, \"mode\": \"markers\", \"text\": [\"login_cnt\", \"quest_cnt\", \"sigle_match_cnt\", \"team_match_cnt\", \"play_cnt\", \"avg_kill\", \"avg_hurt\", \"avg_livetime\", \"rank\", \"spend_money\", \"friend_add\", \"friend_del\", \"tier\", \"game_time\", \"register_day\", \"lonely_rate\", \"crate_use\", \"bp\", \"free_fuck\"], \"type\": \"scatter\", \"x\": [\"login_cnt\", \"quest_cnt\", \"sigle_match_cnt\", \"team_match_cnt\", \"play_cnt\", \"avg_kill\", \"avg_hurt\", \"avg_livetime\", \"rank\", \"spend_money\", \"friend_add\", \"friend_del\", \"tier\", \"game_time\", \"register_day\", \"lonely_rate\", \"crate_use\", \"bp\", \"free_fuck\"], \"y\": [0.06269587600556892, 0.08965018725330334, 0.020915579677394044, 0.10431314262606903, 0.16957559551701673, 0.015850274181748017, 0.00551648517985011, 0.004649043436419216, 0.015967565057325234, 0.004720798653497103, 0.0030992325389479817, 0.0013284506659290126, 0.09352938601229648, 0.21469058455109186, 0.005405148805403279, 0.004992731195176277, 0.10782720773378561, 0.001372115067860954, 0.07390059584131697]}],\n",
       "                        {\"autosize\": true, \"hovermode\": \"closest\", \"showlegend\": false, \"template\": {\"data\": {\"bar\": [{\"error_x\": {\"color\": \"#2a3f5f\"}, \"error_y\": {\"color\": \"#2a3f5f\"}, \"marker\": {\"line\": {\"color\": \"#E5ECF6\", \"width\": 0.5}}, \"type\": \"bar\"}], \"barpolar\": [{\"marker\": {\"line\": {\"color\": \"#E5ECF6\", \"width\": 0.5}}, \"type\": \"barpolar\"}], \"carpet\": [{\"aaxis\": {\"endlinecolor\": \"#2a3f5f\", \"gridcolor\": \"white\", \"linecolor\": \"white\", \"minorgridcolor\": \"white\", \"startlinecolor\": \"#2a3f5f\"}, \"baxis\": {\"endlinecolor\": \"#2a3f5f\", \"gridcolor\": \"white\", \"linecolor\": \"white\", \"minorgridcolor\": \"white\", \"startlinecolor\": \"#2a3f5f\"}, \"type\": \"carpet\"}], \"choropleth\": [{\"colorbar\": {\"outlinewidth\": 0, \"ticks\": \"\"}, \"type\": \"choropleth\"}], \"contour\": [{\"colorbar\": {\"outlinewidth\": 0, \"ticks\": \"\"}, \"colorscale\": [[0.0, \"#0d0887\"], [0.1111111111111111, \"#46039f\"], [0.2222222222222222, \"#7201a8\"], [0.3333333333333333, \"#9c179e\"], [0.4444444444444444, \"#bd3786\"], [0.5555555555555556, \"#d8576b\"], [0.6666666666666666, \"#ed7953\"], [0.7777777777777778, \"#fb9f3a\"], [0.8888888888888888, \"#fdca26\"], [1.0, \"#f0f921\"]], \"type\": \"contour\"}], \"contourcarpet\": [{\"colorbar\": {\"outlinewidth\": 0, \"ticks\": \"\"}, \"type\": \"contourcarpet\"}], \"heatmap\": [{\"colorbar\": {\"outlinewidth\": 0, \"ticks\": \"\"}, \"colorscale\": [[0.0, \"#0d0887\"], [0.1111111111111111, \"#46039f\"], [0.2222222222222222, \"#7201a8\"], [0.3333333333333333, \"#9c179e\"], [0.4444444444444444, \"#bd3786\"], [0.5555555555555556, \"#d8576b\"], [0.6666666666666666, \"#ed7953\"], [0.7777777777777778, \"#fb9f3a\"], [0.8888888888888888, \"#fdca26\"], [1.0, \"#f0f921\"]], \"type\": \"heatmap\"}], \"heatmapgl\": [{\"colorbar\": {\"outlinewidth\": 0, \"ticks\": \"\"}, \"colorscale\": [[0.0, \"#0d0887\"], [0.1111111111111111, \"#46039f\"], [0.2222222222222222, \"#7201a8\"], [0.3333333333333333, \"#9c179e\"], [0.4444444444444444, \"#bd3786\"], [0.5555555555555556, \"#d8576b\"], [0.6666666666666666, \"#ed7953\"], [0.7777777777777778, \"#fb9f3a\"], [0.8888888888888888, \"#fdca26\"], [1.0, \"#f0f921\"]], \"type\": \"heatmapgl\"}], \"histogram\": [{\"marker\": {\"colorbar\": {\"outlinewidth\": 0, \"ticks\": \"\"}}, \"type\": \"histogram\"}], \"histogram2d\": [{\"colorbar\": {\"outlinewidth\": 0, \"ticks\": \"\"}, \"colorscale\": [[0.0, \"#0d0887\"], [0.1111111111111111, \"#46039f\"], [0.2222222222222222, \"#7201a8\"], [0.3333333333333333, \"#9c179e\"], [0.4444444444444444, \"#bd3786\"], [0.5555555555555556, \"#d8576b\"], [0.6666666666666666, \"#ed7953\"], [0.7777777777777778, \"#fb9f3a\"], [0.8888888888888888, \"#fdca26\"], [1.0, \"#f0f921\"]], \"type\": \"histogram2d\"}], \"histogram2dcontour\": [{\"colorbar\": {\"outlinewidth\": 0, \"ticks\": \"\"}, \"colorscale\": [[0.0, \"#0d0887\"], [0.1111111111111111, \"#46039f\"], [0.2222222222222222, \"#7201a8\"], [0.3333333333333333, \"#9c179e\"], [0.4444444444444444, \"#bd3786\"], [0.5555555555555556, \"#d8576b\"], [0.6666666666666666, \"#ed7953\"], [0.7777777777777778, \"#fb9f3a\"], [0.8888888888888888, \"#fdca26\"], [1.0, \"#f0f921\"]], \"type\": \"histogram2dcontour\"}], \"mesh3d\": [{\"colorbar\": {\"outlinewidth\": 0, \"ticks\": \"\"}, \"type\": \"mesh3d\"}], \"parcoords\": [{\"line\": {\"colorbar\": {\"outlinewidth\": 0, \"ticks\": \"\"}}, \"type\": \"parcoords\"}], \"scatter\": [{\"marker\": {\"colorbar\": {\"outlinewidth\": 0, \"ticks\": \"\"}}, \"type\": \"scatter\"}], \"scatter3d\": [{\"line\": {\"colorbar\": {\"outlinewidth\": 0, \"ticks\": \"\"}}, \"marker\": {\"colorbar\": {\"outlinewidth\": 0, \"ticks\": \"\"}}, \"type\": \"scatter3d\"}], \"scattercarpet\": [{\"marker\": {\"colorbar\": {\"outlinewidth\": 0, \"ticks\": \"\"}}, \"type\": \"scattercarpet\"}], \"scattergeo\": [{\"marker\": {\"colorbar\": {\"outlinewidth\": 0, \"ticks\": \"\"}}, \"type\": \"scattergeo\"}], \"scattergl\": [{\"marker\": {\"colorbar\": {\"outlinewidth\": 0, \"ticks\": \"\"}}, \"type\": \"scattergl\"}], \"scattermapbox\": [{\"marker\": {\"colorbar\": {\"outlinewidth\": 0, \"ticks\": \"\"}}, \"type\": \"scattermapbox\"}], \"scatterpolar\": [{\"marker\": {\"colorbar\": {\"outlinewidth\": 0, \"ticks\": \"\"}}, \"type\": \"scatterpolar\"}], \"scatterpolargl\": [{\"marker\": {\"colorbar\": {\"outlinewidth\": 0, \"ticks\": \"\"}}, \"type\": \"scatterpolargl\"}], \"scatterternary\": [{\"marker\": {\"colorbar\": {\"outlinewidth\": 0, \"ticks\": \"\"}}, \"type\": \"scatterternary\"}], \"surface\": [{\"colorbar\": {\"outlinewidth\": 0, \"ticks\": \"\"}, \"colorscale\": [[0.0, \"#0d0887\"], [0.1111111111111111, \"#46039f\"], [0.2222222222222222, \"#7201a8\"], [0.3333333333333333, \"#9c179e\"], [0.4444444444444444, \"#bd3786\"], [0.5555555555555556, \"#d8576b\"], [0.6666666666666666, \"#ed7953\"], [0.7777777777777778, \"#fb9f3a\"], [0.8888888888888888, \"#fdca26\"], [1.0, \"#f0f921\"]], \"type\": \"surface\"}], \"table\": [{\"cells\": {\"fill\": {\"color\": \"#EBF0F8\"}, \"line\": {\"color\": \"white\"}}, \"header\": {\"fill\": {\"color\": \"#C8D4E3\"}, \"line\": {\"color\": \"white\"}}, \"type\": \"table\"}]}, \"layout\": {\"annotationdefaults\": {\"arrowcolor\": \"#2a3f5f\", \"arrowhead\": 0, \"arrowwidth\": 1}, \"colorscale\": {\"diverging\": [[0, \"#8e0152\"], [0.1, \"#c51b7d\"], [0.2, \"#de77ae\"], [0.3, \"#f1b6da\"], [0.4, \"#fde0ef\"], [0.5, \"#f7f7f7\"], [0.6, \"#e6f5d0\"], [0.7, \"#b8e186\"], [0.8, \"#7fbc41\"], [0.9, \"#4d9221\"], [1, \"#276419\"]], \"sequential\": [[0.0, \"#0d0887\"], [0.1111111111111111, \"#46039f\"], [0.2222222222222222, \"#7201a8\"], [0.3333333333333333, \"#9c179e\"], [0.4444444444444444, \"#bd3786\"], [0.5555555555555556, \"#d8576b\"], [0.6666666666666666, \"#ed7953\"], [0.7777777777777778, \"#fb9f3a\"], [0.8888888888888888, \"#fdca26\"], [1.0, \"#f0f921\"]], \"sequentialminus\": [[0.0, \"#0d0887\"], [0.1111111111111111, \"#46039f\"], [0.2222222222222222, \"#7201a8\"], [0.3333333333333333, \"#9c179e\"], [0.4444444444444444, \"#bd3786\"], [0.5555555555555556, \"#d8576b\"], [0.6666666666666666, \"#ed7953\"], [0.7777777777777778, \"#fb9f3a\"], [0.8888888888888888, \"#fdca26\"], [1.0, \"#f0f921\"]]}, \"colorway\": [\"#636efa\", \"#EF553B\", \"#00cc96\", \"#ab63fa\", \"#FFA15A\", \"#19d3f3\", \"#FF6692\", \"#B6E880\", \"#FF97FF\", \"#FECB52\"], \"font\": {\"color\": \"#2a3f5f\"}, \"geo\": {\"bgcolor\": \"white\", \"lakecolor\": \"white\", \"landcolor\": \"#E5ECF6\", \"showlakes\": true, \"showland\": true, \"subunitcolor\": \"white\"}, \"hoverlabel\": {\"align\": \"left\"}, \"hovermode\": \"closest\", \"mapbox\": {\"style\": \"light\"}, \"paper_bgcolor\": \"white\", \"plot_bgcolor\": \"#E5ECF6\", \"polar\": {\"angularaxis\": {\"gridcolor\": \"white\", \"linecolor\": \"white\", \"ticks\": \"\"}, \"bgcolor\": \"#E5ECF6\", \"radialaxis\": {\"gridcolor\": \"white\", \"linecolor\": \"white\", \"ticks\": \"\"}}, \"scene\": {\"xaxis\": {\"backgroundcolor\": \"#E5ECF6\", \"gridcolor\": \"white\", \"gridwidth\": 2, \"linecolor\": \"white\", \"showbackground\": true, \"ticks\": \"\", \"zerolinecolor\": \"white\"}, \"yaxis\": {\"backgroundcolor\": \"#E5ECF6\", \"gridcolor\": \"white\", \"gridwidth\": 2, \"linecolor\": \"white\", \"showbackground\": true, \"ticks\": \"\", \"zerolinecolor\": \"white\"}, \"zaxis\": {\"backgroundcolor\": \"#E5ECF6\", \"gridcolor\": \"white\", \"gridwidth\": 2, \"linecolor\": \"white\", \"showbackground\": true, \"ticks\": \"\", \"zerolinecolor\": \"white\"}}, \"shapedefaults\": {\"line\": {\"color\": \"#2a3f5f\"}}, \"ternary\": {\"aaxis\": {\"gridcolor\": \"white\", \"linecolor\": \"white\", \"ticks\": \"\"}, \"baxis\": {\"gridcolor\": \"white\", \"linecolor\": \"white\", \"ticks\": \"\"}, \"bgcolor\": \"#E5ECF6\", \"caxis\": {\"gridcolor\": \"white\", \"linecolor\": \"white\", \"ticks\": \"\"}}, \"title\": {\"x\": 0.05}, \"xaxis\": {\"automargin\": true, \"gridcolor\": \"white\", \"linecolor\": \"white\", \"ticks\": \"\", \"zerolinecolor\": \"white\", \"zerolinewidth\": 2}, \"yaxis\": {\"automargin\": true, \"gridcolor\": \"white\", \"linecolor\": \"white\", \"ticks\": \"\", \"zerolinecolor\": \"white\", \"zerolinewidth\": 2}}}, \"title\": {\"text\": \"Extra Trees Feature Importance\"}, \"yaxis\": {\"gridwidth\": 2, \"ticklen\": 5, \"title\": {\"text\": \"Feature Importance\"}}},\n",
       "                        {\"responsive\": true}\n",
       "                    ).then(function(){\n",
       "                            \n",
       "var gd = document.getElementById('f6c815c1-658b-467a-b418-d9688b55f262');\n",
       "var x = new MutationObserver(function (mutations, observer) {{\n",
       "        var display = window.getComputedStyle(gd).display;\n",
       "        if (!display || display === 'none') {{\n",
       "            console.log([gd, 'removed!']);\n",
       "            Plotly.purge(gd);\n",
       "            observer.disconnect();\n",
       "        }}\n",
       "}});\n",
       "\n",
       "// Listen for the removal of the full notebook cells\n",
       "var notebookContainer = gd.closest('#notebook-container');\n",
       "if (notebookContainer) {{\n",
       "    x.observe(notebookContainer, {childList: true});\n",
       "}}\n",
       "\n",
       "// Listen for the clearing of the current output cell\n",
       "var outputEl = gd.closest('.output');\n",
       "if (outputEl) {{\n",
       "    x.observe(outputEl, {childList: true});\n",
       "}}\n",
       "\n",
       "                        })\n",
       "                };\n",
       "                });\n",
       "            </script>\n",
       "        </div>"
      ]
     },
     "metadata": {},
     "output_type": "display_data"
    },
    {
     "data": {
      "application/vnd.plotly.v1+json": {
       "config": {
        "linkText": "Export to plot.ly",
        "plotlyServerURL": "https://plot.ly",
        "showLink": false
       },
       "data": [
        {
         "marker": {
          "color": [
           -0.5153851758971913,
           -0.275197046629471,
           1.0934574282095855,
           2.2015318724547552,
           0.014885251491837444,
           0.18383434112119618,
           -0.9849594095255472,
           -0.2984242445904768,
           -0.3462170135750405,
           0.46450219003384513,
           -2.0675012526097283,
           0.3192637789237696,
           0.0006640604615462817,
           0.5604005591149094,
           0.12947961296507807,
           0.9449992892857305,
           -0.2006222857020394,
           0.5716887794625051,
           -1.9740110708572307,
           -1.011593289410234,
           1.4520347995103884,
           0.009025245676624234,
           1.0811396764509573,
           0.011507747175997859,
           -0.45453078029750443,
           0.9312613730908083,
           3.0717385009360823,
           0.17811967618964786,
           0.2502278289642253,
           -1.3522037521850248,
           0.4857080114578442,
           -0.6653885275884491,
           -1.6966386960489706,
           -0.9987665262339939,
           -0.5414788515344058,
           -1.488165828263529,
           0.8934790949465847,
           -0.6449908881078635,
           -0.9771583209612935,
           -0.3052614062568207,
           -1.1072997309889925,
           -2.271541069818791,
           -0.6843398948230046,
           1.2623453207463065,
           -0.3940289880208929,
           0.7563908601447697,
           -0.3704794562906278,
           -0.1128263676740435,
           0.03619869111988983,
           -1.6321442479627055,
           -1.480606401344375,
           0.09454572697777068,
           -0.2281947599997143,
           -1.035596823051484,
           1.2918990905414975,
           1.0780978939293475,
           1.2267081274284628,
           -0.6484351295395377,
           1.4014868639090885,
           0.4179067793213072,
           0.825633218144217,
           -0.9075122647635057,
           -0.30967511365271116,
           -0.3757088092919578,
           1.2615876326673783,
           -0.723094247188753,
           -1.794900296186887,
           0.209207492922202,
           1.901954349088711,
           -1.3056878624190258,
           -0.06104298693089073,
           1.7029193899580315,
           -1.079646831677547,
           -0.6861862481451895,
           -0.0006128358314522783,
           0.3028006940050837,
           -0.7878387468450935,
           0.16503363589524758,
           -1.401892363787789,
           -0.016342243243285072,
           -0.3190161644783483,
           0.43354438668425976,
           -0.27948516666244033,
           -1.2285814315208043,
           -1.3843832791810675,
           -0.08804328143137267,
           -0.4528003692952483,
           1.1194829779221553,
           1.306352833600024,
           -1.4402552275875007,
           0.7151173635255855,
           1.2518656328993025,
           0.0932676410637551,
           0.019950275944094865,
           -1.5617475886239836,
           -0.2530845693317376,
           -0.5152787871213362,
           1.0637060589365344,
           0.4333706361463515,
           -0.3332627523659882,
           -0.3342867123128097,
           0.8457998358713186,
           0.17041276334946565,
           0.1167684791876148,
           -0.48647136875410024,
           0.024995237576348514,
           -0.2938103073546238,
           1.1109140490277862,
           0.39983339324080075,
           -0.37998861579885085,
           0.7964632060357006,
           1.0435172411125557,
           -0.4176878787658053,
           -0.39814119352487953,
           -2.318924963516084,
           1.0191501954481232,
           0.252273971958309,
           1.105565595823227,
           -0.8816217337880857,
           0.768304911023159,
           -0.8817517192238163,
           0.17960938880940008,
           -0.2366515169656537,
           -1.6098481977620311,
           -0.7510481287909201,
           -0.2890141381221055,
           0.2641437811846239,
           0.5909609150841864,
           0.01657412324116388,
           -1.3645376814632448,
           -0.8444992447175584,
           -1.071309969325901,
           -0.6859951872037995,
           -0.010005353390905773,
           0.46284052145317933,
           0.35870550533810747,
           -1.359572643257741,
           -0.21692370544606376,
           0.5072074187046167,
           0.6614829802986608,
           0.6581214679044074,
           0.6877408982087462,
           -0.9703610759691861,
           0.8549960977898796,
           -1.32426659450636,
           0.5399386604376014,
           1.681895810123898,
           0.6246377226129475,
           0.6932628721476133,
           1.0084241313620017,
           -1.0341163490873944,
           -1.244810883394818,
           -0.2630490765583508,
           3.109991920513348,
           -0.3208301260339639,
           -0.22168814133370315,
           0.11254585956532404,
           -0.284223758748552,
           -0.4792125113317117,
           -0.5968007605522198,
           0.9955377625841934,
           -1.0755341073063551,
           1.096588772593126,
           1.6670674834778785,
           1.0809911227551443,
           -1.8570558018361696,
           0.6220598160032346,
           0.7164726384117128,
           -0.8079360523269226,
           -0.548512113446642,
           0.010670627626991122,
           1.1770362914485328,
           -0.762160375459242,
           0.658087317002227,
           1.392798938923734,
           -1.2685930119756446,
           1.5793177304366794,
           0.97431955857163,
           0.8676403608236837,
           0.223753024843369,
           -0.3877109126420487,
           0.5855875945315726,
           -0.12252493703981514,
           -0.5149871427118711,
           -0.2087711417893669,
           -1.9601473676410175,
           -0.29289492154980445,
           -1.2438995787455307,
           -0.5294233775278138,
           0.1037367421304726,
           1.6697410225405194,
           -0.8450462799813399,
           1.5840734236739529,
           -0.6806576791139398,
           -1.157336465634272,
           -0.5977378981060416,
           -1.7660188189024195,
           0.13237494579267248,
           0.2769904606915415,
           0.5003305326761667,
           0.13254876053480522,
           0.6879287427470312,
           -0.9000939249479709,
           0.4715901146726753,
           0.8908272622874013,
           -1.8912621017646367,
           -0.5649951659958846,
           1.6311533701730836,
           -1.0010996843828792,
           0.09430461190525688,
           1.429561733517019,
           -0.8197214718210335,
           0.023478378275970626,
           0.6492635124372431,
           -1.2184095814984761,
           0.25616453317879195,
           0.4085266129404742,
           0.9049228620942066,
           0.5375374774919853,
           -1.7810518217407907,
           0.12167653721527026,
           -0.05426468872752999,
           0.8923477404718458,
           0.5979035742198875,
           0.38073586510331703,
           0.32044126997611905,
           0.8160263330807747,
           -1.0517604790098858,
           0.1612179375178716,
           -1.3055777730577673,
           0.04788141067555548,
           2.276278072487214,
           0.38217312896455835,
           1.9268787312838291,
           -1.322114992045255,
           2.2869288617007633,
           -0.47567237336891743,
           -1.4010424995934252,
           -0.8001433549724533,
           0.08262319240330064,
           -0.7372037649798582,
           1.5094638602699015,
           0.1326433645232864,
           1.9121068840168416,
           1.2286938510803405,
           -1.4638902154360096,
           0.43474378637399397,
           0.17930816290193252,
           1.0730018001517874,
           -1.001260532887203,
           0.7182002322368578,
           -1.9042290262290422,
           0.04782818383361632,
           1.347957211154342,
           0.056612258898897795,
           -0.6338498264440545,
           0.502414064657543,
           1.1985933768738792,
           0.25315201522425346,
           -0.39335207411143774,
           -1.0196285614402991,
           1.6122668250886263,
           -0.8857832191509498,
           2.019729590364214,
           -0.7580614201171545,
           0.8672824146143575,
           0.7019648232651663,
           -0.24479054102855408,
           1.234696698939883,
           0.7197175107606468,
           1.4922584791888205,
           0.11168623711032911,
           0.3533320435021701,
           -1.0351787287531398,
           0.05474048367976296,
           1.0657960091032943,
           -2.212949878818746,
           0.6478550479276421,
           -0.3268121902726553,
           0.7106133725399921,
           0.9895855093794269,
           0.2999809128971409,
           -0.770561390673952,
           0.1211691857481596,
           0.06102554387476807,
           1.2836385604539062,
           -0.36643303030274554,
           -0.498823839837298,
           1.4347933383949136,
           -0.0033370286949406867,
           -0.08321075201766502,
           -0.15134602443835127,
           -0.14873276588184828,
           0.24308788155559546,
           1.007489177452327,
           -0.786902501135633,
           -1.2076496895290916,
           3.1832014980206376,
           0.2968539848342819,
           -1.0356320028343946,
           -0.532290989838982,
           -0.5388712850671888,
           1.7059446615712206,
           -1.8307093502333613,
           0.04620321504410562,
           -0.14730448198657994,
           0.48019607871320696,
           0.8947285178430213,
           -0.3740784313037179,
           -0.00693372176888802,
           1.480003657261497,
           0.5184648401538277,
           0.46041991605370447,
           0.2767680155495722,
           0.20515266872804416,
           0.0723356213931486,
           -0.9593090508671884,
           -0.18358699863721092,
           -0.26782594672616,
           0.02270524303530312,
           -1.1479191347379782,
           -0.28783911977398924,
           -0.21842852990931236,
           -0.10794493650449077,
           0.5748800399230359,
           -0.09346437162015944,
           -0.6886370696774918,
           -0.1972937544137325,
           -1.8619588278583241,
           1.321748039959151,
           1.7554931676633823,
           -0.23740678629523745,
           -0.26837486035212554,
           1.1340833272706758,
           -1.1130796369962155,
           0.37604757723255866,
           0.1633336722575973,
           0.03890759804850116,
           -0.22764419333326755,
           1.3075032567200342,
           0.3234190374469454,
           0.5296319653990917,
           0.8756576459220888,
           1.2175187168513266,
           -0.43406125987943067,
           1.5605441828338629,
           0.22870465405238702,
           0.29320584399977817,
           -0.2862175517264918,
           1.0587604181520676,
           0.89646628192986,
           -1.4389180282750367,
           -1.027988835277267,
           0.6165949075904226,
           1.3117649247262675,
           -0.06657429923355401,
           0.694618026510001,
           -1.3831951997926604,
           -2.024813396817069,
           -1.3881012632014322,
           1.3806544123685769,
           0.19174152871823155,
           -0.05891619136143238,
           -1.011038086492196,
           -0.8802601570116106,
           -1.2612880258673165,
           -1.128053714488941,
           -1.0396198007593223,
           -2.1037339439554685,
           -1.1720967836064111,
           -1.8625118305848005,
           0.7705687285569092,
           -0.6817389407225867,
           0.9706813423451155,
           -1.8449024849479942,
           0.2131507131826778,
           0.07667573554290283,
           1.030511600598369,
           0.8605498762549005,
           -0.8731168463426512,
           -0.48128210799134485,
           0.34091066958634936,
           -0.18432131997720483,
           0.13087288708722508,
           -0.20035922970946857,
           0.03969772449462859,
           0.5904785250378086,
           0.30515090946190404,
           1.2840798570501488,
           -2.02122490745385,
           1.66106631858243,
           -0.39487750010255057,
           1.2407508606297086,
           0.20484639957510004,
           -0.912275164139721,
           0.5588645684651893,
           1.2081399563274688,
           1.074032837349184,
           0.6813810777395392,
           -2.098871140816047,
           0.9388139567415932,
           -1.0847565618947226,
           -0.39877946123958735,
           0.2855568180132999,
           0.19502395108489207,
           0.16006450513528173,
           -1.0540430943173142,
           0.18804549707743057,
           0.4194911749000556,
           0.41107369528734267,
           -0.2397240969382244,
           0.533648192028498,
           -0.9895633380622308,
           -1.433398298580458,
           0.23271915412208774,
           -0.5727011462555015,
           2.6922891793923966,
           -0.2650283246948408,
           -1.8874957561586114,
           -0.19150197312827,
           0.6537399738589543,
           -0.012594400398778545,
           -1.2325799615693769,
           -1.402883263813466,
           0.26860658453620834,
           -1.4916089049004793,
           -0.5572332939091,
           -0.42549544736713335,
           0.10102655471846883,
           0.3577479310592287,
           -0.14823440131253393,
           -0.31610723807508095,
           0.9520428408893757,
           0.251543886991961,
           -1.0084742886822293,
           0.8609511986202971,
           -0.939736812828792,
           -0.2061924707906752,
           1.7418074908884327,
           0.02702772202290954,
           0.1651281643086002,
           -0.2419994752574216,
           0.06146413611516794,
           -2.3108071881330545,
           -0.9544910871299171,
           -0.7774333121012721,
           1.4643029591617416,
           0.047396277985784316,
           -1.1125430067330724,
           -0.025845345780849266,
           -0.026129789864886198,
           0.5113071470153817,
           0.3719084921249627,
           0.15080714837538048,
           -0.7314936468077535,
           0.5519368062827416,
           -0.8281303728942302,
           0.00747210612436196,
           0.3302493424749732,
           0.5433131410700465,
           -0.4112046705253901,
           -0.3591514887704482,
           1.140962893119235,
           -2.180532069296059,
           -1.0592570244685626,
           1.4655343667523226,
           1.3942035298344768,
           1.1910745108635656,
           -1.8566502524076178,
           0.5175204839540658,
           1.427923374553364,
           -0.5853529753377985,
           0.40473548748964394,
           1.9869791977801625,
           -2.7184433908824164,
           -1.190101597382972,
           0.13087422048747113,
           -0.5954096835736912,
           -0.8741096344906409,
           1.798786321174007,
           -1.3684579616264863,
           -0.8557068686509581,
           -1.249427388439007,
           -0.8205967167122054,
           0.6731386804722106,
           0.6759586511648249,
           -0.36380234196985306,
           0.9948724314306133,
           0.011395496884441478,
           0.6604359126289315,
           -0.892415413837937,
           -0.4021036681249866,
           0.34863461689700304,
           -0.9470106072473554,
           -0.0657880355463682,
           -1.3053574642065944,
           -0.9498485256007829,
           -0.84410979438667,
           0.6486051338527624,
           -0.40863112078265057
          ],
          "colorscale": [
           [
            0,
            "rgb(12,51,131)"
           ],
           [
            0.25,
            "rgb(10,136,186)"
           ],
           [
            0.5,
            "rgb(242,211,56)"
           ],
           [
            0.75,
            "rgb(242,143,56)"
           ],
           [
            1,
            "rgb(217,30,30)"
           ]
          ],
          "showscale": true,
          "size": 25,
          "sizemode": "diameter",
          "sizeref": 1
         },
         "mode": "markers",
         "text": [
          "login_cnt",
          "quest_cnt",
          "sigle_match_cnt",
          "team_match_cnt",
          "play_cnt",
          "avg_kill",
          "avg_hurt",
          "avg_livetime",
          "rank",
          "spend_money",
          "friend_add",
          "friend_del",
          "tier",
          "game_time",
          "register_day",
          "lonely_rate",
          "crate_use",
          "bp",
          "free_fuck"
         ],
         "type": "scatter",
         "x": [
          "login_cnt",
          "quest_cnt",
          "sigle_match_cnt",
          "team_match_cnt",
          "play_cnt",
          "avg_kill",
          "avg_hurt",
          "avg_livetime",
          "rank",
          "spend_money",
          "friend_add",
          "friend_del",
          "tier",
          "game_time",
          "register_day",
          "lonely_rate",
          "crate_use",
          "bp",
          "free_fuck"
         ],
         "y": [
          0.054,
          0.046,
          0.092,
          0.038,
          0.046,
          0.028,
          0.05,
          0.024,
          0.006,
          0.01,
          0.022,
          0.032,
          0.044,
          0.116,
          0.032,
          0.276,
          0.072,
          0.002,
          0.01
         ]
        }
       ],
       "layout": {
        "autosize": true,
        "hovermode": "closest",
        "showlegend": false,
        "template": {
         "data": {
          "bar": [
           {
            "error_x": {
             "color": "#2a3f5f"
            },
            "error_y": {
             "color": "#2a3f5f"
            },
            "marker": {
             "line": {
              "color": "#E5ECF6",
              "width": 0.5
             }
            },
            "type": "bar"
           }
          ],
          "barpolar": [
           {
            "marker": {
             "line": {
              "color": "#E5ECF6",
              "width": 0.5
             }
            },
            "type": "barpolar"
           }
          ],
          "carpet": [
           {
            "aaxis": {
             "endlinecolor": "#2a3f5f",
             "gridcolor": "white",
             "linecolor": "white",
             "minorgridcolor": "white",
             "startlinecolor": "#2a3f5f"
            },
            "baxis": {
             "endlinecolor": "#2a3f5f",
             "gridcolor": "white",
             "linecolor": "white",
             "minorgridcolor": "white",
             "startlinecolor": "#2a3f5f"
            },
            "type": "carpet"
           }
          ],
          "choropleth": [
           {
            "colorbar": {
             "outlinewidth": 0,
             "ticks": ""
            },
            "type": "choropleth"
           }
          ],
          "contour": [
           {
            "colorbar": {
             "outlinewidth": 0,
             "ticks": ""
            },
            "colorscale": [
             [
              0,
              "#0d0887"
             ],
             [
              0.1111111111111111,
              "#46039f"
             ],
             [
              0.2222222222222222,
              "#7201a8"
             ],
             [
              0.3333333333333333,
              "#9c179e"
             ],
             [
              0.4444444444444444,
              "#bd3786"
             ],
             [
              0.5555555555555556,
              "#d8576b"
             ],
             [
              0.6666666666666666,
              "#ed7953"
             ],
             [
              0.7777777777777778,
              "#fb9f3a"
             ],
             [
              0.8888888888888888,
              "#fdca26"
             ],
             [
              1,
              "#f0f921"
             ]
            ],
            "type": "contour"
           }
          ],
          "contourcarpet": [
           {
            "colorbar": {
             "outlinewidth": 0,
             "ticks": ""
            },
            "type": "contourcarpet"
           }
          ],
          "heatmap": [
           {
            "colorbar": {
             "outlinewidth": 0,
             "ticks": ""
            },
            "colorscale": [
             [
              0,
              "#0d0887"
             ],
             [
              0.1111111111111111,
              "#46039f"
             ],
             [
              0.2222222222222222,
              "#7201a8"
             ],
             [
              0.3333333333333333,
              "#9c179e"
             ],
             [
              0.4444444444444444,
              "#bd3786"
             ],
             [
              0.5555555555555556,
              "#d8576b"
             ],
             [
              0.6666666666666666,
              "#ed7953"
             ],
             [
              0.7777777777777778,
              "#fb9f3a"
             ],
             [
              0.8888888888888888,
              "#fdca26"
             ],
             [
              1,
              "#f0f921"
             ]
            ],
            "type": "heatmap"
           }
          ],
          "heatmapgl": [
           {
            "colorbar": {
             "outlinewidth": 0,
             "ticks": ""
            },
            "colorscale": [
             [
              0,
              "#0d0887"
             ],
             [
              0.1111111111111111,
              "#46039f"
             ],
             [
              0.2222222222222222,
              "#7201a8"
             ],
             [
              0.3333333333333333,
              "#9c179e"
             ],
             [
              0.4444444444444444,
              "#bd3786"
             ],
             [
              0.5555555555555556,
              "#d8576b"
             ],
             [
              0.6666666666666666,
              "#ed7953"
             ],
             [
              0.7777777777777778,
              "#fb9f3a"
             ],
             [
              0.8888888888888888,
              "#fdca26"
             ],
             [
              1,
              "#f0f921"
             ]
            ],
            "type": "heatmapgl"
           }
          ],
          "histogram": [
           {
            "marker": {
             "colorbar": {
              "outlinewidth": 0,
              "ticks": ""
             }
            },
            "type": "histogram"
           }
          ],
          "histogram2d": [
           {
            "colorbar": {
             "outlinewidth": 0,
             "ticks": ""
            },
            "colorscale": [
             [
              0,
              "#0d0887"
             ],
             [
              0.1111111111111111,
              "#46039f"
             ],
             [
              0.2222222222222222,
              "#7201a8"
             ],
             [
              0.3333333333333333,
              "#9c179e"
             ],
             [
              0.4444444444444444,
              "#bd3786"
             ],
             [
              0.5555555555555556,
              "#d8576b"
             ],
             [
              0.6666666666666666,
              "#ed7953"
             ],
             [
              0.7777777777777778,
              "#fb9f3a"
             ],
             [
              0.8888888888888888,
              "#fdca26"
             ],
             [
              1,
              "#f0f921"
             ]
            ],
            "type": "histogram2d"
           }
          ],
          "histogram2dcontour": [
           {
            "colorbar": {
             "outlinewidth": 0,
             "ticks": ""
            },
            "colorscale": [
             [
              0,
              "#0d0887"
             ],
             [
              0.1111111111111111,
              "#46039f"
             ],
             [
              0.2222222222222222,
              "#7201a8"
             ],
             [
              0.3333333333333333,
              "#9c179e"
             ],
             [
              0.4444444444444444,
              "#bd3786"
             ],
             [
              0.5555555555555556,
              "#d8576b"
             ],
             [
              0.6666666666666666,
              "#ed7953"
             ],
             [
              0.7777777777777778,
              "#fb9f3a"
             ],
             [
              0.8888888888888888,
              "#fdca26"
             ],
             [
              1,
              "#f0f921"
             ]
            ],
            "type": "histogram2dcontour"
           }
          ],
          "mesh3d": [
           {
            "colorbar": {
             "outlinewidth": 0,
             "ticks": ""
            },
            "type": "mesh3d"
           }
          ],
          "parcoords": [
           {
            "line": {
             "colorbar": {
              "outlinewidth": 0,
              "ticks": ""
             }
            },
            "type": "parcoords"
           }
          ],
          "scatter": [
           {
            "marker": {
             "colorbar": {
              "outlinewidth": 0,
              "ticks": ""
             }
            },
            "type": "scatter"
           }
          ],
          "scatter3d": [
           {
            "line": {
             "colorbar": {
              "outlinewidth": 0,
              "ticks": ""
             }
            },
            "marker": {
             "colorbar": {
              "outlinewidth": 0,
              "ticks": ""
             }
            },
            "type": "scatter3d"
           }
          ],
          "scattercarpet": [
           {
            "marker": {
             "colorbar": {
              "outlinewidth": 0,
              "ticks": ""
             }
            },
            "type": "scattercarpet"
           }
          ],
          "scattergeo": [
           {
            "marker": {
             "colorbar": {
              "outlinewidth": 0,
              "ticks": ""
             }
            },
            "type": "scattergeo"
           }
          ],
          "scattergl": [
           {
            "marker": {
             "colorbar": {
              "outlinewidth": 0,
              "ticks": ""
             }
            },
            "type": "scattergl"
           }
          ],
          "scattermapbox": [
           {
            "marker": {
             "colorbar": {
              "outlinewidth": 0,
              "ticks": ""
             }
            },
            "type": "scattermapbox"
           }
          ],
          "scatterpolar": [
           {
            "marker": {
             "colorbar": {
              "outlinewidth": 0,
              "ticks": ""
             }
            },
            "type": "scatterpolar"
           }
          ],
          "scatterpolargl": [
           {
            "marker": {
             "colorbar": {
              "outlinewidth": 0,
              "ticks": ""
             }
            },
            "type": "scatterpolargl"
           }
          ],
          "scatterternary": [
           {
            "marker": {
             "colorbar": {
              "outlinewidth": 0,
              "ticks": ""
             }
            },
            "type": "scatterternary"
           }
          ],
          "surface": [
           {
            "colorbar": {
             "outlinewidth": 0,
             "ticks": ""
            },
            "colorscale": [
             [
              0,
              "#0d0887"
             ],
             [
              0.1111111111111111,
              "#46039f"
             ],
             [
              0.2222222222222222,
              "#7201a8"
             ],
             [
              0.3333333333333333,
              "#9c179e"
             ],
             [
              0.4444444444444444,
              "#bd3786"
             ],
             [
              0.5555555555555556,
              "#d8576b"
             ],
             [
              0.6666666666666666,
              "#ed7953"
             ],
             [
              0.7777777777777778,
              "#fb9f3a"
             ],
             [
              0.8888888888888888,
              "#fdca26"
             ],
             [
              1,
              "#f0f921"
             ]
            ],
            "type": "surface"
           }
          ],
          "table": [
           {
            "cells": {
             "fill": {
              "color": "#EBF0F8"
             },
             "line": {
              "color": "white"
             }
            },
            "header": {
             "fill": {
              "color": "#C8D4E3"
             },
             "line": {
              "color": "white"
             }
            },
            "type": "table"
           }
          ]
         },
         "layout": {
          "annotationdefaults": {
           "arrowcolor": "#2a3f5f",
           "arrowhead": 0,
           "arrowwidth": 1
          },
          "colorscale": {
           "diverging": [
            [
             0,
             "#8e0152"
            ],
            [
             0.1,
             "#c51b7d"
            ],
            [
             0.2,
             "#de77ae"
            ],
            [
             0.3,
             "#f1b6da"
            ],
            [
             0.4,
             "#fde0ef"
            ],
            [
             0.5,
             "#f7f7f7"
            ],
            [
             0.6,
             "#e6f5d0"
            ],
            [
             0.7,
             "#b8e186"
            ],
            [
             0.8,
             "#7fbc41"
            ],
            [
             0.9,
             "#4d9221"
            ],
            [
             1,
             "#276419"
            ]
           ],
           "sequential": [
            [
             0,
             "#0d0887"
            ],
            [
             0.1111111111111111,
             "#46039f"
            ],
            [
             0.2222222222222222,
             "#7201a8"
            ],
            [
             0.3333333333333333,
             "#9c179e"
            ],
            [
             0.4444444444444444,
             "#bd3786"
            ],
            [
             0.5555555555555556,
             "#d8576b"
            ],
            [
             0.6666666666666666,
             "#ed7953"
            ],
            [
             0.7777777777777778,
             "#fb9f3a"
            ],
            [
             0.8888888888888888,
             "#fdca26"
            ],
            [
             1,
             "#f0f921"
            ]
           ],
           "sequentialminus": [
            [
             0,
             "#0d0887"
            ],
            [
             0.1111111111111111,
             "#46039f"
            ],
            [
             0.2222222222222222,
             "#7201a8"
            ],
            [
             0.3333333333333333,
             "#9c179e"
            ],
            [
             0.4444444444444444,
             "#bd3786"
            ],
            [
             0.5555555555555556,
             "#d8576b"
            ],
            [
             0.6666666666666666,
             "#ed7953"
            ],
            [
             0.7777777777777778,
             "#fb9f3a"
            ],
            [
             0.8888888888888888,
             "#fdca26"
            ],
            [
             1,
             "#f0f921"
            ]
           ]
          },
          "colorway": [
           "#636efa",
           "#EF553B",
           "#00cc96",
           "#ab63fa",
           "#FFA15A",
           "#19d3f3",
           "#FF6692",
           "#B6E880",
           "#FF97FF",
           "#FECB52"
          ],
          "font": {
           "color": "#2a3f5f"
          },
          "geo": {
           "bgcolor": "white",
           "lakecolor": "white",
           "landcolor": "#E5ECF6",
           "showlakes": true,
           "showland": true,
           "subunitcolor": "white"
          },
          "hoverlabel": {
           "align": "left"
          },
          "hovermode": "closest",
          "mapbox": {
           "style": "light"
          },
          "paper_bgcolor": "white",
          "plot_bgcolor": "#E5ECF6",
          "polar": {
           "angularaxis": {
            "gridcolor": "white",
            "linecolor": "white",
            "ticks": ""
           },
           "bgcolor": "#E5ECF6",
           "radialaxis": {
            "gridcolor": "white",
            "linecolor": "white",
            "ticks": ""
           }
          },
          "scene": {
           "xaxis": {
            "backgroundcolor": "#E5ECF6",
            "gridcolor": "white",
            "gridwidth": 2,
            "linecolor": "white",
            "showbackground": true,
            "ticks": "",
            "zerolinecolor": "white"
           },
           "yaxis": {
            "backgroundcolor": "#E5ECF6",
            "gridcolor": "white",
            "gridwidth": 2,
            "linecolor": "white",
            "showbackground": true,
            "ticks": "",
            "zerolinecolor": "white"
           },
           "zaxis": {
            "backgroundcolor": "#E5ECF6",
            "gridcolor": "white",
            "gridwidth": 2,
            "linecolor": "white",
            "showbackground": true,
            "ticks": "",
            "zerolinecolor": "white"
           }
          },
          "shapedefaults": {
           "line": {
            "color": "#2a3f5f"
           }
          },
          "ternary": {
           "aaxis": {
            "gridcolor": "white",
            "linecolor": "white",
            "ticks": ""
           },
           "baxis": {
            "gridcolor": "white",
            "linecolor": "white",
            "ticks": ""
           },
           "bgcolor": "#E5ECF6",
           "caxis": {
            "gridcolor": "white",
            "linecolor": "white",
            "ticks": ""
           }
          },
          "title": {
           "x": 0.05
          },
          "xaxis": {
           "automargin": true,
           "gridcolor": "white",
           "linecolor": "white",
           "ticks": "",
           "zerolinecolor": "white",
           "zerolinewidth": 2
          },
          "yaxis": {
           "automargin": true,
           "gridcolor": "white",
           "linecolor": "white",
           "ticks": "",
           "zerolinecolor": "white",
           "zerolinewidth": 2
          }
         }
        },
        "title": {
         "text": "AdaBoost Feature Importance"
        },
        "yaxis": {
         "gridwidth": 2,
         "ticklen": 5,
         "title": {
          "text": "Feature Importance"
         }
        }
       }
      },
      "text/html": [
       "<div>\n",
       "        \n",
       "        \n",
       "            <div id=\"c05d3d01-682a-413f-b47c-eccc3e8937d0\" class=\"plotly-graph-div\" style=\"height:525px; width:100%;\"></div>\n",
       "            <script type=\"text/javascript\">\n",
       "                require([\"plotly\"], function(Plotly) {\n",
       "                    window.PLOTLYENV=window.PLOTLYENV || {};\n",
       "                    \n",
       "                if (document.getElementById(\"c05d3d01-682a-413f-b47c-eccc3e8937d0\")) {\n",
       "                    Plotly.newPlot(\n",
       "                        'c05d3d01-682a-413f-b47c-eccc3e8937d0',\n",
       "                        [{\"marker\": {\"color\": [-0.5153851758971913, -0.275197046629471, 1.0934574282095855, 2.2015318724547552, 0.014885251491837444, 0.18383434112119618, -0.9849594095255472, -0.2984242445904768, -0.3462170135750405, 0.46450219003384513, -2.0675012526097283, 0.3192637789237696, 0.0006640604615462817, 0.5604005591149094, 0.12947961296507807, 0.9449992892857305, -0.2006222857020394, 0.5716887794625051, -1.9740110708572307, -1.011593289410234, 1.4520347995103884, 0.009025245676624234, 1.0811396764509573, 0.011507747175997859, -0.45453078029750443, 0.9312613730908083, 3.0717385009360823, 0.17811967618964786, 0.2502278289642253, -1.3522037521850248, 0.4857080114578442, -0.6653885275884491, -1.6966386960489706, -0.9987665262339939, -0.5414788515344058, -1.488165828263529, 0.8934790949465847, -0.6449908881078635, -0.9771583209612935, -0.3052614062568207, -1.1072997309889925, -2.271541069818791, -0.6843398948230046, 1.2623453207463065, -0.3940289880208929, 0.7563908601447697, -0.3704794562906278, -0.1128263676740435, 0.03619869111988983, -1.6321442479627055, -1.480606401344375, 0.09454572697777068, -0.2281947599997143, -1.035596823051484, 1.2918990905414975, 1.0780978939293475, 1.2267081274284628, -0.6484351295395377, 1.4014868639090885, 0.4179067793213072, 0.825633218144217, -0.9075122647635057, -0.30967511365271116, -0.3757088092919578, 1.2615876326673783, -0.723094247188753, -1.794900296186887, 0.209207492922202, 1.901954349088711, -1.3056878624190258, -0.06104298693089073, 1.7029193899580315, -1.079646831677547, -0.6861862481451895, -0.0006128358314522783, 0.3028006940050837, -0.7878387468450935, 0.16503363589524758, -1.401892363787789, -0.016342243243285072, -0.3190161644783483, 0.43354438668425976, -0.27948516666244033, -1.2285814315208043, -1.3843832791810675, -0.08804328143137267, -0.4528003692952483, 1.1194829779221553, 1.306352833600024, -1.4402552275875007, 0.7151173635255855, 1.2518656328993025, 0.0932676410637551, 0.019950275944094865, -1.5617475886239836, -0.2530845693317376, -0.5152787871213362, 1.0637060589365344, 0.4333706361463515, -0.3332627523659882, -0.3342867123128097, 0.8457998358713186, 0.17041276334946565, 0.1167684791876148, -0.48647136875410024, 0.024995237576348514, -0.2938103073546238, 1.1109140490277862, 0.39983339324080075, -0.37998861579885085, 0.7964632060357006, 1.0435172411125557, -0.4176878787658053, -0.39814119352487953, -2.318924963516084, 1.0191501954481232, 0.252273971958309, 1.105565595823227, -0.8816217337880857, 0.768304911023159, -0.8817517192238163, 0.17960938880940008, -0.2366515169656537, -1.6098481977620311, -0.7510481287909201, -0.2890141381221055, 0.2641437811846239, 0.5909609150841864, 0.01657412324116388, -1.3645376814632448, -0.8444992447175584, -1.071309969325901, -0.6859951872037995, -0.010005353390905773, 0.46284052145317933, 0.35870550533810747, -1.359572643257741, -0.21692370544606376, 0.5072074187046167, 0.6614829802986608, 0.6581214679044074, 0.6877408982087462, -0.9703610759691861, 0.8549960977898796, -1.32426659450636, 0.5399386604376014, 1.681895810123898, 0.6246377226129475, 0.6932628721476133, 1.0084241313620017, -1.0341163490873944, -1.244810883394818, -0.2630490765583508, 3.109991920513348, -0.3208301260339639, -0.22168814133370315, 0.11254585956532404, -0.284223758748552, -0.4792125113317117, -0.5968007605522198, 0.9955377625841934, -1.0755341073063551, 1.096588772593126, 1.6670674834778785, 1.0809911227551443, -1.8570558018361696, 0.6220598160032346, 0.7164726384117128, -0.8079360523269226, -0.548512113446642, 0.010670627626991122, 1.1770362914485328, -0.762160375459242, 0.658087317002227, 1.392798938923734, -1.2685930119756446, 1.5793177304366794, 0.97431955857163, 0.8676403608236837, 0.223753024843369, -0.3877109126420487, 0.5855875945315726, -0.12252493703981514, -0.5149871427118711, -0.2087711417893669, -1.9601473676410175, -0.29289492154980445, -1.2438995787455307, -0.5294233775278138, 0.1037367421304726, 1.6697410225405194, -0.8450462799813399, 1.5840734236739529, -0.6806576791139398, -1.157336465634272, -0.5977378981060416, -1.7660188189024195, 0.13237494579267248, 0.2769904606915415, 0.5003305326761667, 0.13254876053480522, 0.6879287427470312, -0.9000939249479709, 0.4715901146726753, 0.8908272622874013, -1.8912621017646367, -0.5649951659958846, 1.6311533701730836, -1.0010996843828792, 0.09430461190525688, 1.429561733517019, -0.8197214718210335, 0.023478378275970626, 0.6492635124372431, -1.2184095814984761, 0.25616453317879195, 0.4085266129404742, 0.9049228620942066, 0.5375374774919853, -1.7810518217407907, 0.12167653721527026, -0.05426468872752999, 0.8923477404718458, 0.5979035742198875, 0.38073586510331703, 0.32044126997611905, 0.8160263330807747, -1.0517604790098858, 0.1612179375178716, -1.3055777730577673, 0.04788141067555548, 2.276278072487214, 0.38217312896455835, 1.9268787312838291, -1.322114992045255, 2.2869288617007633, -0.47567237336891743, -1.4010424995934252, -0.8001433549724533, 0.08262319240330064, -0.7372037649798582, 1.5094638602699015, 0.1326433645232864, 1.9121068840168416, 1.2286938510803405, -1.4638902154360096, 0.43474378637399397, 0.17930816290193252, 1.0730018001517874, -1.001260532887203, 0.7182002322368578, -1.9042290262290422, 0.04782818383361632, 1.347957211154342, 0.056612258898897795, -0.6338498264440545, 0.502414064657543, 1.1985933768738792, 0.25315201522425346, -0.39335207411143774, -1.0196285614402991, 1.6122668250886263, -0.8857832191509498, 2.019729590364214, -0.7580614201171545, 0.8672824146143575, 0.7019648232651663, -0.24479054102855408, 1.234696698939883, 0.7197175107606468, 1.4922584791888205, 0.11168623711032911, 0.3533320435021701, -1.0351787287531398, 0.05474048367976296, 1.0657960091032943, -2.212949878818746, 0.6478550479276421, -0.3268121902726553, 0.7106133725399921, 0.9895855093794269, 0.2999809128971409, -0.770561390673952, 0.1211691857481596, 0.06102554387476807, 1.2836385604539062, -0.36643303030274554, -0.498823839837298, 1.4347933383949136, -0.0033370286949406867, -0.08321075201766502, -0.15134602443835127, -0.14873276588184828, 0.24308788155559546, 1.007489177452327, -0.786902501135633, -1.2076496895290916, 3.1832014980206376, 0.2968539848342819, -1.0356320028343946, -0.532290989838982, -0.5388712850671888, 1.7059446615712206, -1.8307093502333613, 0.04620321504410562, -0.14730448198657994, 0.48019607871320696, 0.8947285178430213, -0.3740784313037179, -0.00693372176888802, 1.480003657261497, 0.5184648401538277, 0.46041991605370447, 0.2767680155495722, 0.20515266872804416, 0.0723356213931486, -0.9593090508671884, -0.18358699863721092, -0.26782594672616, 0.02270524303530312, -1.1479191347379782, -0.28783911977398924, -0.21842852990931236, -0.10794493650449077, 0.5748800399230359, -0.09346437162015944, -0.6886370696774918, -0.1972937544137325, -1.8619588278583241, 1.321748039959151, 1.7554931676633823, -0.23740678629523745, -0.26837486035212554, 1.1340833272706758, -1.1130796369962155, 0.37604757723255866, 0.1633336722575973, 0.03890759804850116, -0.22764419333326755, 1.3075032567200342, 0.3234190374469454, 0.5296319653990917, 0.8756576459220888, 1.2175187168513266, -0.43406125987943067, 1.5605441828338629, 0.22870465405238702, 0.29320584399977817, -0.2862175517264918, 1.0587604181520676, 0.89646628192986, -1.4389180282750367, -1.027988835277267, 0.6165949075904226, 1.3117649247262675, -0.06657429923355401, 0.694618026510001, -1.3831951997926604, -2.024813396817069, -1.3881012632014322, 1.3806544123685769, 0.19174152871823155, -0.05891619136143238, -1.011038086492196, -0.8802601570116106, -1.2612880258673165, -1.128053714488941, -1.0396198007593223, -2.1037339439554685, -1.1720967836064111, -1.8625118305848005, 0.7705687285569092, -0.6817389407225867, 0.9706813423451155, -1.8449024849479942, 0.2131507131826778, 0.07667573554290283, 1.030511600598369, 0.8605498762549005, -0.8731168463426512, -0.48128210799134485, 0.34091066958634936, -0.18432131997720483, 0.13087288708722508, -0.20035922970946857, 0.03969772449462859, 0.5904785250378086, 0.30515090946190404, 1.2840798570501488, -2.02122490745385, 1.66106631858243, -0.39487750010255057, 1.2407508606297086, 0.20484639957510004, -0.912275164139721, 0.5588645684651893, 1.2081399563274688, 1.074032837349184, 0.6813810777395392, -2.098871140816047, 0.9388139567415932, -1.0847565618947226, -0.39877946123958735, 0.2855568180132999, 0.19502395108489207, 0.16006450513528173, -1.0540430943173142, 0.18804549707743057, 0.4194911749000556, 0.41107369528734267, -0.2397240969382244, 0.533648192028498, -0.9895633380622308, -1.433398298580458, 0.23271915412208774, -0.5727011462555015, 2.6922891793923966, -0.2650283246948408, -1.8874957561586114, -0.19150197312827, 0.6537399738589543, -0.012594400398778545, -1.2325799615693769, -1.402883263813466, 0.26860658453620834, -1.4916089049004793, -0.5572332939091, -0.42549544736713335, 0.10102655471846883, 0.3577479310592287, -0.14823440131253393, -0.31610723807508095, 0.9520428408893757, 0.251543886991961, -1.0084742886822293, 0.8609511986202971, -0.939736812828792, -0.2061924707906752, 1.7418074908884327, 0.02702772202290954, 0.1651281643086002, -0.2419994752574216, 0.06146413611516794, -2.3108071881330545, -0.9544910871299171, -0.7774333121012721, 1.4643029591617416, 0.047396277985784316, -1.1125430067330724, -0.025845345780849266, -0.026129789864886198, 0.5113071470153817, 0.3719084921249627, 0.15080714837538048, -0.7314936468077535, 0.5519368062827416, -0.8281303728942302, 0.00747210612436196, 0.3302493424749732, 0.5433131410700465, -0.4112046705253901, -0.3591514887704482, 1.140962893119235, -2.180532069296059, -1.0592570244685626, 1.4655343667523226, 1.3942035298344768, 1.1910745108635656, -1.8566502524076178, 0.5175204839540658, 1.427923374553364, -0.5853529753377985, 0.40473548748964394, 1.9869791977801625, -2.7184433908824164, -1.190101597382972, 0.13087422048747113, -0.5954096835736912, -0.8741096344906409, 1.798786321174007, -1.3684579616264863, -0.8557068686509581, -1.249427388439007, -0.8205967167122054, 0.6731386804722106, 0.6759586511648249, -0.36380234196985306, 0.9948724314306133, 0.011395496884441478, 0.6604359126289315, -0.892415413837937, -0.4021036681249866, 0.34863461689700304, -0.9470106072473554, -0.0657880355463682, -1.3053574642065944, -0.9498485256007829, -0.84410979438667, 0.6486051338527624, -0.40863112078265057], \"colorscale\": [[0.0, \"rgb(12,51,131)\"], [0.25, \"rgb(10,136,186)\"], [0.5, \"rgb(242,211,56)\"], [0.75, \"rgb(242,143,56)\"], [1.0, \"rgb(217,30,30)\"]], \"showscale\": true, \"size\": 25, \"sizemode\": \"diameter\", \"sizeref\": 1}, \"mode\": \"markers\", \"text\": [\"login_cnt\", \"quest_cnt\", \"sigle_match_cnt\", \"team_match_cnt\", \"play_cnt\", \"avg_kill\", \"avg_hurt\", \"avg_livetime\", \"rank\", \"spend_money\", \"friend_add\", \"friend_del\", \"tier\", \"game_time\", \"register_day\", \"lonely_rate\", \"crate_use\", \"bp\", \"free_fuck\"], \"type\": \"scatter\", \"x\": [\"login_cnt\", \"quest_cnt\", \"sigle_match_cnt\", \"team_match_cnt\", \"play_cnt\", \"avg_kill\", \"avg_hurt\", \"avg_livetime\", \"rank\", \"spend_money\", \"friend_add\", \"friend_del\", \"tier\", \"game_time\", \"register_day\", \"lonely_rate\", \"crate_use\", \"bp\", \"free_fuck\"], \"y\": [0.054, 0.046, 0.092, 0.038, 0.046, 0.028, 0.05, 0.024, 0.006, 0.01, 0.022, 0.032, 0.044, 0.116, 0.032, 0.276, 0.072, 0.002, 0.01]}],\n",
       "                        {\"autosize\": true, \"hovermode\": \"closest\", \"showlegend\": false, \"template\": {\"data\": {\"bar\": [{\"error_x\": {\"color\": \"#2a3f5f\"}, \"error_y\": {\"color\": \"#2a3f5f\"}, \"marker\": {\"line\": {\"color\": \"#E5ECF6\", \"width\": 0.5}}, \"type\": \"bar\"}], \"barpolar\": [{\"marker\": {\"line\": {\"color\": \"#E5ECF6\", \"width\": 0.5}}, \"type\": \"barpolar\"}], \"carpet\": [{\"aaxis\": {\"endlinecolor\": \"#2a3f5f\", \"gridcolor\": \"white\", \"linecolor\": \"white\", \"minorgridcolor\": \"white\", \"startlinecolor\": \"#2a3f5f\"}, \"baxis\": {\"endlinecolor\": \"#2a3f5f\", \"gridcolor\": \"white\", \"linecolor\": \"white\", \"minorgridcolor\": \"white\", \"startlinecolor\": \"#2a3f5f\"}, \"type\": \"carpet\"}], \"choropleth\": [{\"colorbar\": {\"outlinewidth\": 0, \"ticks\": \"\"}, \"type\": \"choropleth\"}], \"contour\": [{\"colorbar\": {\"outlinewidth\": 0, \"ticks\": \"\"}, \"colorscale\": [[0.0, \"#0d0887\"], [0.1111111111111111, \"#46039f\"], [0.2222222222222222, \"#7201a8\"], [0.3333333333333333, \"#9c179e\"], [0.4444444444444444, \"#bd3786\"], [0.5555555555555556, \"#d8576b\"], [0.6666666666666666, \"#ed7953\"], [0.7777777777777778, \"#fb9f3a\"], [0.8888888888888888, \"#fdca26\"], [1.0, \"#f0f921\"]], \"type\": \"contour\"}], \"contourcarpet\": [{\"colorbar\": {\"outlinewidth\": 0, \"ticks\": \"\"}, \"type\": \"contourcarpet\"}], \"heatmap\": [{\"colorbar\": {\"outlinewidth\": 0, \"ticks\": \"\"}, \"colorscale\": [[0.0, \"#0d0887\"], [0.1111111111111111, \"#46039f\"], [0.2222222222222222, \"#7201a8\"], [0.3333333333333333, \"#9c179e\"], [0.4444444444444444, \"#bd3786\"], [0.5555555555555556, \"#d8576b\"], [0.6666666666666666, \"#ed7953\"], [0.7777777777777778, \"#fb9f3a\"], [0.8888888888888888, \"#fdca26\"], [1.0, \"#f0f921\"]], \"type\": \"heatmap\"}], \"heatmapgl\": [{\"colorbar\": {\"outlinewidth\": 0, \"ticks\": \"\"}, \"colorscale\": [[0.0, \"#0d0887\"], [0.1111111111111111, \"#46039f\"], [0.2222222222222222, \"#7201a8\"], [0.3333333333333333, \"#9c179e\"], [0.4444444444444444, \"#bd3786\"], [0.5555555555555556, \"#d8576b\"], [0.6666666666666666, \"#ed7953\"], [0.7777777777777778, \"#fb9f3a\"], [0.8888888888888888, \"#fdca26\"], [1.0, \"#f0f921\"]], \"type\": \"heatmapgl\"}], \"histogram\": [{\"marker\": {\"colorbar\": {\"outlinewidth\": 0, \"ticks\": \"\"}}, \"type\": \"histogram\"}], \"histogram2d\": [{\"colorbar\": {\"outlinewidth\": 0, \"ticks\": \"\"}, \"colorscale\": [[0.0, \"#0d0887\"], [0.1111111111111111, \"#46039f\"], [0.2222222222222222, \"#7201a8\"], [0.3333333333333333, \"#9c179e\"], [0.4444444444444444, \"#bd3786\"], [0.5555555555555556, \"#d8576b\"], [0.6666666666666666, \"#ed7953\"], [0.7777777777777778, \"#fb9f3a\"], [0.8888888888888888, \"#fdca26\"], [1.0, \"#f0f921\"]], \"type\": \"histogram2d\"}], \"histogram2dcontour\": [{\"colorbar\": {\"outlinewidth\": 0, \"ticks\": \"\"}, \"colorscale\": [[0.0, \"#0d0887\"], [0.1111111111111111, \"#46039f\"], [0.2222222222222222, \"#7201a8\"], [0.3333333333333333, \"#9c179e\"], [0.4444444444444444, \"#bd3786\"], [0.5555555555555556, \"#d8576b\"], [0.6666666666666666, \"#ed7953\"], [0.7777777777777778, \"#fb9f3a\"], [0.8888888888888888, \"#fdca26\"], [1.0, \"#f0f921\"]], \"type\": \"histogram2dcontour\"}], \"mesh3d\": [{\"colorbar\": {\"outlinewidth\": 0, \"ticks\": \"\"}, \"type\": \"mesh3d\"}], \"parcoords\": [{\"line\": {\"colorbar\": {\"outlinewidth\": 0, \"ticks\": \"\"}}, \"type\": \"parcoords\"}], \"scatter\": [{\"marker\": {\"colorbar\": {\"outlinewidth\": 0, \"ticks\": \"\"}}, \"type\": \"scatter\"}], \"scatter3d\": [{\"line\": {\"colorbar\": {\"outlinewidth\": 0, \"ticks\": \"\"}}, \"marker\": {\"colorbar\": {\"outlinewidth\": 0, \"ticks\": \"\"}}, \"type\": \"scatter3d\"}], \"scattercarpet\": [{\"marker\": {\"colorbar\": {\"outlinewidth\": 0, \"ticks\": \"\"}}, \"type\": \"scattercarpet\"}], \"scattergeo\": [{\"marker\": {\"colorbar\": {\"outlinewidth\": 0, \"ticks\": \"\"}}, \"type\": \"scattergeo\"}], \"scattergl\": [{\"marker\": {\"colorbar\": {\"outlinewidth\": 0, \"ticks\": \"\"}}, \"type\": \"scattergl\"}], \"scattermapbox\": [{\"marker\": {\"colorbar\": {\"outlinewidth\": 0, \"ticks\": \"\"}}, \"type\": \"scattermapbox\"}], \"scatterpolar\": [{\"marker\": {\"colorbar\": {\"outlinewidth\": 0, \"ticks\": \"\"}}, \"type\": \"scatterpolar\"}], \"scatterpolargl\": [{\"marker\": {\"colorbar\": {\"outlinewidth\": 0, \"ticks\": \"\"}}, \"type\": \"scatterpolargl\"}], \"scatterternary\": [{\"marker\": {\"colorbar\": {\"outlinewidth\": 0, \"ticks\": \"\"}}, \"type\": \"scatterternary\"}], \"surface\": [{\"colorbar\": {\"outlinewidth\": 0, \"ticks\": \"\"}, \"colorscale\": [[0.0, \"#0d0887\"], [0.1111111111111111, \"#46039f\"], [0.2222222222222222, \"#7201a8\"], [0.3333333333333333, \"#9c179e\"], [0.4444444444444444, \"#bd3786\"], [0.5555555555555556, \"#d8576b\"], [0.6666666666666666, \"#ed7953\"], [0.7777777777777778, \"#fb9f3a\"], [0.8888888888888888, \"#fdca26\"], [1.0, \"#f0f921\"]], \"type\": \"surface\"}], \"table\": [{\"cells\": {\"fill\": {\"color\": \"#EBF0F8\"}, \"line\": {\"color\": \"white\"}}, \"header\": {\"fill\": {\"color\": \"#C8D4E3\"}, \"line\": {\"color\": \"white\"}}, \"type\": \"table\"}]}, \"layout\": {\"annotationdefaults\": {\"arrowcolor\": \"#2a3f5f\", \"arrowhead\": 0, \"arrowwidth\": 1}, \"colorscale\": {\"diverging\": [[0, \"#8e0152\"], [0.1, \"#c51b7d\"], [0.2, \"#de77ae\"], [0.3, \"#f1b6da\"], [0.4, \"#fde0ef\"], [0.5, \"#f7f7f7\"], [0.6, \"#e6f5d0\"], [0.7, \"#b8e186\"], [0.8, \"#7fbc41\"], [0.9, \"#4d9221\"], [1, \"#276419\"]], \"sequential\": [[0.0, \"#0d0887\"], [0.1111111111111111, \"#46039f\"], [0.2222222222222222, \"#7201a8\"], [0.3333333333333333, \"#9c179e\"], [0.4444444444444444, \"#bd3786\"], [0.5555555555555556, \"#d8576b\"], [0.6666666666666666, \"#ed7953\"], [0.7777777777777778, \"#fb9f3a\"], [0.8888888888888888, \"#fdca26\"], [1.0, \"#f0f921\"]], \"sequentialminus\": [[0.0, \"#0d0887\"], [0.1111111111111111, \"#46039f\"], [0.2222222222222222, \"#7201a8\"], [0.3333333333333333, \"#9c179e\"], [0.4444444444444444, \"#bd3786\"], [0.5555555555555556, \"#d8576b\"], [0.6666666666666666, \"#ed7953\"], [0.7777777777777778, \"#fb9f3a\"], [0.8888888888888888, \"#fdca26\"], [1.0, \"#f0f921\"]]}, \"colorway\": [\"#636efa\", \"#EF553B\", \"#00cc96\", \"#ab63fa\", \"#FFA15A\", \"#19d3f3\", \"#FF6692\", \"#B6E880\", \"#FF97FF\", \"#FECB52\"], \"font\": {\"color\": \"#2a3f5f\"}, \"geo\": {\"bgcolor\": \"white\", \"lakecolor\": \"white\", \"landcolor\": \"#E5ECF6\", \"showlakes\": true, \"showland\": true, \"subunitcolor\": \"white\"}, \"hoverlabel\": {\"align\": \"left\"}, \"hovermode\": \"closest\", \"mapbox\": {\"style\": \"light\"}, \"paper_bgcolor\": \"white\", \"plot_bgcolor\": \"#E5ECF6\", \"polar\": {\"angularaxis\": {\"gridcolor\": \"white\", \"linecolor\": \"white\", \"ticks\": \"\"}, \"bgcolor\": \"#E5ECF6\", \"radialaxis\": {\"gridcolor\": \"white\", \"linecolor\": \"white\", \"ticks\": \"\"}}, \"scene\": {\"xaxis\": {\"backgroundcolor\": \"#E5ECF6\", \"gridcolor\": \"white\", \"gridwidth\": 2, \"linecolor\": \"white\", \"showbackground\": true, \"ticks\": \"\", \"zerolinecolor\": \"white\"}, \"yaxis\": {\"backgroundcolor\": \"#E5ECF6\", \"gridcolor\": \"white\", \"gridwidth\": 2, \"linecolor\": \"white\", \"showbackground\": true, \"ticks\": \"\", \"zerolinecolor\": \"white\"}, \"zaxis\": {\"backgroundcolor\": \"#E5ECF6\", \"gridcolor\": \"white\", \"gridwidth\": 2, \"linecolor\": \"white\", \"showbackground\": true, \"ticks\": \"\", \"zerolinecolor\": \"white\"}}, \"shapedefaults\": {\"line\": {\"color\": \"#2a3f5f\"}}, \"ternary\": {\"aaxis\": {\"gridcolor\": \"white\", \"linecolor\": \"white\", \"ticks\": \"\"}, \"baxis\": {\"gridcolor\": \"white\", \"linecolor\": \"white\", \"ticks\": \"\"}, \"bgcolor\": \"#E5ECF6\", \"caxis\": {\"gridcolor\": \"white\", \"linecolor\": \"white\", \"ticks\": \"\"}}, \"title\": {\"x\": 0.05}, \"xaxis\": {\"automargin\": true, \"gridcolor\": \"white\", \"linecolor\": \"white\", \"ticks\": \"\", \"zerolinecolor\": \"white\", \"zerolinewidth\": 2}, \"yaxis\": {\"automargin\": true, \"gridcolor\": \"white\", \"linecolor\": \"white\", \"ticks\": \"\", \"zerolinecolor\": \"white\", \"zerolinewidth\": 2}}}, \"title\": {\"text\": \"AdaBoost Feature Importance\"}, \"yaxis\": {\"gridwidth\": 2, \"ticklen\": 5, \"title\": {\"text\": \"Feature Importance\"}}},\n",
       "                        {\"responsive\": true}\n",
       "                    ).then(function(){\n",
       "                            \n",
       "var gd = document.getElementById('c05d3d01-682a-413f-b47c-eccc3e8937d0');\n",
       "var x = new MutationObserver(function (mutations, observer) {{\n",
       "        var display = window.getComputedStyle(gd).display;\n",
       "        if (!display || display === 'none') {{\n",
       "            console.log([gd, 'removed!']);\n",
       "            Plotly.purge(gd);\n",
       "            observer.disconnect();\n",
       "        }}\n",
       "}});\n",
       "\n",
       "// Listen for the removal of the full notebook cells\n",
       "var notebookContainer = gd.closest('#notebook-container');\n",
       "if (notebookContainer) {{\n",
       "    x.observe(notebookContainer, {childList: true});\n",
       "}}\n",
       "\n",
       "// Listen for the clearing of the current output cell\n",
       "var outputEl = gd.closest('.output');\n",
       "if (outputEl) {{\n",
       "    x.observe(outputEl, {childList: true});\n",
       "}}\n",
       "\n",
       "                        })\n",
       "                };\n",
       "                });\n",
       "            </script>\n",
       "        </div>"
      ]
     },
     "metadata": {},
     "output_type": "display_data"
    },
    {
     "data": {
      "application/vnd.plotly.v1+json": {
       "config": {
        "linkText": "Export to plot.ly",
        "plotlyServerURL": "https://plot.ly",
        "showLink": false
       },
       "data": [
        {
         "marker": {
          "color": [
           0.1458554921597583,
           1.6476092408850576,
           -1.6010934519426034,
           -1.087971490011766,
           -1.5382624134670573,
           1.945387986521422,
           -0.5748415695135777,
           1.0711760578053584,
           0.3053714267310902,
           0.7541307609088537,
           -0.35778983093085626,
           -1.219643026095736,
           -0.5126305391318992,
           0.2596906245613656,
           1.20242361354421,
           -0.5930622315820296,
           0.23331123109346433,
           1.1243913926543179,
           -0.13891819386362492,
           -1.9618750390419184,
           0.7235454080082849,
           -1.3588598056691754,
           -0.04217121639285359,
           -0.5599675787222046,
           -0.7966195021758439,
           2.0291465200697503,
           -0.8031852415946823,
           -0.8235286844800976,
           0.29867282089490554,
           -1.4057607744109928,
           -0.44451043603736595,
           1.0773172648622404,
           -2.2320792888040537,
           -0.8842920192954623,
           0.5959800297395286,
           -1.009855590791509,
           -2.689302402081546,
           0.2892114620277143,
           -1.4152297541260062,
           0.4939268895114226,
           -0.10422184048744074,
           1.19237720984812,
           0.5433325634874376,
           0.5396956477653698,
           -0.3012358369837632,
           0.679026530573439,
           1.250282507620167,
           -1.7501398237875874,
           1.2820102353573457,
           0.03585832790573127,
           -0.15524732238061942,
           0.6229269979523857,
           -1.915278892475155,
           0.38104453918533093,
           0.02555719087468463,
           0.8299967680090888,
           -0.575923485648957,
           -1.8611794300080513,
           -0.017823605679865007,
           0.2630190461651415,
           -0.34904901885309425,
           0.19389386698680985,
           0.16641841879762548,
           -0.46972497897836807,
           -1.4257092313197346,
           -0.4736021349001434,
           -1.146995977546143,
           0.777619862942247,
           -0.04108408399607159,
           0.11475936152610536,
           -0.15120114963852738,
           -0.9067208281735408,
           0.4571963527712001,
           0.5771788721967254,
           -0.7728420172072978,
           1.822490992732923,
           0.6863143027940556,
           -0.51927973441351,
           -0.08352047506460593,
           1.0066413387562367,
           -0.11258890909546415,
           -0.722789145795692,
           0.345441474705023,
           -0.6479144083504291,
           0.5901262947337479,
           0.2955731428016213,
           -0.6378884598383481,
           0.5195157122547098,
           0.5402247580788533,
           0.9880728811311053,
           0.5185885057402589,
           0.760711685851706,
           1.4128715989036713,
           0.1585291831913625,
           1.9416508446674552,
           -0.89736761546729,
           -0.29336899456992627,
           0.40246615935196023,
           0.9269490061294933,
           -0.16063365312018546,
           0.23717152596588154,
           1.3723231691240956,
           -0.03827981479465036,
           -0.10160585161500973,
           0.8037455685208176,
           -0.2603254124485583,
           0.5446114381169461,
           -0.0372266065444198,
           1.2131876950947234,
           2.0645281245326395,
           -0.5688041076250824,
           0.10513392134028565,
           0.22743973097429546,
           -0.008975088277525297,
           -1.057223028284782,
           -0.30655109880214215,
           -0.095121752095716,
           0.7291129707034376,
           0.23216180513893844,
           1.506711272328521,
           1.3815188326907117,
           -0.39845372209940166,
           -1.7164265888227166,
           0.1796401333090106,
           0.2006078403891186,
           0.14732183259031267,
           0.0735135539303194,
           1.7755675631764347,
           0.03917743756186336,
           -0.3717254966515961,
           2.3744645999656977,
           0.1324196686307512,
           2.8022775286204156,
           -1.2245916862087893,
           1.5310012371761776,
           -0.010201866326154692,
           -0.261664618893566,
           -0.2648870754223549,
           -0.31302690789272297,
           0.2626393880802397,
           1.929357999464461,
           0.7262703217581746,
           -1.6237063515293426,
           0.16126342396629753,
           -0.5530842365682478,
           -0.8407575765006086,
           -0.551677718702208,
           0.2746678018256738,
           -1.0150536387823486,
           -1.1615185755058464,
           -0.0893895957645696,
           1.3981819922316565,
           0.07838097205868605,
           -0.1310698425759345,
           0.6444290425523211,
           0.320762727272119,
           -0.5813939757553224,
           -0.29698602777942334,
           -0.22886130248073563,
           0.2822431325554191,
           -0.2546291521638186,
           1.0041911989367365,
           0.4441959156438068,
           -0.42809740228557114,
           0.18186252540984754,
           -0.8581053748562297,
           -0.013962733606136805,
           0.18167102713770308,
           1.6619414152673575,
           0.11504194477849468,
           -0.5463046044754202,
           -0.46578729228720794,
           -1.5763375763053766,
           1.8041678451573453,
           -1.438665584391765,
           0.26256089588875,
           1.4426281571490138,
           -0.5806881026029788,
           0.6584836959155645,
           -0.11230539532602922,
           0.3388027931176873,
           2.017762958229018,
           0.6083995490969687,
           -0.9831531240801168,
           0.26733819868604275,
           -0.5668651735974798,
           0.5113644742516078,
           1.454125028215013,
           -0.36142915084501176,
           0.9288108937769569,
           -2.918692823810952,
           -0.01506694219998487,
           0.49245822532776573,
           0.20909453681016812,
           1.1301193449785345,
           -0.7857642086205585,
           1.016265958926796,
           0.10452000676763659,
           -1.813269194747442,
           1.7786470781814152,
           -0.2503755570777746,
           0.2986597467597903,
           -1.4864409331395418,
           -0.9118011273930497,
           0.8602316530965375,
           -0.8263089600748038,
           -1.199940710566874,
           -0.558256022299729,
           0.03409779070886806,
           0.040426528728461274,
           -0.22893587971776647,
           0.47769925477690833,
           1.038663552887858,
           0.26061641660455825,
           0.029478298827993216,
           1.638583460382365,
           0.8688678642447968,
           -0.9912794198056847,
           -1.082627991541178,
           -0.13005181871290883,
           2.655510867494202,
           -0.8078208104955538,
           -1.5350803390692798,
           -1.346175633630031,
           -1.2202614855097467,
           0.3188044563196813,
           -0.8358158035255345,
           -0.49269121267664406,
           0.5769727908820262,
           0.33626788560691917,
           -0.8710564368034385,
           -0.23181548931222531,
           -0.056861437540150384,
           -0.5515333163523096,
           -0.01697966599346498,
           2.019336745340628,
           -0.5282218665208605,
           1.768294152263076,
           -0.6588309334420758,
           -1.9594420150486906,
           -0.7941505498853165,
           2.1296908662882013,
           1.3892525136527205,
           -0.35646555020787285,
           0.1649149147161081,
           -0.1904964571200853,
           1.4598530921762138,
           -0.556900654753006,
           -0.3904593843384919,
           -1.241627637224922,
           2.137581376789743,
           0.23644609117630364,
           0.7238026413801163,
           1.6289320870339568,
           0.9160249163008348,
           1.850697760003269,
           0.3974173390832716,
           -2.0962414424172033,
           1.586780271918913,
           1.234857946121962,
           -1.0895990261412434,
           0.32915256237712726,
           0.5074883064677131,
           0.006283779634380574,
           -0.12242882220877653,
           -0.45606374520199644,
           0.13287769865216062,
           -0.4454243895780448,
           0.36617052585479104,
           2.87016261206898,
           0.45427172260352183,
           0.27387555929102003,
           -0.7399440151926097,
           -0.9635747048529868,
           0.4816244238579557,
           0.8139833613148941,
           0.6467249495364293,
           -1.0031007687228992,
           -0.7799092793350041,
           1.576779476037094,
           -1.3337610055405413,
           0.0807237452257398,
           0.567386073590667,
           0.7921614175735057,
           0.37158999115846036,
           0.5360486436905955,
           0.4130170688012439,
           0.4394862030627326,
           -0.9323644266313889,
           0.11955961282770335,
           0.9295899879570836,
           0.4642943142351816,
           0.031588156481377416,
           -1.8758713762574513,
           -0.41430263088992225,
           -0.14420355498813534,
           0.44368664261260043,
           -0.8983179251357944,
           -0.8659691124600126,
           -0.9096364284296273,
           1.0882935260992292,
           -0.6138011195636124,
           -1.1462008430464157,
           0.15419686388203704,
           1.259516199744843,
           -0.49010294178763414,
           0.12022235218342243,
           -0.07537896933433469,
           -0.4196697363366055,
           -1.0277202866336062,
           -1.726454889996746,
           -0.7807572635540551,
           0.5771650335340218,
           1.338594565864887,
           -0.9170915962167793,
           -0.5679249333207868,
           0.03179745447747906,
           0.4383144938997407,
           -0.5147153867333153,
           -0.657220978744479,
           0.2532437770458656,
           0.21959580482083763,
           0.44778296661506634,
           0.1403211409053509,
           -0.04723816889658228,
           -1.3082653339375125,
           0.1644522507165735,
           0.21859513798003502,
           0.1534279165648187,
           -1.8095474282964497,
           -0.29023949783912534,
           0.8624901942404557,
           -0.3863227408472937,
           1.3458285599321802,
           0.7334964135485327,
           -1.2086396280265046,
           2.100047969522311,
           1.4039793628869215,
           0.5977575725567096,
           2.039252951455864,
           -1.8392023555876187,
           1.3614792294663478,
           -0.6901822624199955,
           0.03664965642492903,
           -0.32289485297060144,
           2.0633468268118635,
           1.2061656686390936,
           -1.6844091949791151,
           -1.074711476356306,
           -0.33324253859229835,
           -0.38895013229094305,
           0.3513999241772879,
           -0.5055489168668545,
           -0.03729226884214215,
           -0.3301142144949951,
           1.3385044450196268,
           -0.4303279028672742,
           -1.3641845666699568,
           0.10448756590953154,
           -0.08329702750846764,
           -1.0499075376517215,
           -1.58897676475498,
           1.0435834254122056,
           -0.5185990039900442,
           0.3204763742699583,
           -0.02428023562875346,
           -0.9573409966853832,
           0.4798941231442494,
           -1.0984138168879645,
           -1.5331155751593863,
           0.5557397155944546,
           2.153917637298822,
           0.7604134427328106,
           1.0614009788879994,
           0.19572868034404986,
           -0.5620673891459925,
           0.18640553818606248,
           1.0691379364448876,
           -0.17730782241379844,
           1.285425593058582,
           -0.030383578829271035,
           -3.2649020560715005,
           1.7183293325390367,
           0.27963728250687964,
           -0.5728587060103466,
           0.2432884709039084,
           1.142270974629473,
           -0.7849792554159034,
           -0.49601051197504753,
           -0.2491711259015023,
           2.4581726490450624,
           -0.053768377071625816,
           -0.4115956377719102,
           -0.6911612707358094,
           -0.8565763876989908,
           0.33702289967798194,
           -0.21125258031499805,
           -0.9162745762204818,
           0.39932604020186363,
           0.00872462969203577,
           0.6936479167607151,
           0.3792799199038936,
           -0.19429371983135396,
           0.06166280386929593,
           -0.18731683198434407,
           -1.028951467929863,
           0.14485521108368588,
           0.4294916204742088,
           -0.027545350626935212,
           -0.002683322245263695,
           -1.807920111731466,
           -0.8009459330425068,
           -1.1832273655277141,
           -0.9152936557518669,
           -0.9691907653063612,
           1.6540195359270784,
           0.5057714612070213,
           0.40831101935216096,
           0.1790495261517966,
           -0.7694324789681132,
           -1.114992070652095,
           0.973921610947789,
           2.162686931396836,
           0.744860095674209,
           0.10796844463329908,
           1.8468806769273278,
           0.8136753153028274,
           -0.14526195933938088,
           -0.9156704783468764,
           -0.6164967952522226,
           -0.23628078453108103,
           0.6288012795003427,
           -0.5922409702841336,
           -0.1613405945581978,
           2.0397825810966417,
           0.33349197817671694,
           1.904106382009476,
           1.7107138752940354,
           1.7152170623113048,
           -0.15121497712686635,
           0.6753807721607705,
           1.27895226439379,
           -0.2167889668527624,
           -1.1344322533974491,
           -0.5198913384481909,
           0.7039879329168697,
           -0.6431980593981077,
           0.44315062142505346,
           1.5819590065265556,
           -0.7613201578473487,
           -0.46519420794806116,
           0.19051856584120827,
           -0.4624643339949145,
           -0.7215535398527122,
           0.4652564692566667,
           -0.43852081295190815,
           -2.120229338482165,
           -1.404679482457589,
           -0.2558577918768545,
           0.23460840887668633,
           0.7895849554870658,
           -1.6506147681786958,
           0.5650777380736053,
           -0.9572155814965772,
           -0.2706977553337293,
           -1.5091874446129931,
           0.7914025635409959,
           -0.753172885489076,
           0.702932477912368,
           0.4960350258497236,
           0.2885893244120548,
           0.9211574478928626,
           -0.05631993766232208,
           -1.233858349841166,
           -1.1804780058076139,
           0.12450910847786355,
           -0.6092886234979205,
           0.932079088557603,
           -0.37940906722876006,
           -0.20030930097900915,
           -0.5805970016909272,
           -0.9449473548359689,
           0.02724959200405052,
           0.4008902790553163,
           0.8834899369336354,
           1.1092474590838952,
           0.9985102235435388,
           -0.009678996940135024,
           0.7655258395440696,
           0.636063691172987,
           -2.741532271543358,
           0.11146024683225104,
           -0.7348689527887983,
           0.36617672348419283,
           0.04460429091851992,
           -1.0909017946363844,
           -1.0338809512203884,
           0.8215076062845493,
           0.5127522663624818,
           0.054367179496970175
          ],
          "colorscale": [
           [
            0,
            "rgb(12,51,131)"
           ],
           [
            0.25,
            "rgb(10,136,186)"
           ],
           [
            0.5,
            "rgb(242,211,56)"
           ],
           [
            0.75,
            "rgb(242,143,56)"
           ],
           [
            1,
            "rgb(217,30,30)"
           ]
          ],
          "showscale": true,
          "size": 25,
          "sizemode": "diameter",
          "sizeref": 1
         },
         "mode": "markers",
         "text": [
          "login_cnt",
          "quest_cnt",
          "sigle_match_cnt",
          "team_match_cnt",
          "play_cnt",
          "avg_kill",
          "avg_hurt",
          "avg_livetime",
          "rank",
          "spend_money",
          "friend_add",
          "friend_del",
          "tier",
          "game_time",
          "register_day",
          "lonely_rate",
          "crate_use",
          "bp",
          "free_fuck"
         ],
         "type": "scatter",
         "x": [
          "login_cnt",
          "quest_cnt",
          "sigle_match_cnt",
          "team_match_cnt",
          "play_cnt",
          "avg_kill",
          "avg_hurt",
          "avg_livetime",
          "rank",
          "spend_money",
          "friend_add",
          "friend_del",
          "tier",
          "game_time",
          "register_day",
          "lonely_rate",
          "crate_use",
          "bp",
          "free_fuck"
         ],
         "y": [
          0.04530542167959077,
          0.06288678651189213,
          0.015173593263746494,
          0.03639581972007715,
          0.03986090269342102,
          0.006207493432783459,
          0.01793886405597652,
          0.012562275637300804,
          0.0019976808096066924,
          0.0031141868086594204,
          0.005648097248241675,
          0.004194451796489968,
          0.025914299009078153,
          0.6377927077774408,
          0.012092248315997058,
          0.017344120212543834,
          0.03434740891092221,
          0.003221495013777935,
          0.018002147102453736
         ]
        }
       ],
       "layout": {
        "autosize": true,
        "hovermode": "closest",
        "showlegend": false,
        "template": {
         "data": {
          "bar": [
           {
            "error_x": {
             "color": "#2a3f5f"
            },
            "error_y": {
             "color": "#2a3f5f"
            },
            "marker": {
             "line": {
              "color": "#E5ECF6",
              "width": 0.5
             }
            },
            "type": "bar"
           }
          ],
          "barpolar": [
           {
            "marker": {
             "line": {
              "color": "#E5ECF6",
              "width": 0.5
             }
            },
            "type": "barpolar"
           }
          ],
          "carpet": [
           {
            "aaxis": {
             "endlinecolor": "#2a3f5f",
             "gridcolor": "white",
             "linecolor": "white",
             "minorgridcolor": "white",
             "startlinecolor": "#2a3f5f"
            },
            "baxis": {
             "endlinecolor": "#2a3f5f",
             "gridcolor": "white",
             "linecolor": "white",
             "minorgridcolor": "white",
             "startlinecolor": "#2a3f5f"
            },
            "type": "carpet"
           }
          ],
          "choropleth": [
           {
            "colorbar": {
             "outlinewidth": 0,
             "ticks": ""
            },
            "type": "choropleth"
           }
          ],
          "contour": [
           {
            "colorbar": {
             "outlinewidth": 0,
             "ticks": ""
            },
            "colorscale": [
             [
              0,
              "#0d0887"
             ],
             [
              0.1111111111111111,
              "#46039f"
             ],
             [
              0.2222222222222222,
              "#7201a8"
             ],
             [
              0.3333333333333333,
              "#9c179e"
             ],
             [
              0.4444444444444444,
              "#bd3786"
             ],
             [
              0.5555555555555556,
              "#d8576b"
             ],
             [
              0.6666666666666666,
              "#ed7953"
             ],
             [
              0.7777777777777778,
              "#fb9f3a"
             ],
             [
              0.8888888888888888,
              "#fdca26"
             ],
             [
              1,
              "#f0f921"
             ]
            ],
            "type": "contour"
           }
          ],
          "contourcarpet": [
           {
            "colorbar": {
             "outlinewidth": 0,
             "ticks": ""
            },
            "type": "contourcarpet"
           }
          ],
          "heatmap": [
           {
            "colorbar": {
             "outlinewidth": 0,
             "ticks": ""
            },
            "colorscale": [
             [
              0,
              "#0d0887"
             ],
             [
              0.1111111111111111,
              "#46039f"
             ],
             [
              0.2222222222222222,
              "#7201a8"
             ],
             [
              0.3333333333333333,
              "#9c179e"
             ],
             [
              0.4444444444444444,
              "#bd3786"
             ],
             [
              0.5555555555555556,
              "#d8576b"
             ],
             [
              0.6666666666666666,
              "#ed7953"
             ],
             [
              0.7777777777777778,
              "#fb9f3a"
             ],
             [
              0.8888888888888888,
              "#fdca26"
             ],
             [
              1,
              "#f0f921"
             ]
            ],
            "type": "heatmap"
           }
          ],
          "heatmapgl": [
           {
            "colorbar": {
             "outlinewidth": 0,
             "ticks": ""
            },
            "colorscale": [
             [
              0,
              "#0d0887"
             ],
             [
              0.1111111111111111,
              "#46039f"
             ],
             [
              0.2222222222222222,
              "#7201a8"
             ],
             [
              0.3333333333333333,
              "#9c179e"
             ],
             [
              0.4444444444444444,
              "#bd3786"
             ],
             [
              0.5555555555555556,
              "#d8576b"
             ],
             [
              0.6666666666666666,
              "#ed7953"
             ],
             [
              0.7777777777777778,
              "#fb9f3a"
             ],
             [
              0.8888888888888888,
              "#fdca26"
             ],
             [
              1,
              "#f0f921"
             ]
            ],
            "type": "heatmapgl"
           }
          ],
          "histogram": [
           {
            "marker": {
             "colorbar": {
              "outlinewidth": 0,
              "ticks": ""
             }
            },
            "type": "histogram"
           }
          ],
          "histogram2d": [
           {
            "colorbar": {
             "outlinewidth": 0,
             "ticks": ""
            },
            "colorscale": [
             [
              0,
              "#0d0887"
             ],
             [
              0.1111111111111111,
              "#46039f"
             ],
             [
              0.2222222222222222,
              "#7201a8"
             ],
             [
              0.3333333333333333,
              "#9c179e"
             ],
             [
              0.4444444444444444,
              "#bd3786"
             ],
             [
              0.5555555555555556,
              "#d8576b"
             ],
             [
              0.6666666666666666,
              "#ed7953"
             ],
             [
              0.7777777777777778,
              "#fb9f3a"
             ],
             [
              0.8888888888888888,
              "#fdca26"
             ],
             [
              1,
              "#f0f921"
             ]
            ],
            "type": "histogram2d"
           }
          ],
          "histogram2dcontour": [
           {
            "colorbar": {
             "outlinewidth": 0,
             "ticks": ""
            },
            "colorscale": [
             [
              0,
              "#0d0887"
             ],
             [
              0.1111111111111111,
              "#46039f"
             ],
             [
              0.2222222222222222,
              "#7201a8"
             ],
             [
              0.3333333333333333,
              "#9c179e"
             ],
             [
              0.4444444444444444,
              "#bd3786"
             ],
             [
              0.5555555555555556,
              "#d8576b"
             ],
             [
              0.6666666666666666,
              "#ed7953"
             ],
             [
              0.7777777777777778,
              "#fb9f3a"
             ],
             [
              0.8888888888888888,
              "#fdca26"
             ],
             [
              1,
              "#f0f921"
             ]
            ],
            "type": "histogram2dcontour"
           }
          ],
          "mesh3d": [
           {
            "colorbar": {
             "outlinewidth": 0,
             "ticks": ""
            },
            "type": "mesh3d"
           }
          ],
          "parcoords": [
           {
            "line": {
             "colorbar": {
              "outlinewidth": 0,
              "ticks": ""
             }
            },
            "type": "parcoords"
           }
          ],
          "scatter": [
           {
            "marker": {
             "colorbar": {
              "outlinewidth": 0,
              "ticks": ""
             }
            },
            "type": "scatter"
           }
          ],
          "scatter3d": [
           {
            "line": {
             "colorbar": {
              "outlinewidth": 0,
              "ticks": ""
             }
            },
            "marker": {
             "colorbar": {
              "outlinewidth": 0,
              "ticks": ""
             }
            },
            "type": "scatter3d"
           }
          ],
          "scattercarpet": [
           {
            "marker": {
             "colorbar": {
              "outlinewidth": 0,
              "ticks": ""
             }
            },
            "type": "scattercarpet"
           }
          ],
          "scattergeo": [
           {
            "marker": {
             "colorbar": {
              "outlinewidth": 0,
              "ticks": ""
             }
            },
            "type": "scattergeo"
           }
          ],
          "scattergl": [
           {
            "marker": {
             "colorbar": {
              "outlinewidth": 0,
              "ticks": ""
             }
            },
            "type": "scattergl"
           }
          ],
          "scattermapbox": [
           {
            "marker": {
             "colorbar": {
              "outlinewidth": 0,
              "ticks": ""
             }
            },
            "type": "scattermapbox"
           }
          ],
          "scatterpolar": [
           {
            "marker": {
             "colorbar": {
              "outlinewidth": 0,
              "ticks": ""
             }
            },
            "type": "scatterpolar"
           }
          ],
          "scatterpolargl": [
           {
            "marker": {
             "colorbar": {
              "outlinewidth": 0,
              "ticks": ""
             }
            },
            "type": "scatterpolargl"
           }
          ],
          "scatterternary": [
           {
            "marker": {
             "colorbar": {
              "outlinewidth": 0,
              "ticks": ""
             }
            },
            "type": "scatterternary"
           }
          ],
          "surface": [
           {
            "colorbar": {
             "outlinewidth": 0,
             "ticks": ""
            },
            "colorscale": [
             [
              0,
              "#0d0887"
             ],
             [
              0.1111111111111111,
              "#46039f"
             ],
             [
              0.2222222222222222,
              "#7201a8"
             ],
             [
              0.3333333333333333,
              "#9c179e"
             ],
             [
              0.4444444444444444,
              "#bd3786"
             ],
             [
              0.5555555555555556,
              "#d8576b"
             ],
             [
              0.6666666666666666,
              "#ed7953"
             ],
             [
              0.7777777777777778,
              "#fb9f3a"
             ],
             [
              0.8888888888888888,
              "#fdca26"
             ],
             [
              1,
              "#f0f921"
             ]
            ],
            "type": "surface"
           }
          ],
          "table": [
           {
            "cells": {
             "fill": {
              "color": "#EBF0F8"
             },
             "line": {
              "color": "white"
             }
            },
            "header": {
             "fill": {
              "color": "#C8D4E3"
             },
             "line": {
              "color": "white"
             }
            },
            "type": "table"
           }
          ]
         },
         "layout": {
          "annotationdefaults": {
           "arrowcolor": "#2a3f5f",
           "arrowhead": 0,
           "arrowwidth": 1
          },
          "colorscale": {
           "diverging": [
            [
             0,
             "#8e0152"
            ],
            [
             0.1,
             "#c51b7d"
            ],
            [
             0.2,
             "#de77ae"
            ],
            [
             0.3,
             "#f1b6da"
            ],
            [
             0.4,
             "#fde0ef"
            ],
            [
             0.5,
             "#f7f7f7"
            ],
            [
             0.6,
             "#e6f5d0"
            ],
            [
             0.7,
             "#b8e186"
            ],
            [
             0.8,
             "#7fbc41"
            ],
            [
             0.9,
             "#4d9221"
            ],
            [
             1,
             "#276419"
            ]
           ],
           "sequential": [
            [
             0,
             "#0d0887"
            ],
            [
             0.1111111111111111,
             "#46039f"
            ],
            [
             0.2222222222222222,
             "#7201a8"
            ],
            [
             0.3333333333333333,
             "#9c179e"
            ],
            [
             0.4444444444444444,
             "#bd3786"
            ],
            [
             0.5555555555555556,
             "#d8576b"
            ],
            [
             0.6666666666666666,
             "#ed7953"
            ],
            [
             0.7777777777777778,
             "#fb9f3a"
            ],
            [
             0.8888888888888888,
             "#fdca26"
            ],
            [
             1,
             "#f0f921"
            ]
           ],
           "sequentialminus": [
            [
             0,
             "#0d0887"
            ],
            [
             0.1111111111111111,
             "#46039f"
            ],
            [
             0.2222222222222222,
             "#7201a8"
            ],
            [
             0.3333333333333333,
             "#9c179e"
            ],
            [
             0.4444444444444444,
             "#bd3786"
            ],
            [
             0.5555555555555556,
             "#d8576b"
            ],
            [
             0.6666666666666666,
             "#ed7953"
            ],
            [
             0.7777777777777778,
             "#fb9f3a"
            ],
            [
             0.8888888888888888,
             "#fdca26"
            ],
            [
             1,
             "#f0f921"
            ]
           ]
          },
          "colorway": [
           "#636efa",
           "#EF553B",
           "#00cc96",
           "#ab63fa",
           "#FFA15A",
           "#19d3f3",
           "#FF6692",
           "#B6E880",
           "#FF97FF",
           "#FECB52"
          ],
          "font": {
           "color": "#2a3f5f"
          },
          "geo": {
           "bgcolor": "white",
           "lakecolor": "white",
           "landcolor": "#E5ECF6",
           "showlakes": true,
           "showland": true,
           "subunitcolor": "white"
          },
          "hoverlabel": {
           "align": "left"
          },
          "hovermode": "closest",
          "mapbox": {
           "style": "light"
          },
          "paper_bgcolor": "white",
          "plot_bgcolor": "#E5ECF6",
          "polar": {
           "angularaxis": {
            "gridcolor": "white",
            "linecolor": "white",
            "ticks": ""
           },
           "bgcolor": "#E5ECF6",
           "radialaxis": {
            "gridcolor": "white",
            "linecolor": "white",
            "ticks": ""
           }
          },
          "scene": {
           "xaxis": {
            "backgroundcolor": "#E5ECF6",
            "gridcolor": "white",
            "gridwidth": 2,
            "linecolor": "white",
            "showbackground": true,
            "ticks": "",
            "zerolinecolor": "white"
           },
           "yaxis": {
            "backgroundcolor": "#E5ECF6",
            "gridcolor": "white",
            "gridwidth": 2,
            "linecolor": "white",
            "showbackground": true,
            "ticks": "",
            "zerolinecolor": "white"
           },
           "zaxis": {
            "backgroundcolor": "#E5ECF6",
            "gridcolor": "white",
            "gridwidth": 2,
            "linecolor": "white",
            "showbackground": true,
            "ticks": "",
            "zerolinecolor": "white"
           }
          },
          "shapedefaults": {
           "line": {
            "color": "#2a3f5f"
           }
          },
          "ternary": {
           "aaxis": {
            "gridcolor": "white",
            "linecolor": "white",
            "ticks": ""
           },
           "baxis": {
            "gridcolor": "white",
            "linecolor": "white",
            "ticks": ""
           },
           "bgcolor": "#E5ECF6",
           "caxis": {
            "gridcolor": "white",
            "linecolor": "white",
            "ticks": ""
           }
          },
          "title": {
           "x": 0.05
          },
          "xaxis": {
           "automargin": true,
           "gridcolor": "white",
           "linecolor": "white",
           "ticks": "",
           "zerolinecolor": "white",
           "zerolinewidth": 2
          },
          "yaxis": {
           "automargin": true,
           "gridcolor": "white",
           "linecolor": "white",
           "ticks": "",
           "zerolinecolor": "white",
           "zerolinewidth": 2
          }
         }
        },
        "title": {
         "text": "Gradient Boosting Feature Importance"
        },
        "yaxis": {
         "gridwidth": 2,
         "ticklen": 5,
         "title": {
          "text": "Feature Importance"
         }
        }
       }
      },
      "text/html": [
       "<div>\n",
       "        \n",
       "        \n",
       "            <div id=\"d55ac2b6-dbe7-4a5e-b9b3-219357c8d223\" class=\"plotly-graph-div\" style=\"height:525px; width:100%;\"></div>\n",
       "            <script type=\"text/javascript\">\n",
       "                require([\"plotly\"], function(Plotly) {\n",
       "                    window.PLOTLYENV=window.PLOTLYENV || {};\n",
       "                    \n",
       "                if (document.getElementById(\"d55ac2b6-dbe7-4a5e-b9b3-219357c8d223\")) {\n",
       "                    Plotly.newPlot(\n",
       "                        'd55ac2b6-dbe7-4a5e-b9b3-219357c8d223',\n",
       "                        [{\"marker\": {\"color\": [0.1458554921597583, 1.6476092408850576, -1.6010934519426034, -1.087971490011766, -1.5382624134670573, 1.945387986521422, -0.5748415695135777, 1.0711760578053584, 0.3053714267310902, 0.7541307609088537, -0.35778983093085626, -1.219643026095736, -0.5126305391318992, 0.2596906245613656, 1.20242361354421, -0.5930622315820296, 0.23331123109346433, 1.1243913926543179, -0.13891819386362492, -1.9618750390419184, 0.7235454080082849, -1.3588598056691754, -0.04217121639285359, -0.5599675787222046, -0.7966195021758439, 2.0291465200697503, -0.8031852415946823, -0.8235286844800976, 0.29867282089490554, -1.4057607744109928, -0.44451043603736595, 1.0773172648622404, -2.2320792888040537, -0.8842920192954623, 0.5959800297395286, -1.009855590791509, -2.689302402081546, 0.2892114620277143, -1.4152297541260062, 0.4939268895114226, -0.10422184048744074, 1.19237720984812, 0.5433325634874376, 0.5396956477653698, -0.3012358369837632, 0.679026530573439, 1.250282507620167, -1.7501398237875874, 1.2820102353573457, 0.03585832790573127, -0.15524732238061942, 0.6229269979523857, -1.915278892475155, 0.38104453918533093, 0.02555719087468463, 0.8299967680090888, -0.575923485648957, -1.8611794300080513, -0.017823605679865007, 0.2630190461651415, -0.34904901885309425, 0.19389386698680985, 0.16641841879762548, -0.46972497897836807, -1.4257092313197346, -0.4736021349001434, -1.146995977546143, 0.777619862942247, -0.04108408399607159, 0.11475936152610536, -0.15120114963852738, -0.9067208281735408, 0.4571963527712001, 0.5771788721967254, -0.7728420172072978, 1.822490992732923, 0.6863143027940556, -0.51927973441351, -0.08352047506460593, 1.0066413387562367, -0.11258890909546415, -0.722789145795692, 0.345441474705023, -0.6479144083504291, 0.5901262947337479, 0.2955731428016213, -0.6378884598383481, 0.5195157122547098, 0.5402247580788533, 0.9880728811311053, 0.5185885057402589, 0.760711685851706, 1.4128715989036713, 0.1585291831913625, 1.9416508446674552, -0.89736761546729, -0.29336899456992627, 0.40246615935196023, 0.9269490061294933, -0.16063365312018546, 0.23717152596588154, 1.3723231691240956, -0.03827981479465036, -0.10160585161500973, 0.8037455685208176, -0.2603254124485583, 0.5446114381169461, -0.0372266065444198, 1.2131876950947234, 2.0645281245326395, -0.5688041076250824, 0.10513392134028565, 0.22743973097429546, -0.008975088277525297, -1.057223028284782, -0.30655109880214215, -0.095121752095716, 0.7291129707034376, 0.23216180513893844, 1.506711272328521, 1.3815188326907117, -0.39845372209940166, -1.7164265888227166, 0.1796401333090106, 0.2006078403891186, 0.14732183259031267, 0.0735135539303194, 1.7755675631764347, 0.03917743756186336, -0.3717254966515961, 2.3744645999656977, 0.1324196686307512, 2.8022775286204156, -1.2245916862087893, 1.5310012371761776, -0.010201866326154692, -0.261664618893566, -0.2648870754223549, -0.31302690789272297, 0.2626393880802397, 1.929357999464461, 0.7262703217581746, -1.6237063515293426, 0.16126342396629753, -0.5530842365682478, -0.8407575765006086, -0.551677718702208, 0.2746678018256738, -1.0150536387823486, -1.1615185755058464, -0.0893895957645696, 1.3981819922316565, 0.07838097205868605, -0.1310698425759345, 0.6444290425523211, 0.320762727272119, -0.5813939757553224, -0.29698602777942334, -0.22886130248073563, 0.2822431325554191, -0.2546291521638186, 1.0041911989367365, 0.4441959156438068, -0.42809740228557114, 0.18186252540984754, -0.8581053748562297, -0.013962733606136805, 0.18167102713770308, 1.6619414152673575, 0.11504194477849468, -0.5463046044754202, -0.46578729228720794, -1.5763375763053766, 1.8041678451573453, -1.438665584391765, 0.26256089588875, 1.4426281571490138, -0.5806881026029788, 0.6584836959155645, -0.11230539532602922, 0.3388027931176873, 2.017762958229018, 0.6083995490969687, -0.9831531240801168, 0.26733819868604275, -0.5668651735974798, 0.5113644742516078, 1.454125028215013, -0.36142915084501176, 0.9288108937769569, -2.918692823810952, -0.01506694219998487, 0.49245822532776573, 0.20909453681016812, 1.1301193449785345, -0.7857642086205585, 1.016265958926796, 0.10452000676763659, -1.813269194747442, 1.7786470781814152, -0.2503755570777746, 0.2986597467597903, -1.4864409331395418, -0.9118011273930497, 0.8602316530965375, -0.8263089600748038, -1.199940710566874, -0.558256022299729, 0.03409779070886806, 0.040426528728461274, -0.22893587971776647, 0.47769925477690833, 1.038663552887858, 0.26061641660455825, 0.029478298827993216, 1.638583460382365, 0.8688678642447968, -0.9912794198056847, -1.082627991541178, -0.13005181871290883, 2.655510867494202, -0.8078208104955538, -1.5350803390692798, -1.346175633630031, -1.2202614855097467, 0.3188044563196813, -0.8358158035255345, -0.49269121267664406, 0.5769727908820262, 0.33626788560691917, -0.8710564368034385, -0.23181548931222531, -0.056861437540150384, -0.5515333163523096, -0.01697966599346498, 2.019336745340628, -0.5282218665208605, 1.768294152263076, -0.6588309334420758, -1.9594420150486906, -0.7941505498853165, 2.1296908662882013, 1.3892525136527205, -0.35646555020787285, 0.1649149147161081, -0.1904964571200853, 1.4598530921762138, -0.556900654753006, -0.3904593843384919, -1.241627637224922, 2.137581376789743, 0.23644609117630364, 0.7238026413801163, 1.6289320870339568, 0.9160249163008348, 1.850697760003269, 0.3974173390832716, -2.0962414424172033, 1.586780271918913, 1.234857946121962, -1.0895990261412434, 0.32915256237712726, 0.5074883064677131, 0.006283779634380574, -0.12242882220877653, -0.45606374520199644, 0.13287769865216062, -0.4454243895780448, 0.36617052585479104, 2.87016261206898, 0.45427172260352183, 0.27387555929102003, -0.7399440151926097, -0.9635747048529868, 0.4816244238579557, 0.8139833613148941, 0.6467249495364293, -1.0031007687228992, -0.7799092793350041, 1.576779476037094, -1.3337610055405413, 0.0807237452257398, 0.567386073590667, 0.7921614175735057, 0.37158999115846036, 0.5360486436905955, 0.4130170688012439, 0.4394862030627326, -0.9323644266313889, 0.11955961282770335, 0.9295899879570836, 0.4642943142351816, 0.031588156481377416, -1.8758713762574513, -0.41430263088992225, -0.14420355498813534, 0.44368664261260043, -0.8983179251357944, -0.8659691124600126, -0.9096364284296273, 1.0882935260992292, -0.6138011195636124, -1.1462008430464157, 0.15419686388203704, 1.259516199744843, -0.49010294178763414, 0.12022235218342243, -0.07537896933433469, -0.4196697363366055, -1.0277202866336062, -1.726454889996746, -0.7807572635540551, 0.5771650335340218, 1.338594565864887, -0.9170915962167793, -0.5679249333207868, 0.03179745447747906, 0.4383144938997407, -0.5147153867333153, -0.657220978744479, 0.2532437770458656, 0.21959580482083763, 0.44778296661506634, 0.1403211409053509, -0.04723816889658228, -1.3082653339375125, 0.1644522507165735, 0.21859513798003502, 0.1534279165648187, -1.8095474282964497, -0.29023949783912534, 0.8624901942404557, -0.3863227408472937, 1.3458285599321802, 0.7334964135485327, -1.2086396280265046, 2.100047969522311, 1.4039793628869215, 0.5977575725567096, 2.039252951455864, -1.8392023555876187, 1.3614792294663478, -0.6901822624199955, 0.03664965642492903, -0.32289485297060144, 2.0633468268118635, 1.2061656686390936, -1.6844091949791151, -1.074711476356306, -0.33324253859229835, -0.38895013229094305, 0.3513999241772879, -0.5055489168668545, -0.03729226884214215, -0.3301142144949951, 1.3385044450196268, -0.4303279028672742, -1.3641845666699568, 0.10448756590953154, -0.08329702750846764, -1.0499075376517215, -1.58897676475498, 1.0435834254122056, -0.5185990039900442, 0.3204763742699583, -0.02428023562875346, -0.9573409966853832, 0.4798941231442494, -1.0984138168879645, -1.5331155751593863, 0.5557397155944546, 2.153917637298822, 0.7604134427328106, 1.0614009788879994, 0.19572868034404986, -0.5620673891459925, 0.18640553818606248, 1.0691379364448876, -0.17730782241379844, 1.285425593058582, -0.030383578829271035, -3.2649020560715005, 1.7183293325390367, 0.27963728250687964, -0.5728587060103466, 0.2432884709039084, 1.142270974629473, -0.7849792554159034, -0.49601051197504753, -0.2491711259015023, 2.4581726490450624, -0.053768377071625816, -0.4115956377719102, -0.6911612707358094, -0.8565763876989908, 0.33702289967798194, -0.21125258031499805, -0.9162745762204818, 0.39932604020186363, 0.00872462969203577, 0.6936479167607151, 0.3792799199038936, -0.19429371983135396, 0.06166280386929593, -0.18731683198434407, -1.028951467929863, 0.14485521108368588, 0.4294916204742088, -0.027545350626935212, -0.002683322245263695, -1.807920111731466, -0.8009459330425068, -1.1832273655277141, -0.9152936557518669, -0.9691907653063612, 1.6540195359270784, 0.5057714612070213, 0.40831101935216096, 0.1790495261517966, -0.7694324789681132, -1.114992070652095, 0.973921610947789, 2.162686931396836, 0.744860095674209, 0.10796844463329908, 1.8468806769273278, 0.8136753153028274, -0.14526195933938088, -0.9156704783468764, -0.6164967952522226, -0.23628078453108103, 0.6288012795003427, -0.5922409702841336, -0.1613405945581978, 2.0397825810966417, 0.33349197817671694, 1.904106382009476, 1.7107138752940354, 1.7152170623113048, -0.15121497712686635, 0.6753807721607705, 1.27895226439379, -0.2167889668527624, -1.1344322533974491, -0.5198913384481909, 0.7039879329168697, -0.6431980593981077, 0.44315062142505346, 1.5819590065265556, -0.7613201578473487, -0.46519420794806116, 0.19051856584120827, -0.4624643339949145, -0.7215535398527122, 0.4652564692566667, -0.43852081295190815, -2.120229338482165, -1.404679482457589, -0.2558577918768545, 0.23460840887668633, 0.7895849554870658, -1.6506147681786958, 0.5650777380736053, -0.9572155814965772, -0.2706977553337293, -1.5091874446129931, 0.7914025635409959, -0.753172885489076, 0.702932477912368, 0.4960350258497236, 0.2885893244120548, 0.9211574478928626, -0.05631993766232208, -1.233858349841166, -1.1804780058076139, 0.12450910847786355, -0.6092886234979205, 0.932079088557603, -0.37940906722876006, -0.20030930097900915, -0.5805970016909272, -0.9449473548359689, 0.02724959200405052, 0.4008902790553163, 0.8834899369336354, 1.1092474590838952, 0.9985102235435388, -0.009678996940135024, 0.7655258395440696, 0.636063691172987, -2.741532271543358, 0.11146024683225104, -0.7348689527887983, 0.36617672348419283, 0.04460429091851992, -1.0909017946363844, -1.0338809512203884, 0.8215076062845493, 0.5127522663624818, 0.054367179496970175], \"colorscale\": [[0.0, \"rgb(12,51,131)\"], [0.25, \"rgb(10,136,186)\"], [0.5, \"rgb(242,211,56)\"], [0.75, \"rgb(242,143,56)\"], [1.0, \"rgb(217,30,30)\"]], \"showscale\": true, \"size\": 25, \"sizemode\": \"diameter\", \"sizeref\": 1}, \"mode\": \"markers\", \"text\": [\"login_cnt\", \"quest_cnt\", \"sigle_match_cnt\", \"team_match_cnt\", \"play_cnt\", \"avg_kill\", \"avg_hurt\", \"avg_livetime\", \"rank\", \"spend_money\", \"friend_add\", \"friend_del\", \"tier\", \"game_time\", \"register_day\", \"lonely_rate\", \"crate_use\", \"bp\", \"free_fuck\"], \"type\": \"scatter\", \"x\": [\"login_cnt\", \"quest_cnt\", \"sigle_match_cnt\", \"team_match_cnt\", \"play_cnt\", \"avg_kill\", \"avg_hurt\", \"avg_livetime\", \"rank\", \"spend_money\", \"friend_add\", \"friend_del\", \"tier\", \"game_time\", \"register_day\", \"lonely_rate\", \"crate_use\", \"bp\", \"free_fuck\"], \"y\": [0.04530542167959077, 0.06288678651189213, 0.015173593263746494, 0.03639581972007715, 0.03986090269342102, 0.006207493432783459, 0.01793886405597652, 0.012562275637300804, 0.0019976808096066924, 0.0031141868086594204, 0.005648097248241675, 0.004194451796489968, 0.025914299009078153, 0.6377927077774408, 0.012092248315997058, 0.017344120212543834, 0.03434740891092221, 0.003221495013777935, 0.018002147102453736]}],\n",
       "                        {\"autosize\": true, \"hovermode\": \"closest\", \"showlegend\": false, \"template\": {\"data\": {\"bar\": [{\"error_x\": {\"color\": \"#2a3f5f\"}, \"error_y\": {\"color\": \"#2a3f5f\"}, \"marker\": {\"line\": {\"color\": \"#E5ECF6\", \"width\": 0.5}}, \"type\": \"bar\"}], \"barpolar\": [{\"marker\": {\"line\": {\"color\": \"#E5ECF6\", \"width\": 0.5}}, \"type\": \"barpolar\"}], \"carpet\": [{\"aaxis\": {\"endlinecolor\": \"#2a3f5f\", \"gridcolor\": \"white\", \"linecolor\": \"white\", \"minorgridcolor\": \"white\", \"startlinecolor\": \"#2a3f5f\"}, \"baxis\": {\"endlinecolor\": \"#2a3f5f\", \"gridcolor\": \"white\", \"linecolor\": \"white\", \"minorgridcolor\": \"white\", \"startlinecolor\": \"#2a3f5f\"}, \"type\": \"carpet\"}], \"choropleth\": [{\"colorbar\": {\"outlinewidth\": 0, \"ticks\": \"\"}, \"type\": \"choropleth\"}], \"contour\": [{\"colorbar\": {\"outlinewidth\": 0, \"ticks\": \"\"}, \"colorscale\": [[0.0, \"#0d0887\"], [0.1111111111111111, \"#46039f\"], [0.2222222222222222, \"#7201a8\"], [0.3333333333333333, \"#9c179e\"], [0.4444444444444444, \"#bd3786\"], [0.5555555555555556, \"#d8576b\"], [0.6666666666666666, \"#ed7953\"], [0.7777777777777778, \"#fb9f3a\"], [0.8888888888888888, \"#fdca26\"], [1.0, \"#f0f921\"]], \"type\": \"contour\"}], \"contourcarpet\": [{\"colorbar\": {\"outlinewidth\": 0, \"ticks\": \"\"}, \"type\": \"contourcarpet\"}], \"heatmap\": [{\"colorbar\": {\"outlinewidth\": 0, \"ticks\": \"\"}, \"colorscale\": [[0.0, \"#0d0887\"], [0.1111111111111111, \"#46039f\"], [0.2222222222222222, \"#7201a8\"], [0.3333333333333333, \"#9c179e\"], [0.4444444444444444, \"#bd3786\"], [0.5555555555555556, \"#d8576b\"], [0.6666666666666666, \"#ed7953\"], [0.7777777777777778, \"#fb9f3a\"], [0.8888888888888888, \"#fdca26\"], [1.0, \"#f0f921\"]], \"type\": \"heatmap\"}], \"heatmapgl\": [{\"colorbar\": {\"outlinewidth\": 0, \"ticks\": \"\"}, \"colorscale\": [[0.0, \"#0d0887\"], [0.1111111111111111, \"#46039f\"], [0.2222222222222222, \"#7201a8\"], [0.3333333333333333, \"#9c179e\"], [0.4444444444444444, \"#bd3786\"], [0.5555555555555556, \"#d8576b\"], [0.6666666666666666, \"#ed7953\"], [0.7777777777777778, \"#fb9f3a\"], [0.8888888888888888, \"#fdca26\"], [1.0, \"#f0f921\"]], \"type\": \"heatmapgl\"}], \"histogram\": [{\"marker\": {\"colorbar\": {\"outlinewidth\": 0, \"ticks\": \"\"}}, \"type\": \"histogram\"}], \"histogram2d\": [{\"colorbar\": {\"outlinewidth\": 0, \"ticks\": \"\"}, \"colorscale\": [[0.0, \"#0d0887\"], [0.1111111111111111, \"#46039f\"], [0.2222222222222222, \"#7201a8\"], [0.3333333333333333, \"#9c179e\"], [0.4444444444444444, \"#bd3786\"], [0.5555555555555556, \"#d8576b\"], [0.6666666666666666, \"#ed7953\"], [0.7777777777777778, \"#fb9f3a\"], [0.8888888888888888, \"#fdca26\"], [1.0, \"#f0f921\"]], \"type\": \"histogram2d\"}], \"histogram2dcontour\": [{\"colorbar\": {\"outlinewidth\": 0, \"ticks\": \"\"}, \"colorscale\": [[0.0, \"#0d0887\"], [0.1111111111111111, \"#46039f\"], [0.2222222222222222, \"#7201a8\"], [0.3333333333333333, \"#9c179e\"], [0.4444444444444444, \"#bd3786\"], [0.5555555555555556, \"#d8576b\"], [0.6666666666666666, \"#ed7953\"], [0.7777777777777778, \"#fb9f3a\"], [0.8888888888888888, \"#fdca26\"], [1.0, \"#f0f921\"]], \"type\": \"histogram2dcontour\"}], \"mesh3d\": [{\"colorbar\": {\"outlinewidth\": 0, \"ticks\": \"\"}, \"type\": \"mesh3d\"}], \"parcoords\": [{\"line\": {\"colorbar\": {\"outlinewidth\": 0, \"ticks\": \"\"}}, \"type\": \"parcoords\"}], \"scatter\": [{\"marker\": {\"colorbar\": {\"outlinewidth\": 0, \"ticks\": \"\"}}, \"type\": \"scatter\"}], \"scatter3d\": [{\"line\": {\"colorbar\": {\"outlinewidth\": 0, \"ticks\": \"\"}}, \"marker\": {\"colorbar\": {\"outlinewidth\": 0, \"ticks\": \"\"}}, \"type\": \"scatter3d\"}], \"scattercarpet\": [{\"marker\": {\"colorbar\": {\"outlinewidth\": 0, \"ticks\": \"\"}}, \"type\": \"scattercarpet\"}], \"scattergeo\": [{\"marker\": {\"colorbar\": {\"outlinewidth\": 0, \"ticks\": \"\"}}, \"type\": \"scattergeo\"}], \"scattergl\": [{\"marker\": {\"colorbar\": {\"outlinewidth\": 0, \"ticks\": \"\"}}, \"type\": \"scattergl\"}], \"scattermapbox\": [{\"marker\": {\"colorbar\": {\"outlinewidth\": 0, \"ticks\": \"\"}}, \"type\": \"scattermapbox\"}], \"scatterpolar\": [{\"marker\": {\"colorbar\": {\"outlinewidth\": 0, \"ticks\": \"\"}}, \"type\": \"scatterpolar\"}], \"scatterpolargl\": [{\"marker\": {\"colorbar\": {\"outlinewidth\": 0, \"ticks\": \"\"}}, \"type\": \"scatterpolargl\"}], \"scatterternary\": [{\"marker\": {\"colorbar\": {\"outlinewidth\": 0, \"ticks\": \"\"}}, \"type\": \"scatterternary\"}], \"surface\": [{\"colorbar\": {\"outlinewidth\": 0, \"ticks\": \"\"}, \"colorscale\": [[0.0, \"#0d0887\"], [0.1111111111111111, \"#46039f\"], [0.2222222222222222, \"#7201a8\"], [0.3333333333333333, \"#9c179e\"], [0.4444444444444444, \"#bd3786\"], [0.5555555555555556, \"#d8576b\"], [0.6666666666666666, \"#ed7953\"], [0.7777777777777778, \"#fb9f3a\"], [0.8888888888888888, \"#fdca26\"], [1.0, \"#f0f921\"]], \"type\": \"surface\"}], \"table\": [{\"cells\": {\"fill\": {\"color\": \"#EBF0F8\"}, \"line\": {\"color\": \"white\"}}, \"header\": {\"fill\": {\"color\": \"#C8D4E3\"}, \"line\": {\"color\": \"white\"}}, \"type\": \"table\"}]}, \"layout\": {\"annotationdefaults\": {\"arrowcolor\": \"#2a3f5f\", \"arrowhead\": 0, \"arrowwidth\": 1}, \"colorscale\": {\"diverging\": [[0, \"#8e0152\"], [0.1, \"#c51b7d\"], [0.2, \"#de77ae\"], [0.3, \"#f1b6da\"], [0.4, \"#fde0ef\"], [0.5, \"#f7f7f7\"], [0.6, \"#e6f5d0\"], [0.7, \"#b8e186\"], [0.8, \"#7fbc41\"], [0.9, \"#4d9221\"], [1, \"#276419\"]], \"sequential\": [[0.0, \"#0d0887\"], [0.1111111111111111, \"#46039f\"], [0.2222222222222222, \"#7201a8\"], [0.3333333333333333, \"#9c179e\"], [0.4444444444444444, \"#bd3786\"], [0.5555555555555556, \"#d8576b\"], [0.6666666666666666, \"#ed7953\"], [0.7777777777777778, \"#fb9f3a\"], [0.8888888888888888, \"#fdca26\"], [1.0, \"#f0f921\"]], \"sequentialminus\": [[0.0, \"#0d0887\"], [0.1111111111111111, \"#46039f\"], [0.2222222222222222, \"#7201a8\"], [0.3333333333333333, \"#9c179e\"], [0.4444444444444444, \"#bd3786\"], [0.5555555555555556, \"#d8576b\"], [0.6666666666666666, \"#ed7953\"], [0.7777777777777778, \"#fb9f3a\"], [0.8888888888888888, \"#fdca26\"], [1.0, \"#f0f921\"]]}, \"colorway\": [\"#636efa\", \"#EF553B\", \"#00cc96\", \"#ab63fa\", \"#FFA15A\", \"#19d3f3\", \"#FF6692\", \"#B6E880\", \"#FF97FF\", \"#FECB52\"], \"font\": {\"color\": \"#2a3f5f\"}, \"geo\": {\"bgcolor\": \"white\", \"lakecolor\": \"white\", \"landcolor\": \"#E5ECF6\", \"showlakes\": true, \"showland\": true, \"subunitcolor\": \"white\"}, \"hoverlabel\": {\"align\": \"left\"}, \"hovermode\": \"closest\", \"mapbox\": {\"style\": \"light\"}, \"paper_bgcolor\": \"white\", \"plot_bgcolor\": \"#E5ECF6\", \"polar\": {\"angularaxis\": {\"gridcolor\": \"white\", \"linecolor\": \"white\", \"ticks\": \"\"}, \"bgcolor\": \"#E5ECF6\", \"radialaxis\": {\"gridcolor\": \"white\", \"linecolor\": \"white\", \"ticks\": \"\"}}, \"scene\": {\"xaxis\": {\"backgroundcolor\": \"#E5ECF6\", \"gridcolor\": \"white\", \"gridwidth\": 2, \"linecolor\": \"white\", \"showbackground\": true, \"ticks\": \"\", \"zerolinecolor\": \"white\"}, \"yaxis\": {\"backgroundcolor\": \"#E5ECF6\", \"gridcolor\": \"white\", \"gridwidth\": 2, \"linecolor\": \"white\", \"showbackground\": true, \"ticks\": \"\", \"zerolinecolor\": \"white\"}, \"zaxis\": {\"backgroundcolor\": \"#E5ECF6\", \"gridcolor\": \"white\", \"gridwidth\": 2, \"linecolor\": \"white\", \"showbackground\": true, \"ticks\": \"\", \"zerolinecolor\": \"white\"}}, \"shapedefaults\": {\"line\": {\"color\": \"#2a3f5f\"}}, \"ternary\": {\"aaxis\": {\"gridcolor\": \"white\", \"linecolor\": \"white\", \"ticks\": \"\"}, \"baxis\": {\"gridcolor\": \"white\", \"linecolor\": \"white\", \"ticks\": \"\"}, \"bgcolor\": \"#E5ECF6\", \"caxis\": {\"gridcolor\": \"white\", \"linecolor\": \"white\", \"ticks\": \"\"}}, \"title\": {\"x\": 0.05}, \"xaxis\": {\"automargin\": true, \"gridcolor\": \"white\", \"linecolor\": \"white\", \"ticks\": \"\", \"zerolinecolor\": \"white\", \"zerolinewidth\": 2}, \"yaxis\": {\"automargin\": true, \"gridcolor\": \"white\", \"linecolor\": \"white\", \"ticks\": \"\", \"zerolinecolor\": \"white\", \"zerolinewidth\": 2}}}, \"title\": {\"text\": \"Gradient Boosting Feature Importance\"}, \"yaxis\": {\"gridwidth\": 2, \"ticklen\": 5, \"title\": {\"text\": \"Feature Importance\"}}},\n",
       "                        {\"responsive\": true}\n",
       "                    ).then(function(){\n",
       "                            \n",
       "var gd = document.getElementById('d55ac2b6-dbe7-4a5e-b9b3-219357c8d223');\n",
       "var x = new MutationObserver(function (mutations, observer) {{\n",
       "        var display = window.getComputedStyle(gd).display;\n",
       "        if (!display || display === 'none') {{\n",
       "            console.log([gd, 'removed!']);\n",
       "            Plotly.purge(gd);\n",
       "            observer.disconnect();\n",
       "        }}\n",
       "}});\n",
       "\n",
       "// Listen for the removal of the full notebook cells\n",
       "var notebookContainer = gd.closest('#notebook-container');\n",
       "if (notebookContainer) {{\n",
       "    x.observe(notebookContainer, {childList: true});\n",
       "}}\n",
       "\n",
       "// Listen for the clearing of the current output cell\n",
       "var outputEl = gd.closest('.output');\n",
       "if (outputEl) {{\n",
       "    x.observe(outputEl, {childList: true});\n",
       "}}\n",
       "\n",
       "                        })\n",
       "                };\n",
       "                });\n",
       "            </script>\n",
       "        </div>"
      ]
     },
     "metadata": {},
     "output_type": "display_data"
    }
   ],
   "source": [
    "trace = go.Scatter(\n",
    "    y = feature_dataframe['Random Forest feature importances'].values,\n",
    "    x = feature_dataframe['features'].values,\n",
    "    mode='markers',\n",
    "    marker=dict(\n",
    "        sizemode = 'diameter',\n",
    "        sizeref = 1,\n",
    "        size = 25,\n",
    "        color = np.random.randn(500), #set color equal to a variable\n",
    "        colorscale='Portland',\n",
    "        showscale=True\n",
    "    ),\n",
    "    text = feature_dataframe['features'].values\n",
    ")\n",
    "data = [trace]\n",
    " \n",
    "layout= go.Layout(\n",
    "    autosize= True,\n",
    "    title= 'Random Forest Feature Importance',\n",
    "    hovermode= 'closest',\n",
    "    yaxis=dict(\n",
    "        title= 'Feature Importance',\n",
    "        ticklen= 5,\n",
    "        gridwidth= 2\n",
    "    ),\n",
    "    showlegend= False\n",
    ")\n",
    "fig = go.Figure(data=data, layout=layout)\n",
    "py.iplot(fig,filename='scatter2010')\n",
    " \n",
    "# Scatter plot \n",
    "trace = go.Scatter(\n",
    "    y = feature_dataframe['Extra Trees  feature importances'].values,\n",
    "    x = feature_dataframe['features'].values,\n",
    "    mode='markers',\n",
    "    marker=dict(\n",
    "        sizemode = 'diameter',\n",
    "        sizeref = 1,\n",
    "        size = 25,\n",
    "        color = np.random.randn(500), #set color equal to a variable\n",
    "        colorscale='Portland',\n",
    "        showscale=True\n",
    "    ),\n",
    "    text = feature_dataframe['features'].values\n",
    ")\n",
    "data = [trace]\n",
    " \n",
    "layout= go.Layout(\n",
    "    autosize= True,\n",
    "    title= 'Extra Trees Feature Importance',\n",
    "    hovermode= 'closest',\n",
    "    yaxis=dict(\n",
    "        title= 'Feature Importance',\n",
    "        ticklen= 5,\n",
    "        gridwidth= 2\n",
    "    ),\n",
    "    showlegend= False\n",
    ")\n",
    "fig = go.Figure(data=data, layout=layout)\n",
    "py.iplot(fig,filename='scatter2010')\n",
    " \n",
    "# Scatter plot \n",
    "trace = go.Scatter(\n",
    "    y = feature_dataframe['AdaBoost feature importances'].values,\n",
    "    x = feature_dataframe['features'].values,\n",
    "    mode='markers',\n",
    "    marker=dict(\n",
    "        sizemode = 'diameter',\n",
    "        sizeref = 1,\n",
    "        size = 25,\n",
    "        color = np.random.randn(500), \n",
    "        colorscale='Portland',\n",
    "        showscale=True\n",
    "    ),\n",
    "    text = feature_dataframe['features'].values\n",
    ")\n",
    "data = [trace]\n",
    " \n",
    "layout= go.Layout(\n",
    "    autosize= True,\n",
    "    title= 'AdaBoost Feature Importance',\n",
    "    hovermode= 'closest',\n",
    "    yaxis=dict(\n",
    "        title= 'Feature Importance',\n",
    "        ticklen= 5,\n",
    "        gridwidth= 2\n",
    "    ),\n",
    "    showlegend= False\n",
    ")\n",
    "fig = go.Figure(data=data, layout=layout)\n",
    "py.iplot(fig,filename='scatter2010')\n",
    " \n",
    "# Scatter plot \n",
    "trace = go.Scatter(\n",
    "    y = feature_dataframe['Gradient Boost feature importances'].values,\n",
    "    x = feature_dataframe['features'].values,\n",
    "    mode='markers',\n",
    "    marker=dict(\n",
    "        sizemode = 'diameter',\n",
    "        sizeref = 1,\n",
    "        size = 25,\n",
    "        color = np.random.randn(500), #set color equal to a variable\n",
    "        colorscale='Portland',\n",
    "        showscale=True\n",
    "    ),\n",
    "    text = feature_dataframe['features'].values\n",
    ")\n",
    "data = [trace]\n",
    " \n",
    "layout= go.Layout(\n",
    "    autosize= True,\n",
    "    title= 'Gradient Boosting Feature Importance',\n",
    "    hovermode= 'closest',\n",
    "    yaxis=dict(\n",
    "        title= 'Feature Importance',\n",
    "        ticklen= 5,\n",
    "        gridwidth= 2\n",
    "    ),\n",
    "    showlegend= False\n",
    ")\n",
    "fig = go.Figure(data=data, layout=layout)\n",
    "py.iplot(fig,filename='Europa Lost')"
   ]
  },
  {
   "cell_type": "code",
   "execution_count": 16,
   "metadata": {},
   "outputs": [
    {
     "data": {
      "text/html": [
       "<div>\n",
       "<style scoped>\n",
       "    .dataframe tbody tr th:only-of-type {\n",
       "        vertical-align: middle;\n",
       "    }\n",
       "\n",
       "    .dataframe tbody tr th {\n",
       "        vertical-align: top;\n",
       "    }\n",
       "\n",
       "    .dataframe thead th {\n",
       "        text-align: right;\n",
       "    }\n",
       "</style>\n",
       "<table border=\"1\" class=\"dataframe\">\n",
       "  <thead>\n",
       "    <tr style=\"text-align: right;\">\n",
       "      <th></th>\n",
       "      <th>features</th>\n",
       "      <th>Random Forest feature importances</th>\n",
       "      <th>Extra Trees  feature importances</th>\n",
       "      <th>AdaBoost feature importances</th>\n",
       "      <th>Gradient Boost feature importances</th>\n",
       "      <th>mean</th>\n",
       "    </tr>\n",
       "  </thead>\n",
       "  <tbody>\n",
       "    <tr>\n",
       "      <th>0</th>\n",
       "      <td>login_cnt</td>\n",
       "      <td>0.064656</td>\n",
       "      <td>0.062696</td>\n",
       "      <td>0.054</td>\n",
       "      <td>0.045305</td>\n",
       "      <td>0.056664</td>\n",
       "    </tr>\n",
       "    <tr>\n",
       "      <th>1</th>\n",
       "      <td>quest_cnt</td>\n",
       "      <td>0.194538</td>\n",
       "      <td>0.089650</td>\n",
       "      <td>0.046</td>\n",
       "      <td>0.062887</td>\n",
       "      <td>0.098269</td>\n",
       "    </tr>\n",
       "    <tr>\n",
       "      <th>2</th>\n",
       "      <td>sigle_match_cnt</td>\n",
       "      <td>0.021560</td>\n",
       "      <td>0.020916</td>\n",
       "      <td>0.092</td>\n",
       "      <td>0.015174</td>\n",
       "      <td>0.037412</td>\n",
       "    </tr>\n",
       "  </tbody>\n",
       "</table>\n",
       "</div>"
      ],
      "text/plain": [
       "          features  Random Forest feature importances  \\\n",
       "0        login_cnt                           0.064656   \n",
       "1        quest_cnt                           0.194538   \n",
       "2  sigle_match_cnt                           0.021560   \n",
       "\n",
       "   Extra Trees  feature importances  AdaBoost feature importances  \\\n",
       "0                          0.062696                         0.054   \n",
       "1                          0.089650                         0.046   \n",
       "2                          0.020916                         0.092   \n",
       "\n",
       "   Gradient Boost feature importances      mean  \n",
       "0                            0.045305  0.056664  \n",
       "1                            0.062887  0.098269  \n",
       "2                            0.015174  0.037412  "
      ]
     },
     "execution_count": 16,
     "metadata": {},
     "output_type": "execute_result"
    }
   ],
   "source": [
    "feature_dataframe['mean'] = feature_dataframe.mean(axis= 1) # axis = 1 computes the mean row-wise\n",
    "# 看一下目前的数据格式吧：\n",
    "feature_dataframe.head(3)"
   ]
  },
  {
   "cell_type": "markdown",
   "metadata": {},
   "source": [
    "##### 数据平均以后看一下mean值下最重要的特征"
   ]
  },
  {
   "cell_type": "code",
   "execution_count": 17,
   "metadata": {},
   "outputs": [
    {
     "data": {
      "application/vnd.plotly.v1+json": {
       "config": {
        "linkText": "Export to plot.ly",
        "plotlyServerURL": "https://plot.ly",
        "showLink": false
       },
       "data": [
        {
         "marker": {
          "color": [
           0.056664341914371655,
           0.09826874163102722,
           0.03741221734369948,
           0.060897465367850956,
           0.09806152222185802,
           0.014419496919177134,
           0.01920222047802768,
           0.011053297270273682,
           0.008031198125769985,
           0.004914488560558353,
           0.008248504813998189,
           0.009587685424729351,
           0.061551193754237524,
           0.3017291975328143,
           0.01287214145252499,
           0.07646324319710773,
           0.08536132267551105,
           0.0018471257935798776,
           0.033414595522882784
          ],
          "colorscale": [
           [
            0,
            "rgb(12,51,131)"
           ],
           [
            0.25,
            "rgb(10,136,186)"
           ],
           [
            0.5,
            "rgb(242,211,56)"
           ],
           [
            0.75,
            "rgb(242,143,56)"
           ],
           [
            1,
            "rgb(217,30,30)"
           ]
          ],
          "reversescale": false,
          "showscale": true
         },
         "opacity": 0.6,
         "type": "bar",
         "width": 0.5,
         "x": [
          "login_cnt",
          "quest_cnt",
          "sigle_match_cnt",
          "team_match_cnt",
          "play_cnt",
          "avg_kill",
          "avg_hurt",
          "avg_livetime",
          "rank",
          "spend_money",
          "friend_add",
          "friend_del",
          "tier",
          "game_time",
          "register_day",
          "lonely_rate",
          "crate_use",
          "bp",
          "free_fuck"
         ],
         "y": [
          0.056664341914371655,
          0.09826874163102722,
          0.03741221734369948,
          0.060897465367850956,
          0.09806152222185802,
          0.014419496919177134,
          0.01920222047802768,
          0.011053297270273682,
          0.008031198125769985,
          0.004914488560558353,
          0.008248504813998189,
          0.009587685424729351,
          0.061551193754237524,
          0.3017291975328143,
          0.01287214145252499,
          0.07646324319710773,
          0.08536132267551105,
          0.0018471257935798776,
          0.033414595522882784
         ]
        }
       ],
       "layout": {
        "autosize": true,
        "hovermode": "closest",
        "showlegend": false,
        "template": {
         "data": {
          "bar": [
           {
            "error_x": {
             "color": "#2a3f5f"
            },
            "error_y": {
             "color": "#2a3f5f"
            },
            "marker": {
             "line": {
              "color": "#E5ECF6",
              "width": 0.5
             }
            },
            "type": "bar"
           }
          ],
          "barpolar": [
           {
            "marker": {
             "line": {
              "color": "#E5ECF6",
              "width": 0.5
             }
            },
            "type": "barpolar"
           }
          ],
          "carpet": [
           {
            "aaxis": {
             "endlinecolor": "#2a3f5f",
             "gridcolor": "white",
             "linecolor": "white",
             "minorgridcolor": "white",
             "startlinecolor": "#2a3f5f"
            },
            "baxis": {
             "endlinecolor": "#2a3f5f",
             "gridcolor": "white",
             "linecolor": "white",
             "minorgridcolor": "white",
             "startlinecolor": "#2a3f5f"
            },
            "type": "carpet"
           }
          ],
          "choropleth": [
           {
            "colorbar": {
             "outlinewidth": 0,
             "ticks": ""
            },
            "type": "choropleth"
           }
          ],
          "contour": [
           {
            "colorbar": {
             "outlinewidth": 0,
             "ticks": ""
            },
            "colorscale": [
             [
              0,
              "#0d0887"
             ],
             [
              0.1111111111111111,
              "#46039f"
             ],
             [
              0.2222222222222222,
              "#7201a8"
             ],
             [
              0.3333333333333333,
              "#9c179e"
             ],
             [
              0.4444444444444444,
              "#bd3786"
             ],
             [
              0.5555555555555556,
              "#d8576b"
             ],
             [
              0.6666666666666666,
              "#ed7953"
             ],
             [
              0.7777777777777778,
              "#fb9f3a"
             ],
             [
              0.8888888888888888,
              "#fdca26"
             ],
             [
              1,
              "#f0f921"
             ]
            ],
            "type": "contour"
           }
          ],
          "contourcarpet": [
           {
            "colorbar": {
             "outlinewidth": 0,
             "ticks": ""
            },
            "type": "contourcarpet"
           }
          ],
          "heatmap": [
           {
            "colorbar": {
             "outlinewidth": 0,
             "ticks": ""
            },
            "colorscale": [
             [
              0,
              "#0d0887"
             ],
             [
              0.1111111111111111,
              "#46039f"
             ],
             [
              0.2222222222222222,
              "#7201a8"
             ],
             [
              0.3333333333333333,
              "#9c179e"
             ],
             [
              0.4444444444444444,
              "#bd3786"
             ],
             [
              0.5555555555555556,
              "#d8576b"
             ],
             [
              0.6666666666666666,
              "#ed7953"
             ],
             [
              0.7777777777777778,
              "#fb9f3a"
             ],
             [
              0.8888888888888888,
              "#fdca26"
             ],
             [
              1,
              "#f0f921"
             ]
            ],
            "type": "heatmap"
           }
          ],
          "heatmapgl": [
           {
            "colorbar": {
             "outlinewidth": 0,
             "ticks": ""
            },
            "colorscale": [
             [
              0,
              "#0d0887"
             ],
             [
              0.1111111111111111,
              "#46039f"
             ],
             [
              0.2222222222222222,
              "#7201a8"
             ],
             [
              0.3333333333333333,
              "#9c179e"
             ],
             [
              0.4444444444444444,
              "#bd3786"
             ],
             [
              0.5555555555555556,
              "#d8576b"
             ],
             [
              0.6666666666666666,
              "#ed7953"
             ],
             [
              0.7777777777777778,
              "#fb9f3a"
             ],
             [
              0.8888888888888888,
              "#fdca26"
             ],
             [
              1,
              "#f0f921"
             ]
            ],
            "type": "heatmapgl"
           }
          ],
          "histogram": [
           {
            "marker": {
             "colorbar": {
              "outlinewidth": 0,
              "ticks": ""
             }
            },
            "type": "histogram"
           }
          ],
          "histogram2d": [
           {
            "colorbar": {
             "outlinewidth": 0,
             "ticks": ""
            },
            "colorscale": [
             [
              0,
              "#0d0887"
             ],
             [
              0.1111111111111111,
              "#46039f"
             ],
             [
              0.2222222222222222,
              "#7201a8"
             ],
             [
              0.3333333333333333,
              "#9c179e"
             ],
             [
              0.4444444444444444,
              "#bd3786"
             ],
             [
              0.5555555555555556,
              "#d8576b"
             ],
             [
              0.6666666666666666,
              "#ed7953"
             ],
             [
              0.7777777777777778,
              "#fb9f3a"
             ],
             [
              0.8888888888888888,
              "#fdca26"
             ],
             [
              1,
              "#f0f921"
             ]
            ],
            "type": "histogram2d"
           }
          ],
          "histogram2dcontour": [
           {
            "colorbar": {
             "outlinewidth": 0,
             "ticks": ""
            },
            "colorscale": [
             [
              0,
              "#0d0887"
             ],
             [
              0.1111111111111111,
              "#46039f"
             ],
             [
              0.2222222222222222,
              "#7201a8"
             ],
             [
              0.3333333333333333,
              "#9c179e"
             ],
             [
              0.4444444444444444,
              "#bd3786"
             ],
             [
              0.5555555555555556,
              "#d8576b"
             ],
             [
              0.6666666666666666,
              "#ed7953"
             ],
             [
              0.7777777777777778,
              "#fb9f3a"
             ],
             [
              0.8888888888888888,
              "#fdca26"
             ],
             [
              1,
              "#f0f921"
             ]
            ],
            "type": "histogram2dcontour"
           }
          ],
          "mesh3d": [
           {
            "colorbar": {
             "outlinewidth": 0,
             "ticks": ""
            },
            "type": "mesh3d"
           }
          ],
          "parcoords": [
           {
            "line": {
             "colorbar": {
              "outlinewidth": 0,
              "ticks": ""
             }
            },
            "type": "parcoords"
           }
          ],
          "scatter": [
           {
            "marker": {
             "colorbar": {
              "outlinewidth": 0,
              "ticks": ""
             }
            },
            "type": "scatter"
           }
          ],
          "scatter3d": [
           {
            "line": {
             "colorbar": {
              "outlinewidth": 0,
              "ticks": ""
             }
            },
            "marker": {
             "colorbar": {
              "outlinewidth": 0,
              "ticks": ""
             }
            },
            "type": "scatter3d"
           }
          ],
          "scattercarpet": [
           {
            "marker": {
             "colorbar": {
              "outlinewidth": 0,
              "ticks": ""
             }
            },
            "type": "scattercarpet"
           }
          ],
          "scattergeo": [
           {
            "marker": {
             "colorbar": {
              "outlinewidth": 0,
              "ticks": ""
             }
            },
            "type": "scattergeo"
           }
          ],
          "scattergl": [
           {
            "marker": {
             "colorbar": {
              "outlinewidth": 0,
              "ticks": ""
             }
            },
            "type": "scattergl"
           }
          ],
          "scattermapbox": [
           {
            "marker": {
             "colorbar": {
              "outlinewidth": 0,
              "ticks": ""
             }
            },
            "type": "scattermapbox"
           }
          ],
          "scatterpolar": [
           {
            "marker": {
             "colorbar": {
              "outlinewidth": 0,
              "ticks": ""
             }
            },
            "type": "scatterpolar"
           }
          ],
          "scatterpolargl": [
           {
            "marker": {
             "colorbar": {
              "outlinewidth": 0,
              "ticks": ""
             }
            },
            "type": "scatterpolargl"
           }
          ],
          "scatterternary": [
           {
            "marker": {
             "colorbar": {
              "outlinewidth": 0,
              "ticks": ""
             }
            },
            "type": "scatterternary"
           }
          ],
          "surface": [
           {
            "colorbar": {
             "outlinewidth": 0,
             "ticks": ""
            },
            "colorscale": [
             [
              0,
              "#0d0887"
             ],
             [
              0.1111111111111111,
              "#46039f"
             ],
             [
              0.2222222222222222,
              "#7201a8"
             ],
             [
              0.3333333333333333,
              "#9c179e"
             ],
             [
              0.4444444444444444,
              "#bd3786"
             ],
             [
              0.5555555555555556,
              "#d8576b"
             ],
             [
              0.6666666666666666,
              "#ed7953"
             ],
             [
              0.7777777777777778,
              "#fb9f3a"
             ],
             [
              0.8888888888888888,
              "#fdca26"
             ],
             [
              1,
              "#f0f921"
             ]
            ],
            "type": "surface"
           }
          ],
          "table": [
           {
            "cells": {
             "fill": {
              "color": "#EBF0F8"
             },
             "line": {
              "color": "white"
             }
            },
            "header": {
             "fill": {
              "color": "#C8D4E3"
             },
             "line": {
              "color": "white"
             }
            },
            "type": "table"
           }
          ]
         },
         "layout": {
          "annotationdefaults": {
           "arrowcolor": "#2a3f5f",
           "arrowhead": 0,
           "arrowwidth": 1
          },
          "colorscale": {
           "diverging": [
            [
             0,
             "#8e0152"
            ],
            [
             0.1,
             "#c51b7d"
            ],
            [
             0.2,
             "#de77ae"
            ],
            [
             0.3,
             "#f1b6da"
            ],
            [
             0.4,
             "#fde0ef"
            ],
            [
             0.5,
             "#f7f7f7"
            ],
            [
             0.6,
             "#e6f5d0"
            ],
            [
             0.7,
             "#b8e186"
            ],
            [
             0.8,
             "#7fbc41"
            ],
            [
             0.9,
             "#4d9221"
            ],
            [
             1,
             "#276419"
            ]
           ],
           "sequential": [
            [
             0,
             "#0d0887"
            ],
            [
             0.1111111111111111,
             "#46039f"
            ],
            [
             0.2222222222222222,
             "#7201a8"
            ],
            [
             0.3333333333333333,
             "#9c179e"
            ],
            [
             0.4444444444444444,
             "#bd3786"
            ],
            [
             0.5555555555555556,
             "#d8576b"
            ],
            [
             0.6666666666666666,
             "#ed7953"
            ],
            [
             0.7777777777777778,
             "#fb9f3a"
            ],
            [
             0.8888888888888888,
             "#fdca26"
            ],
            [
             1,
             "#f0f921"
            ]
           ],
           "sequentialminus": [
            [
             0,
             "#0d0887"
            ],
            [
             0.1111111111111111,
             "#46039f"
            ],
            [
             0.2222222222222222,
             "#7201a8"
            ],
            [
             0.3333333333333333,
             "#9c179e"
            ],
            [
             0.4444444444444444,
             "#bd3786"
            ],
            [
             0.5555555555555556,
             "#d8576b"
            ],
            [
             0.6666666666666666,
             "#ed7953"
            ],
            [
             0.7777777777777778,
             "#fb9f3a"
            ],
            [
             0.8888888888888888,
             "#fdca26"
            ],
            [
             1,
             "#f0f921"
            ]
           ]
          },
          "colorway": [
           "#636efa",
           "#EF553B",
           "#00cc96",
           "#ab63fa",
           "#FFA15A",
           "#19d3f3",
           "#FF6692",
           "#B6E880",
           "#FF97FF",
           "#FECB52"
          ],
          "font": {
           "color": "#2a3f5f"
          },
          "geo": {
           "bgcolor": "white",
           "lakecolor": "white",
           "landcolor": "#E5ECF6",
           "showlakes": true,
           "showland": true,
           "subunitcolor": "white"
          },
          "hoverlabel": {
           "align": "left"
          },
          "hovermode": "closest",
          "mapbox": {
           "style": "light"
          },
          "paper_bgcolor": "white",
          "plot_bgcolor": "#E5ECF6",
          "polar": {
           "angularaxis": {
            "gridcolor": "white",
            "linecolor": "white",
            "ticks": ""
           },
           "bgcolor": "#E5ECF6",
           "radialaxis": {
            "gridcolor": "white",
            "linecolor": "white",
            "ticks": ""
           }
          },
          "scene": {
           "xaxis": {
            "backgroundcolor": "#E5ECF6",
            "gridcolor": "white",
            "gridwidth": 2,
            "linecolor": "white",
            "showbackground": true,
            "ticks": "",
            "zerolinecolor": "white"
           },
           "yaxis": {
            "backgroundcolor": "#E5ECF6",
            "gridcolor": "white",
            "gridwidth": 2,
            "linecolor": "white",
            "showbackground": true,
            "ticks": "",
            "zerolinecolor": "white"
           },
           "zaxis": {
            "backgroundcolor": "#E5ECF6",
            "gridcolor": "white",
            "gridwidth": 2,
            "linecolor": "white",
            "showbackground": true,
            "ticks": "",
            "zerolinecolor": "white"
           }
          },
          "shapedefaults": {
           "line": {
            "color": "#2a3f5f"
           }
          },
          "ternary": {
           "aaxis": {
            "gridcolor": "white",
            "linecolor": "white",
            "ticks": ""
           },
           "baxis": {
            "gridcolor": "white",
            "linecolor": "white",
            "ticks": ""
           },
           "bgcolor": "#E5ECF6",
           "caxis": {
            "gridcolor": "white",
            "linecolor": "white",
            "ticks": ""
           }
          },
          "title": {
           "x": 0.05
          },
          "xaxis": {
           "automargin": true,
           "gridcolor": "white",
           "linecolor": "white",
           "ticks": "",
           "zerolinecolor": "white",
           "zerolinewidth": 2
          },
          "yaxis": {
           "automargin": true,
           "gridcolor": "white",
           "linecolor": "white",
           "ticks": "",
           "zerolinecolor": "white",
           "zerolinewidth": 2
          }
         }
        },
        "title": {
         "text": "Barplots of Mean Feature Importance"
        },
        "yaxis": {
         "gridwidth": 2,
         "ticklen": 5,
         "title": {
          "text": "Feature Importance"
         }
        }
       }
      },
      "text/html": [
       "<div>\n",
       "        \n",
       "        \n",
       "            <div id=\"8fa415c0-8676-41c5-bc27-9ede497a3e4b\" class=\"plotly-graph-div\" style=\"height:525px; width:100%;\"></div>\n",
       "            <script type=\"text/javascript\">\n",
       "                require([\"plotly\"], function(Plotly) {\n",
       "                    window.PLOTLYENV=window.PLOTLYENV || {};\n",
       "                    \n",
       "                if (document.getElementById(\"8fa415c0-8676-41c5-bc27-9ede497a3e4b\")) {\n",
       "                    Plotly.newPlot(\n",
       "                        '8fa415c0-8676-41c5-bc27-9ede497a3e4b',\n",
       "                        [{\"marker\": {\"color\": [0.056664341914371655, 0.09826874163102722, 0.03741221734369948, 0.060897465367850956, 0.09806152222185802, 0.014419496919177134, 0.01920222047802768, 0.011053297270273682, 0.008031198125769985, 0.004914488560558353, 0.008248504813998189, 0.009587685424729351, 0.061551193754237524, 0.3017291975328143, 0.01287214145252499, 0.07646324319710773, 0.08536132267551105, 0.0018471257935798776, 0.033414595522882784], \"colorscale\": [[0.0, \"rgb(12,51,131)\"], [0.25, \"rgb(10,136,186)\"], [0.5, \"rgb(242,211,56)\"], [0.75, \"rgb(242,143,56)\"], [1.0, \"rgb(217,30,30)\"]], \"reversescale\": false, \"showscale\": true}, \"opacity\": 0.6, \"type\": \"bar\", \"width\": 0.5, \"x\": [\"login_cnt\", \"quest_cnt\", \"sigle_match_cnt\", \"team_match_cnt\", \"play_cnt\", \"avg_kill\", \"avg_hurt\", \"avg_livetime\", \"rank\", \"spend_money\", \"friend_add\", \"friend_del\", \"tier\", \"game_time\", \"register_day\", \"lonely_rate\", \"crate_use\", \"bp\", \"free_fuck\"], \"y\": [0.056664341914371655, 0.09826874163102722, 0.03741221734369948, 0.060897465367850956, 0.09806152222185802, 0.014419496919177134, 0.01920222047802768, 0.011053297270273682, 0.008031198125769985, 0.004914488560558353, 0.008248504813998189, 0.009587685424729351, 0.061551193754237524, 0.3017291975328143, 0.01287214145252499, 0.07646324319710773, 0.08536132267551105, 0.0018471257935798776, 0.033414595522882784]}],\n",
       "                        {\"autosize\": true, \"hovermode\": \"closest\", \"showlegend\": false, \"template\": {\"data\": {\"bar\": [{\"error_x\": {\"color\": \"#2a3f5f\"}, \"error_y\": {\"color\": \"#2a3f5f\"}, \"marker\": {\"line\": {\"color\": \"#E5ECF6\", \"width\": 0.5}}, \"type\": \"bar\"}], \"barpolar\": [{\"marker\": {\"line\": {\"color\": \"#E5ECF6\", \"width\": 0.5}}, \"type\": \"barpolar\"}], \"carpet\": [{\"aaxis\": {\"endlinecolor\": \"#2a3f5f\", \"gridcolor\": \"white\", \"linecolor\": \"white\", \"minorgridcolor\": \"white\", \"startlinecolor\": \"#2a3f5f\"}, \"baxis\": {\"endlinecolor\": \"#2a3f5f\", \"gridcolor\": \"white\", \"linecolor\": \"white\", \"minorgridcolor\": \"white\", \"startlinecolor\": \"#2a3f5f\"}, \"type\": \"carpet\"}], \"choropleth\": [{\"colorbar\": {\"outlinewidth\": 0, \"ticks\": \"\"}, \"type\": \"choropleth\"}], \"contour\": [{\"colorbar\": {\"outlinewidth\": 0, \"ticks\": \"\"}, \"colorscale\": [[0.0, \"#0d0887\"], [0.1111111111111111, \"#46039f\"], [0.2222222222222222, \"#7201a8\"], [0.3333333333333333, \"#9c179e\"], [0.4444444444444444, \"#bd3786\"], [0.5555555555555556, \"#d8576b\"], [0.6666666666666666, \"#ed7953\"], [0.7777777777777778, \"#fb9f3a\"], [0.8888888888888888, \"#fdca26\"], [1.0, \"#f0f921\"]], \"type\": \"contour\"}], \"contourcarpet\": [{\"colorbar\": {\"outlinewidth\": 0, \"ticks\": \"\"}, \"type\": \"contourcarpet\"}], \"heatmap\": [{\"colorbar\": {\"outlinewidth\": 0, \"ticks\": \"\"}, \"colorscale\": [[0.0, \"#0d0887\"], [0.1111111111111111, \"#46039f\"], [0.2222222222222222, \"#7201a8\"], [0.3333333333333333, \"#9c179e\"], [0.4444444444444444, \"#bd3786\"], [0.5555555555555556, \"#d8576b\"], [0.6666666666666666, \"#ed7953\"], [0.7777777777777778, \"#fb9f3a\"], [0.8888888888888888, \"#fdca26\"], [1.0, \"#f0f921\"]], \"type\": \"heatmap\"}], \"heatmapgl\": [{\"colorbar\": {\"outlinewidth\": 0, \"ticks\": \"\"}, \"colorscale\": [[0.0, \"#0d0887\"], [0.1111111111111111, \"#46039f\"], [0.2222222222222222, \"#7201a8\"], [0.3333333333333333, \"#9c179e\"], [0.4444444444444444, \"#bd3786\"], [0.5555555555555556, \"#d8576b\"], [0.6666666666666666, \"#ed7953\"], [0.7777777777777778, \"#fb9f3a\"], [0.8888888888888888, \"#fdca26\"], [1.0, \"#f0f921\"]], \"type\": \"heatmapgl\"}], \"histogram\": [{\"marker\": {\"colorbar\": {\"outlinewidth\": 0, \"ticks\": \"\"}}, \"type\": \"histogram\"}], \"histogram2d\": [{\"colorbar\": {\"outlinewidth\": 0, \"ticks\": \"\"}, \"colorscale\": [[0.0, \"#0d0887\"], [0.1111111111111111, \"#46039f\"], [0.2222222222222222, \"#7201a8\"], [0.3333333333333333, \"#9c179e\"], [0.4444444444444444, \"#bd3786\"], [0.5555555555555556, \"#d8576b\"], [0.6666666666666666, \"#ed7953\"], [0.7777777777777778, \"#fb9f3a\"], [0.8888888888888888, \"#fdca26\"], [1.0, \"#f0f921\"]], \"type\": \"histogram2d\"}], \"histogram2dcontour\": [{\"colorbar\": {\"outlinewidth\": 0, \"ticks\": \"\"}, \"colorscale\": [[0.0, \"#0d0887\"], [0.1111111111111111, \"#46039f\"], [0.2222222222222222, \"#7201a8\"], [0.3333333333333333, \"#9c179e\"], [0.4444444444444444, \"#bd3786\"], [0.5555555555555556, \"#d8576b\"], [0.6666666666666666, \"#ed7953\"], [0.7777777777777778, \"#fb9f3a\"], [0.8888888888888888, \"#fdca26\"], [1.0, \"#f0f921\"]], \"type\": \"histogram2dcontour\"}], \"mesh3d\": [{\"colorbar\": {\"outlinewidth\": 0, \"ticks\": \"\"}, \"type\": \"mesh3d\"}], \"parcoords\": [{\"line\": {\"colorbar\": {\"outlinewidth\": 0, \"ticks\": \"\"}}, \"type\": \"parcoords\"}], \"scatter\": [{\"marker\": {\"colorbar\": {\"outlinewidth\": 0, \"ticks\": \"\"}}, \"type\": \"scatter\"}], \"scatter3d\": [{\"line\": {\"colorbar\": {\"outlinewidth\": 0, \"ticks\": \"\"}}, \"marker\": {\"colorbar\": {\"outlinewidth\": 0, \"ticks\": \"\"}}, \"type\": \"scatter3d\"}], \"scattercarpet\": [{\"marker\": {\"colorbar\": {\"outlinewidth\": 0, \"ticks\": \"\"}}, \"type\": \"scattercarpet\"}], \"scattergeo\": [{\"marker\": {\"colorbar\": {\"outlinewidth\": 0, \"ticks\": \"\"}}, \"type\": \"scattergeo\"}], \"scattergl\": [{\"marker\": {\"colorbar\": {\"outlinewidth\": 0, \"ticks\": \"\"}}, \"type\": \"scattergl\"}], \"scattermapbox\": [{\"marker\": {\"colorbar\": {\"outlinewidth\": 0, \"ticks\": \"\"}}, \"type\": \"scattermapbox\"}], \"scatterpolar\": [{\"marker\": {\"colorbar\": {\"outlinewidth\": 0, \"ticks\": \"\"}}, \"type\": \"scatterpolar\"}], \"scatterpolargl\": [{\"marker\": {\"colorbar\": {\"outlinewidth\": 0, \"ticks\": \"\"}}, \"type\": \"scatterpolargl\"}], \"scatterternary\": [{\"marker\": {\"colorbar\": {\"outlinewidth\": 0, \"ticks\": \"\"}}, \"type\": \"scatterternary\"}], \"surface\": [{\"colorbar\": {\"outlinewidth\": 0, \"ticks\": \"\"}, \"colorscale\": [[0.0, \"#0d0887\"], [0.1111111111111111, \"#46039f\"], [0.2222222222222222, \"#7201a8\"], [0.3333333333333333, \"#9c179e\"], [0.4444444444444444, \"#bd3786\"], [0.5555555555555556, \"#d8576b\"], [0.6666666666666666, \"#ed7953\"], [0.7777777777777778, \"#fb9f3a\"], [0.8888888888888888, \"#fdca26\"], [1.0, \"#f0f921\"]], \"type\": \"surface\"}], \"table\": [{\"cells\": {\"fill\": {\"color\": \"#EBF0F8\"}, \"line\": {\"color\": \"white\"}}, \"header\": {\"fill\": {\"color\": \"#C8D4E3\"}, \"line\": {\"color\": \"white\"}}, \"type\": \"table\"}]}, \"layout\": {\"annotationdefaults\": {\"arrowcolor\": \"#2a3f5f\", \"arrowhead\": 0, \"arrowwidth\": 1}, \"colorscale\": {\"diverging\": [[0, \"#8e0152\"], [0.1, \"#c51b7d\"], [0.2, \"#de77ae\"], [0.3, \"#f1b6da\"], [0.4, \"#fde0ef\"], [0.5, \"#f7f7f7\"], [0.6, \"#e6f5d0\"], [0.7, \"#b8e186\"], [0.8, \"#7fbc41\"], [0.9, \"#4d9221\"], [1, \"#276419\"]], \"sequential\": [[0.0, \"#0d0887\"], [0.1111111111111111, \"#46039f\"], [0.2222222222222222, \"#7201a8\"], [0.3333333333333333, \"#9c179e\"], [0.4444444444444444, \"#bd3786\"], [0.5555555555555556, \"#d8576b\"], [0.6666666666666666, \"#ed7953\"], [0.7777777777777778, \"#fb9f3a\"], [0.8888888888888888, \"#fdca26\"], [1.0, \"#f0f921\"]], \"sequentialminus\": [[0.0, \"#0d0887\"], [0.1111111111111111, \"#46039f\"], [0.2222222222222222, \"#7201a8\"], [0.3333333333333333, \"#9c179e\"], [0.4444444444444444, \"#bd3786\"], [0.5555555555555556, \"#d8576b\"], [0.6666666666666666, \"#ed7953\"], [0.7777777777777778, \"#fb9f3a\"], [0.8888888888888888, \"#fdca26\"], [1.0, \"#f0f921\"]]}, \"colorway\": [\"#636efa\", \"#EF553B\", \"#00cc96\", \"#ab63fa\", \"#FFA15A\", \"#19d3f3\", \"#FF6692\", \"#B6E880\", \"#FF97FF\", \"#FECB52\"], \"font\": {\"color\": \"#2a3f5f\"}, \"geo\": {\"bgcolor\": \"white\", \"lakecolor\": \"white\", \"landcolor\": \"#E5ECF6\", \"showlakes\": true, \"showland\": true, \"subunitcolor\": \"white\"}, \"hoverlabel\": {\"align\": \"left\"}, \"hovermode\": \"closest\", \"mapbox\": {\"style\": \"light\"}, \"paper_bgcolor\": \"white\", \"plot_bgcolor\": \"#E5ECF6\", \"polar\": {\"angularaxis\": {\"gridcolor\": \"white\", \"linecolor\": \"white\", \"ticks\": \"\"}, \"bgcolor\": \"#E5ECF6\", \"radialaxis\": {\"gridcolor\": \"white\", \"linecolor\": \"white\", \"ticks\": \"\"}}, \"scene\": {\"xaxis\": {\"backgroundcolor\": \"#E5ECF6\", \"gridcolor\": \"white\", \"gridwidth\": 2, \"linecolor\": \"white\", \"showbackground\": true, \"ticks\": \"\", \"zerolinecolor\": \"white\"}, \"yaxis\": {\"backgroundcolor\": \"#E5ECF6\", \"gridcolor\": \"white\", \"gridwidth\": 2, \"linecolor\": \"white\", \"showbackground\": true, \"ticks\": \"\", \"zerolinecolor\": \"white\"}, \"zaxis\": {\"backgroundcolor\": \"#E5ECF6\", \"gridcolor\": \"white\", \"gridwidth\": 2, \"linecolor\": \"white\", \"showbackground\": true, \"ticks\": \"\", \"zerolinecolor\": \"white\"}}, \"shapedefaults\": {\"line\": {\"color\": \"#2a3f5f\"}}, \"ternary\": {\"aaxis\": {\"gridcolor\": \"white\", \"linecolor\": \"white\", \"ticks\": \"\"}, \"baxis\": {\"gridcolor\": \"white\", \"linecolor\": \"white\", \"ticks\": \"\"}, \"bgcolor\": \"#E5ECF6\", \"caxis\": {\"gridcolor\": \"white\", \"linecolor\": \"white\", \"ticks\": \"\"}}, \"title\": {\"x\": 0.05}, \"xaxis\": {\"automargin\": true, \"gridcolor\": \"white\", \"linecolor\": \"white\", \"ticks\": \"\", \"zerolinecolor\": \"white\", \"zerolinewidth\": 2}, \"yaxis\": {\"automargin\": true, \"gridcolor\": \"white\", \"linecolor\": \"white\", \"ticks\": \"\", \"zerolinecolor\": \"white\", \"zerolinewidth\": 2}}}, \"title\": {\"text\": \"Barplots of Mean Feature Importance\"}, \"yaxis\": {\"gridwidth\": 2, \"ticklen\": 5, \"title\": {\"text\": \"Feature Importance\"}}},\n",
       "                        {\"responsive\": true}\n",
       "                    ).then(function(){\n",
       "                            \n",
       "var gd = document.getElementById('8fa415c0-8676-41c5-bc27-9ede497a3e4b');\n",
       "var x = new MutationObserver(function (mutations, observer) {{\n",
       "        var display = window.getComputedStyle(gd).display;\n",
       "        if (!display || display === 'none') {{\n",
       "            console.log([gd, 'removed!']);\n",
       "            Plotly.purge(gd);\n",
       "            observer.disconnect();\n",
       "        }}\n",
       "}});\n",
       "\n",
       "// Listen for the removal of the full notebook cells\n",
       "var notebookContainer = gd.closest('#notebook-container');\n",
       "if (notebookContainer) {{\n",
       "    x.observe(notebookContainer, {childList: true});\n",
       "}}\n",
       "\n",
       "// Listen for the clearing of the current output cell\n",
       "var outputEl = gd.closest('.output');\n",
       "if (outputEl) {{\n",
       "    x.observe(outputEl, {childList: true});\n",
       "}}\n",
       "\n",
       "                        })\n",
       "                };\n",
       "                });\n",
       "            </script>\n",
       "        </div>"
      ]
     },
     "metadata": {},
     "output_type": "display_data"
    }
   ],
   "source": [
    "y = feature_dataframe['mean'].values\n",
    "x = feature_dataframe['features'].values\n",
    "data = [go.Bar(\n",
    "            x= x,\n",
    "             y= y,\n",
    "            width = 0.5,\n",
    "            marker=dict(\n",
    "               color = feature_dataframe['mean'].values,\n",
    "            colorscale='Portland',\n",
    "            showscale=True,\n",
    "            reversescale = False\n",
    "            ),\n",
    "            opacity=0.6\n",
    "        )]\n",
    " \n",
    "layout= go.Layout(\n",
    "    autosize= True,\n",
    "    title= 'Barplots of Mean Feature Importance',\n",
    "    hovermode= 'closest',\n",
    "    yaxis=dict(\n",
    "        title= 'Feature Importance',\n",
    "        ticklen= 5,\n",
    "        gridwidth= 2\n",
    "    ),\n",
    "    showlegend= False\n",
    ")\n",
    "fig = go.Figure(data=data, layout=layout)\n",
    "py.iplot(fig, filename='bar-direct-labels')"
   ]
  },
  {
   "cell_type": "markdown",
   "metadata": {},
   "source": [
    "##### 看一下第一层训练出来以后的特征相关度，可以看出还是有非常高的正相关性的。"
   ]
  },
  {
   "cell_type": "code",
   "execution_count": 20,
   "metadata": {},
   "outputs": [
    {
     "data": {
      "text/html": [
       "<div>\n",
       "<style scoped>\n",
       "    .dataframe tbody tr th:only-of-type {\n",
       "        vertical-align: middle;\n",
       "    }\n",
       "\n",
       "    .dataframe tbody tr th {\n",
       "        vertical-align: top;\n",
       "    }\n",
       "\n",
       "    .dataframe thead th {\n",
       "        text-align: right;\n",
       "    }\n",
       "</style>\n",
       "<table border=\"1\" class=\"dataframe\">\n",
       "  <thead>\n",
       "    <tr style=\"text-align: right;\">\n",
       "      <th></th>\n",
       "      <th>RandomForest</th>\n",
       "      <th>ExtraTrees</th>\n",
       "      <th>AdaBoost</th>\n",
       "      <th>GradientBoost</th>\n",
       "    </tr>\n",
       "  </thead>\n",
       "  <tbody>\n",
       "    <tr>\n",
       "      <th>0</th>\n",
       "      <td>1.0</td>\n",
       "      <td>1.0</td>\n",
       "      <td>1.0</td>\n",
       "      <td>0.0</td>\n",
       "    </tr>\n",
       "    <tr>\n",
       "      <th>1</th>\n",
       "      <td>0.0</td>\n",
       "      <td>0.0</td>\n",
       "      <td>1.0</td>\n",
       "      <td>0.0</td>\n",
       "    </tr>\n",
       "    <tr>\n",
       "      <th>2</th>\n",
       "      <td>1.0</td>\n",
       "      <td>1.0</td>\n",
       "      <td>1.0</td>\n",
       "      <td>1.0</td>\n",
       "    </tr>\n",
       "    <tr>\n",
       "      <th>3</th>\n",
       "      <td>0.0</td>\n",
       "      <td>0.0</td>\n",
       "      <td>0.0</td>\n",
       "      <td>0.0</td>\n",
       "    </tr>\n",
       "    <tr>\n",
       "      <th>4</th>\n",
       "      <td>0.0</td>\n",
       "      <td>0.0</td>\n",
       "      <td>0.0</td>\n",
       "      <td>0.0</td>\n",
       "    </tr>\n",
       "  </tbody>\n",
       "</table>\n",
       "</div>"
      ],
      "text/plain": [
       "   RandomForest  ExtraTrees  AdaBoost  GradientBoost\n",
       "0           1.0         1.0       1.0            0.0\n",
       "1           0.0         0.0       1.0            0.0\n",
       "2           1.0         1.0       1.0            1.0\n",
       "3           0.0         0.0       0.0            0.0\n",
       "4           0.0         0.0       0.0            0.0"
      ]
     },
     "execution_count": 20,
     "metadata": {},
     "output_type": "execute_result"
    }
   ],
   "source": [
    "base_predictions_train = pd.DataFrame( {'RandomForest': rf_oof_train.ravel(),\n",
    "     'ExtraTrees': et_oof_train.ravel(),\n",
    "     'AdaBoost': ada_oof_train.ravel(),\n",
    "      'GradientBoost': gb_oof_train.ravel()\n",
    "    })\n",
    "base_predictions_train.head()"
   ]
  },
  {
   "cell_type": "code",
   "execution_count": 21,
   "metadata": {},
   "outputs": [
    {
     "data": {
      "application/vnd.plotly.v1+json": {
       "config": {
        "linkText": "Export to plot.ly",
        "plotlyServerURL": "https://plot.ly",
        "showLink": false
       },
       "data": [
        {
         "colorscale": [
          [
           0,
           "#440154"
          ],
          [
           0.1111111111111111,
           "#482878"
          ],
          [
           0.2222222222222222,
           "#3e4989"
          ],
          [
           0.3333333333333333,
           "#31688e"
          ],
          [
           0.4444444444444444,
           "#26828e"
          ],
          [
           0.5555555555555556,
           "#1f9e89"
          ],
          [
           0.6666666666666666,
           "#35b779"
          ],
          [
           0.7777777777777778,
           "#6ece58"
          ],
          [
           0.8888888888888888,
           "#b5de2b"
          ],
          [
           1,
           "#fde725"
          ]
         ],
         "reversescale": true,
         "showscale": true,
         "type": "heatmap",
         "x": [
          "RandomForest",
          "ExtraTrees",
          "AdaBoost",
          "GradientBoost"
         ],
         "y": [
          "RandomForest",
          "ExtraTrees",
          "AdaBoost",
          "GradientBoost"
         ],
         "z": [
          [
           1,
           0.8613938795910768,
           0.8151293716791554,
           0.7737184332473472
          ],
          [
           0.8613938795910768,
           1,
           0.878879635769002,
           0.8044985948059133
          ],
          [
           0.8151293716791554,
           0.878879635769002,
           1,
           0.7980542040611992
          ],
          [
           0.7737184332473472,
           0.8044985948059133,
           0.7980542040611992,
           1
          ]
         ]
        }
       ],
       "layout": {
        "template": {
         "data": {
          "bar": [
           {
            "error_x": {
             "color": "#2a3f5f"
            },
            "error_y": {
             "color": "#2a3f5f"
            },
            "marker": {
             "line": {
              "color": "#E5ECF6",
              "width": 0.5
             }
            },
            "type": "bar"
           }
          ],
          "barpolar": [
           {
            "marker": {
             "line": {
              "color": "#E5ECF6",
              "width": 0.5
             }
            },
            "type": "barpolar"
           }
          ],
          "carpet": [
           {
            "aaxis": {
             "endlinecolor": "#2a3f5f",
             "gridcolor": "white",
             "linecolor": "white",
             "minorgridcolor": "white",
             "startlinecolor": "#2a3f5f"
            },
            "baxis": {
             "endlinecolor": "#2a3f5f",
             "gridcolor": "white",
             "linecolor": "white",
             "minorgridcolor": "white",
             "startlinecolor": "#2a3f5f"
            },
            "type": "carpet"
           }
          ],
          "choropleth": [
           {
            "colorbar": {
             "outlinewidth": 0,
             "ticks": ""
            },
            "type": "choropleth"
           }
          ],
          "contour": [
           {
            "colorbar": {
             "outlinewidth": 0,
             "ticks": ""
            },
            "colorscale": [
             [
              0,
              "#0d0887"
             ],
             [
              0.1111111111111111,
              "#46039f"
             ],
             [
              0.2222222222222222,
              "#7201a8"
             ],
             [
              0.3333333333333333,
              "#9c179e"
             ],
             [
              0.4444444444444444,
              "#bd3786"
             ],
             [
              0.5555555555555556,
              "#d8576b"
             ],
             [
              0.6666666666666666,
              "#ed7953"
             ],
             [
              0.7777777777777778,
              "#fb9f3a"
             ],
             [
              0.8888888888888888,
              "#fdca26"
             ],
             [
              1,
              "#f0f921"
             ]
            ],
            "type": "contour"
           }
          ],
          "contourcarpet": [
           {
            "colorbar": {
             "outlinewidth": 0,
             "ticks": ""
            },
            "type": "contourcarpet"
           }
          ],
          "heatmap": [
           {
            "colorbar": {
             "outlinewidth": 0,
             "ticks": ""
            },
            "colorscale": [
             [
              0,
              "#0d0887"
             ],
             [
              0.1111111111111111,
              "#46039f"
             ],
             [
              0.2222222222222222,
              "#7201a8"
             ],
             [
              0.3333333333333333,
              "#9c179e"
             ],
             [
              0.4444444444444444,
              "#bd3786"
             ],
             [
              0.5555555555555556,
              "#d8576b"
             ],
             [
              0.6666666666666666,
              "#ed7953"
             ],
             [
              0.7777777777777778,
              "#fb9f3a"
             ],
             [
              0.8888888888888888,
              "#fdca26"
             ],
             [
              1,
              "#f0f921"
             ]
            ],
            "type": "heatmap"
           }
          ],
          "heatmapgl": [
           {
            "colorbar": {
             "outlinewidth": 0,
             "ticks": ""
            },
            "colorscale": [
             [
              0,
              "#0d0887"
             ],
             [
              0.1111111111111111,
              "#46039f"
             ],
             [
              0.2222222222222222,
              "#7201a8"
             ],
             [
              0.3333333333333333,
              "#9c179e"
             ],
             [
              0.4444444444444444,
              "#bd3786"
             ],
             [
              0.5555555555555556,
              "#d8576b"
             ],
             [
              0.6666666666666666,
              "#ed7953"
             ],
             [
              0.7777777777777778,
              "#fb9f3a"
             ],
             [
              0.8888888888888888,
              "#fdca26"
             ],
             [
              1,
              "#f0f921"
             ]
            ],
            "type": "heatmapgl"
           }
          ],
          "histogram": [
           {
            "marker": {
             "colorbar": {
              "outlinewidth": 0,
              "ticks": ""
             }
            },
            "type": "histogram"
           }
          ],
          "histogram2d": [
           {
            "colorbar": {
             "outlinewidth": 0,
             "ticks": ""
            },
            "colorscale": [
             [
              0,
              "#0d0887"
             ],
             [
              0.1111111111111111,
              "#46039f"
             ],
             [
              0.2222222222222222,
              "#7201a8"
             ],
             [
              0.3333333333333333,
              "#9c179e"
             ],
             [
              0.4444444444444444,
              "#bd3786"
             ],
             [
              0.5555555555555556,
              "#d8576b"
             ],
             [
              0.6666666666666666,
              "#ed7953"
             ],
             [
              0.7777777777777778,
              "#fb9f3a"
             ],
             [
              0.8888888888888888,
              "#fdca26"
             ],
             [
              1,
              "#f0f921"
             ]
            ],
            "type": "histogram2d"
           }
          ],
          "histogram2dcontour": [
           {
            "colorbar": {
             "outlinewidth": 0,
             "ticks": ""
            },
            "colorscale": [
             [
              0,
              "#0d0887"
             ],
             [
              0.1111111111111111,
              "#46039f"
             ],
             [
              0.2222222222222222,
              "#7201a8"
             ],
             [
              0.3333333333333333,
              "#9c179e"
             ],
             [
              0.4444444444444444,
              "#bd3786"
             ],
             [
              0.5555555555555556,
              "#d8576b"
             ],
             [
              0.6666666666666666,
              "#ed7953"
             ],
             [
              0.7777777777777778,
              "#fb9f3a"
             ],
             [
              0.8888888888888888,
              "#fdca26"
             ],
             [
              1,
              "#f0f921"
             ]
            ],
            "type": "histogram2dcontour"
           }
          ],
          "mesh3d": [
           {
            "colorbar": {
             "outlinewidth": 0,
             "ticks": ""
            },
            "type": "mesh3d"
           }
          ],
          "parcoords": [
           {
            "line": {
             "colorbar": {
              "outlinewidth": 0,
              "ticks": ""
             }
            },
            "type": "parcoords"
           }
          ],
          "scatter": [
           {
            "marker": {
             "colorbar": {
              "outlinewidth": 0,
              "ticks": ""
             }
            },
            "type": "scatter"
           }
          ],
          "scatter3d": [
           {
            "line": {
             "colorbar": {
              "outlinewidth": 0,
              "ticks": ""
             }
            },
            "marker": {
             "colorbar": {
              "outlinewidth": 0,
              "ticks": ""
             }
            },
            "type": "scatter3d"
           }
          ],
          "scattercarpet": [
           {
            "marker": {
             "colorbar": {
              "outlinewidth": 0,
              "ticks": ""
             }
            },
            "type": "scattercarpet"
           }
          ],
          "scattergeo": [
           {
            "marker": {
             "colorbar": {
              "outlinewidth": 0,
              "ticks": ""
             }
            },
            "type": "scattergeo"
           }
          ],
          "scattergl": [
           {
            "marker": {
             "colorbar": {
              "outlinewidth": 0,
              "ticks": ""
             }
            },
            "type": "scattergl"
           }
          ],
          "scattermapbox": [
           {
            "marker": {
             "colorbar": {
              "outlinewidth": 0,
              "ticks": ""
             }
            },
            "type": "scattermapbox"
           }
          ],
          "scatterpolar": [
           {
            "marker": {
             "colorbar": {
              "outlinewidth": 0,
              "ticks": ""
             }
            },
            "type": "scatterpolar"
           }
          ],
          "scatterpolargl": [
           {
            "marker": {
             "colorbar": {
              "outlinewidth": 0,
              "ticks": ""
             }
            },
            "type": "scatterpolargl"
           }
          ],
          "scatterternary": [
           {
            "marker": {
             "colorbar": {
              "outlinewidth": 0,
              "ticks": ""
             }
            },
            "type": "scatterternary"
           }
          ],
          "surface": [
           {
            "colorbar": {
             "outlinewidth": 0,
             "ticks": ""
            },
            "colorscale": [
             [
              0,
              "#0d0887"
             ],
             [
              0.1111111111111111,
              "#46039f"
             ],
             [
              0.2222222222222222,
              "#7201a8"
             ],
             [
              0.3333333333333333,
              "#9c179e"
             ],
             [
              0.4444444444444444,
              "#bd3786"
             ],
             [
              0.5555555555555556,
              "#d8576b"
             ],
             [
              0.6666666666666666,
              "#ed7953"
             ],
             [
              0.7777777777777778,
              "#fb9f3a"
             ],
             [
              0.8888888888888888,
              "#fdca26"
             ],
             [
              1,
              "#f0f921"
             ]
            ],
            "type": "surface"
           }
          ],
          "table": [
           {
            "cells": {
             "fill": {
              "color": "#EBF0F8"
             },
             "line": {
              "color": "white"
             }
            },
            "header": {
             "fill": {
              "color": "#C8D4E3"
             },
             "line": {
              "color": "white"
             }
            },
            "type": "table"
           }
          ]
         },
         "layout": {
          "annotationdefaults": {
           "arrowcolor": "#2a3f5f",
           "arrowhead": 0,
           "arrowwidth": 1
          },
          "colorscale": {
           "diverging": [
            [
             0,
             "#8e0152"
            ],
            [
             0.1,
             "#c51b7d"
            ],
            [
             0.2,
             "#de77ae"
            ],
            [
             0.3,
             "#f1b6da"
            ],
            [
             0.4,
             "#fde0ef"
            ],
            [
             0.5,
             "#f7f7f7"
            ],
            [
             0.6,
             "#e6f5d0"
            ],
            [
             0.7,
             "#b8e186"
            ],
            [
             0.8,
             "#7fbc41"
            ],
            [
             0.9,
             "#4d9221"
            ],
            [
             1,
             "#276419"
            ]
           ],
           "sequential": [
            [
             0,
             "#0d0887"
            ],
            [
             0.1111111111111111,
             "#46039f"
            ],
            [
             0.2222222222222222,
             "#7201a8"
            ],
            [
             0.3333333333333333,
             "#9c179e"
            ],
            [
             0.4444444444444444,
             "#bd3786"
            ],
            [
             0.5555555555555556,
             "#d8576b"
            ],
            [
             0.6666666666666666,
             "#ed7953"
            ],
            [
             0.7777777777777778,
             "#fb9f3a"
            ],
            [
             0.8888888888888888,
             "#fdca26"
            ],
            [
             1,
             "#f0f921"
            ]
           ],
           "sequentialminus": [
            [
             0,
             "#0d0887"
            ],
            [
             0.1111111111111111,
             "#46039f"
            ],
            [
             0.2222222222222222,
             "#7201a8"
            ],
            [
             0.3333333333333333,
             "#9c179e"
            ],
            [
             0.4444444444444444,
             "#bd3786"
            ],
            [
             0.5555555555555556,
             "#d8576b"
            ],
            [
             0.6666666666666666,
             "#ed7953"
            ],
            [
             0.7777777777777778,
             "#fb9f3a"
            ],
            [
             0.8888888888888888,
             "#fdca26"
            ],
            [
             1,
             "#f0f921"
            ]
           ]
          },
          "colorway": [
           "#636efa",
           "#EF553B",
           "#00cc96",
           "#ab63fa",
           "#FFA15A",
           "#19d3f3",
           "#FF6692",
           "#B6E880",
           "#FF97FF",
           "#FECB52"
          ],
          "font": {
           "color": "#2a3f5f"
          },
          "geo": {
           "bgcolor": "white",
           "lakecolor": "white",
           "landcolor": "#E5ECF6",
           "showlakes": true,
           "showland": true,
           "subunitcolor": "white"
          },
          "hoverlabel": {
           "align": "left"
          },
          "hovermode": "closest",
          "mapbox": {
           "style": "light"
          },
          "paper_bgcolor": "white",
          "plot_bgcolor": "#E5ECF6",
          "polar": {
           "angularaxis": {
            "gridcolor": "white",
            "linecolor": "white",
            "ticks": ""
           },
           "bgcolor": "#E5ECF6",
           "radialaxis": {
            "gridcolor": "white",
            "linecolor": "white",
            "ticks": ""
           }
          },
          "scene": {
           "xaxis": {
            "backgroundcolor": "#E5ECF6",
            "gridcolor": "white",
            "gridwidth": 2,
            "linecolor": "white",
            "showbackground": true,
            "ticks": "",
            "zerolinecolor": "white"
           },
           "yaxis": {
            "backgroundcolor": "#E5ECF6",
            "gridcolor": "white",
            "gridwidth": 2,
            "linecolor": "white",
            "showbackground": true,
            "ticks": "",
            "zerolinecolor": "white"
           },
           "zaxis": {
            "backgroundcolor": "#E5ECF6",
            "gridcolor": "white",
            "gridwidth": 2,
            "linecolor": "white",
            "showbackground": true,
            "ticks": "",
            "zerolinecolor": "white"
           }
          },
          "shapedefaults": {
           "line": {
            "color": "#2a3f5f"
           }
          },
          "ternary": {
           "aaxis": {
            "gridcolor": "white",
            "linecolor": "white",
            "ticks": ""
           },
           "baxis": {
            "gridcolor": "white",
            "linecolor": "white",
            "ticks": ""
           },
           "bgcolor": "#E5ECF6",
           "caxis": {
            "gridcolor": "white",
            "linecolor": "white",
            "ticks": ""
           }
          },
          "title": {
           "x": 0.05
          },
          "xaxis": {
           "automargin": true,
           "gridcolor": "white",
           "linecolor": "white",
           "ticks": "",
           "zerolinecolor": "white",
           "zerolinewidth": 2
          },
          "yaxis": {
           "automargin": true,
           "gridcolor": "white",
           "linecolor": "white",
           "ticks": "",
           "zerolinecolor": "white",
           "zerolinewidth": 2
          }
         }
        }
       }
      },
      "text/html": [
       "<div>\n",
       "        \n",
       "        \n",
       "            <div id=\"03d4c3b2-15bd-4894-bc48-fe4d5e0ba89e\" class=\"plotly-graph-div\" style=\"height:525px; width:100%;\"></div>\n",
       "            <script type=\"text/javascript\">\n",
       "                require([\"plotly\"], function(Plotly) {\n",
       "                    window.PLOTLYENV=window.PLOTLYENV || {};\n",
       "                    \n",
       "                if (document.getElementById(\"03d4c3b2-15bd-4894-bc48-fe4d5e0ba89e\")) {\n",
       "                    Plotly.newPlot(\n",
       "                        '03d4c3b2-15bd-4894-bc48-fe4d5e0ba89e',\n",
       "                        [{\"colorscale\": [[0.0, \"#440154\"], [0.1111111111111111, \"#482878\"], [0.2222222222222222, \"#3e4989\"], [0.3333333333333333, \"#31688e\"], [0.4444444444444444, \"#26828e\"], [0.5555555555555556, \"#1f9e89\"], [0.6666666666666666, \"#35b779\"], [0.7777777777777778, \"#6ece58\"], [0.8888888888888888, \"#b5de2b\"], [1.0, \"#fde725\"]], \"reversescale\": true, \"showscale\": true, \"type\": \"heatmap\", \"x\": [\"RandomForest\", \"ExtraTrees\", \"AdaBoost\", \"GradientBoost\"], \"y\": [\"RandomForest\", \"ExtraTrees\", \"AdaBoost\", \"GradientBoost\"], \"z\": [[1.0, 0.8613938795910768, 0.8151293716791554, 0.7737184332473472], [0.8613938795910768, 1.0, 0.878879635769002, 0.8044985948059133], [0.8151293716791554, 0.878879635769002, 1.0, 0.7980542040611992], [0.7737184332473472, 0.8044985948059133, 0.7980542040611992, 1.0]]}],\n",
       "                        {\"template\": {\"data\": {\"bar\": [{\"error_x\": {\"color\": \"#2a3f5f\"}, \"error_y\": {\"color\": \"#2a3f5f\"}, \"marker\": {\"line\": {\"color\": \"#E5ECF6\", \"width\": 0.5}}, \"type\": \"bar\"}], \"barpolar\": [{\"marker\": {\"line\": {\"color\": \"#E5ECF6\", \"width\": 0.5}}, \"type\": \"barpolar\"}], \"carpet\": [{\"aaxis\": {\"endlinecolor\": \"#2a3f5f\", \"gridcolor\": \"white\", \"linecolor\": \"white\", \"minorgridcolor\": \"white\", \"startlinecolor\": \"#2a3f5f\"}, \"baxis\": {\"endlinecolor\": \"#2a3f5f\", \"gridcolor\": \"white\", \"linecolor\": \"white\", \"minorgridcolor\": \"white\", \"startlinecolor\": \"#2a3f5f\"}, \"type\": \"carpet\"}], \"choropleth\": [{\"colorbar\": {\"outlinewidth\": 0, \"ticks\": \"\"}, \"type\": \"choropleth\"}], \"contour\": [{\"colorbar\": {\"outlinewidth\": 0, \"ticks\": \"\"}, \"colorscale\": [[0.0, \"#0d0887\"], [0.1111111111111111, \"#46039f\"], [0.2222222222222222, \"#7201a8\"], [0.3333333333333333, \"#9c179e\"], [0.4444444444444444, \"#bd3786\"], [0.5555555555555556, \"#d8576b\"], [0.6666666666666666, \"#ed7953\"], [0.7777777777777778, \"#fb9f3a\"], [0.8888888888888888, \"#fdca26\"], [1.0, \"#f0f921\"]], \"type\": \"contour\"}], \"contourcarpet\": [{\"colorbar\": {\"outlinewidth\": 0, \"ticks\": \"\"}, \"type\": \"contourcarpet\"}], \"heatmap\": [{\"colorbar\": {\"outlinewidth\": 0, \"ticks\": \"\"}, \"colorscale\": [[0.0, \"#0d0887\"], [0.1111111111111111, \"#46039f\"], [0.2222222222222222, \"#7201a8\"], [0.3333333333333333, \"#9c179e\"], [0.4444444444444444, \"#bd3786\"], [0.5555555555555556, \"#d8576b\"], [0.6666666666666666, \"#ed7953\"], [0.7777777777777778, \"#fb9f3a\"], [0.8888888888888888, \"#fdca26\"], [1.0, \"#f0f921\"]], \"type\": \"heatmap\"}], \"heatmapgl\": [{\"colorbar\": {\"outlinewidth\": 0, \"ticks\": \"\"}, \"colorscale\": [[0.0, \"#0d0887\"], [0.1111111111111111, \"#46039f\"], [0.2222222222222222, \"#7201a8\"], [0.3333333333333333, \"#9c179e\"], [0.4444444444444444, \"#bd3786\"], [0.5555555555555556, \"#d8576b\"], [0.6666666666666666, \"#ed7953\"], [0.7777777777777778, \"#fb9f3a\"], [0.8888888888888888, \"#fdca26\"], [1.0, \"#f0f921\"]], \"type\": \"heatmapgl\"}], \"histogram\": [{\"marker\": {\"colorbar\": {\"outlinewidth\": 0, \"ticks\": \"\"}}, \"type\": \"histogram\"}], \"histogram2d\": [{\"colorbar\": {\"outlinewidth\": 0, \"ticks\": \"\"}, \"colorscale\": [[0.0, \"#0d0887\"], [0.1111111111111111, \"#46039f\"], [0.2222222222222222, \"#7201a8\"], [0.3333333333333333, \"#9c179e\"], [0.4444444444444444, \"#bd3786\"], [0.5555555555555556, \"#d8576b\"], [0.6666666666666666, \"#ed7953\"], [0.7777777777777778, \"#fb9f3a\"], [0.8888888888888888, \"#fdca26\"], [1.0, \"#f0f921\"]], \"type\": \"histogram2d\"}], \"histogram2dcontour\": [{\"colorbar\": {\"outlinewidth\": 0, \"ticks\": \"\"}, \"colorscale\": [[0.0, \"#0d0887\"], [0.1111111111111111, \"#46039f\"], [0.2222222222222222, \"#7201a8\"], [0.3333333333333333, \"#9c179e\"], [0.4444444444444444, \"#bd3786\"], [0.5555555555555556, \"#d8576b\"], [0.6666666666666666, \"#ed7953\"], [0.7777777777777778, \"#fb9f3a\"], [0.8888888888888888, \"#fdca26\"], [1.0, \"#f0f921\"]], \"type\": \"histogram2dcontour\"}], \"mesh3d\": [{\"colorbar\": {\"outlinewidth\": 0, \"ticks\": \"\"}, \"type\": \"mesh3d\"}], \"parcoords\": [{\"line\": {\"colorbar\": {\"outlinewidth\": 0, \"ticks\": \"\"}}, \"type\": \"parcoords\"}], \"scatter\": [{\"marker\": {\"colorbar\": {\"outlinewidth\": 0, \"ticks\": \"\"}}, \"type\": \"scatter\"}], \"scatter3d\": [{\"line\": {\"colorbar\": {\"outlinewidth\": 0, \"ticks\": \"\"}}, \"marker\": {\"colorbar\": {\"outlinewidth\": 0, \"ticks\": \"\"}}, \"type\": \"scatter3d\"}], \"scattercarpet\": [{\"marker\": {\"colorbar\": {\"outlinewidth\": 0, \"ticks\": \"\"}}, \"type\": \"scattercarpet\"}], \"scattergeo\": [{\"marker\": {\"colorbar\": {\"outlinewidth\": 0, \"ticks\": \"\"}}, \"type\": \"scattergeo\"}], \"scattergl\": [{\"marker\": {\"colorbar\": {\"outlinewidth\": 0, \"ticks\": \"\"}}, \"type\": \"scattergl\"}], \"scattermapbox\": [{\"marker\": {\"colorbar\": {\"outlinewidth\": 0, \"ticks\": \"\"}}, \"type\": \"scattermapbox\"}], \"scatterpolar\": [{\"marker\": {\"colorbar\": {\"outlinewidth\": 0, \"ticks\": \"\"}}, \"type\": \"scatterpolar\"}], \"scatterpolargl\": [{\"marker\": {\"colorbar\": {\"outlinewidth\": 0, \"ticks\": \"\"}}, \"type\": \"scatterpolargl\"}], \"scatterternary\": [{\"marker\": {\"colorbar\": {\"outlinewidth\": 0, \"ticks\": \"\"}}, \"type\": \"scatterternary\"}], \"surface\": [{\"colorbar\": {\"outlinewidth\": 0, \"ticks\": \"\"}, \"colorscale\": [[0.0, \"#0d0887\"], [0.1111111111111111, \"#46039f\"], [0.2222222222222222, \"#7201a8\"], [0.3333333333333333, \"#9c179e\"], [0.4444444444444444, \"#bd3786\"], [0.5555555555555556, \"#d8576b\"], [0.6666666666666666, \"#ed7953\"], [0.7777777777777778, \"#fb9f3a\"], [0.8888888888888888, \"#fdca26\"], [1.0, \"#f0f921\"]], \"type\": \"surface\"}], \"table\": [{\"cells\": {\"fill\": {\"color\": \"#EBF0F8\"}, \"line\": {\"color\": \"white\"}}, \"header\": {\"fill\": {\"color\": \"#C8D4E3\"}, \"line\": {\"color\": \"white\"}}, \"type\": \"table\"}]}, \"layout\": {\"annotationdefaults\": {\"arrowcolor\": \"#2a3f5f\", \"arrowhead\": 0, \"arrowwidth\": 1}, \"colorscale\": {\"diverging\": [[0, \"#8e0152\"], [0.1, \"#c51b7d\"], [0.2, \"#de77ae\"], [0.3, \"#f1b6da\"], [0.4, \"#fde0ef\"], [0.5, \"#f7f7f7\"], [0.6, \"#e6f5d0\"], [0.7, \"#b8e186\"], [0.8, \"#7fbc41\"], [0.9, \"#4d9221\"], [1, \"#276419\"]], \"sequential\": [[0.0, \"#0d0887\"], [0.1111111111111111, \"#46039f\"], [0.2222222222222222, \"#7201a8\"], [0.3333333333333333, \"#9c179e\"], [0.4444444444444444, \"#bd3786\"], [0.5555555555555556, \"#d8576b\"], [0.6666666666666666, \"#ed7953\"], [0.7777777777777778, \"#fb9f3a\"], [0.8888888888888888, \"#fdca26\"], [1.0, \"#f0f921\"]], \"sequentialminus\": [[0.0, \"#0d0887\"], [0.1111111111111111, \"#46039f\"], [0.2222222222222222, \"#7201a8\"], [0.3333333333333333, \"#9c179e\"], [0.4444444444444444, \"#bd3786\"], [0.5555555555555556, \"#d8576b\"], [0.6666666666666666, \"#ed7953\"], [0.7777777777777778, \"#fb9f3a\"], [0.8888888888888888, \"#fdca26\"], [1.0, \"#f0f921\"]]}, \"colorway\": [\"#636efa\", \"#EF553B\", \"#00cc96\", \"#ab63fa\", \"#FFA15A\", \"#19d3f3\", \"#FF6692\", \"#B6E880\", \"#FF97FF\", \"#FECB52\"], \"font\": {\"color\": \"#2a3f5f\"}, \"geo\": {\"bgcolor\": \"white\", \"lakecolor\": \"white\", \"landcolor\": \"#E5ECF6\", \"showlakes\": true, \"showland\": true, \"subunitcolor\": \"white\"}, \"hoverlabel\": {\"align\": \"left\"}, \"hovermode\": \"closest\", \"mapbox\": {\"style\": \"light\"}, \"paper_bgcolor\": \"white\", \"plot_bgcolor\": \"#E5ECF6\", \"polar\": {\"angularaxis\": {\"gridcolor\": \"white\", \"linecolor\": \"white\", \"ticks\": \"\"}, \"bgcolor\": \"#E5ECF6\", \"radialaxis\": {\"gridcolor\": \"white\", \"linecolor\": \"white\", \"ticks\": \"\"}}, \"scene\": {\"xaxis\": {\"backgroundcolor\": \"#E5ECF6\", \"gridcolor\": \"white\", \"gridwidth\": 2, \"linecolor\": \"white\", \"showbackground\": true, \"ticks\": \"\", \"zerolinecolor\": \"white\"}, \"yaxis\": {\"backgroundcolor\": \"#E5ECF6\", \"gridcolor\": \"white\", \"gridwidth\": 2, \"linecolor\": \"white\", \"showbackground\": true, \"ticks\": \"\", \"zerolinecolor\": \"white\"}, \"zaxis\": {\"backgroundcolor\": \"#E5ECF6\", \"gridcolor\": \"white\", \"gridwidth\": 2, \"linecolor\": \"white\", \"showbackground\": true, \"ticks\": \"\", \"zerolinecolor\": \"white\"}}, \"shapedefaults\": {\"line\": {\"color\": \"#2a3f5f\"}}, \"ternary\": {\"aaxis\": {\"gridcolor\": \"white\", \"linecolor\": \"white\", \"ticks\": \"\"}, \"baxis\": {\"gridcolor\": \"white\", \"linecolor\": \"white\", \"ticks\": \"\"}, \"bgcolor\": \"#E5ECF6\", \"caxis\": {\"gridcolor\": \"white\", \"linecolor\": \"white\", \"ticks\": \"\"}}, \"title\": {\"x\": 0.05}, \"xaxis\": {\"automargin\": true, \"gridcolor\": \"white\", \"linecolor\": \"white\", \"ticks\": \"\", \"zerolinecolor\": \"white\", \"zerolinewidth\": 2}, \"yaxis\": {\"automargin\": true, \"gridcolor\": \"white\", \"linecolor\": \"white\", \"ticks\": \"\", \"zerolinecolor\": \"white\", \"zerolinewidth\": 2}}}},\n",
       "                        {\"responsive\": true}\n",
       "                    ).then(function(){\n",
       "                            \n",
       "var gd = document.getElementById('03d4c3b2-15bd-4894-bc48-fe4d5e0ba89e');\n",
       "var x = new MutationObserver(function (mutations, observer) {{\n",
       "        var display = window.getComputedStyle(gd).display;\n",
       "        if (!display || display === 'none') {{\n",
       "            console.log([gd, 'removed!']);\n",
       "            Plotly.purge(gd);\n",
       "            observer.disconnect();\n",
       "        }}\n",
       "}});\n",
       "\n",
       "// Listen for the removal of the full notebook cells\n",
       "var notebookContainer = gd.closest('#notebook-container');\n",
       "if (notebookContainer) {{\n",
       "    x.observe(notebookContainer, {childList: true});\n",
       "}}\n",
       "\n",
       "// Listen for the clearing of the current output cell\n",
       "var outputEl = gd.closest('.output');\n",
       "if (outputEl) {{\n",
       "    x.observe(outputEl, {childList: true});\n",
       "}}\n",
       "\n",
       "                        })\n",
       "                };\n",
       "                });\n",
       "            </script>\n",
       "        </div>"
      ]
     },
     "metadata": {},
     "output_type": "display_data"
    }
   ],
   "source": [
    "data = [\n",
    "    go.Heatmap(\n",
    "        z= base_predictions_train.astype(float).corr().values ,\n",
    "        x=base_predictions_train.columns.values,\n",
    "        y= base_predictions_train.columns.values,\n",
    "          colorscale='Viridis',\n",
    "            showscale=True,\n",
    "            reversescale = True\n",
    "    )\n",
    "]\n",
    "py.iplot(data, filename='labelled-heatmap')"
   ]
  },
  {
   "cell_type": "markdown",
   "metadata": {},
   "source": [
    "##### 进行最终的分类模型训练"
   ]
  },
  {
   "cell_type": "code",
   "execution_count": 22,
   "metadata": {},
   "outputs": [
    {
     "name": "stdout",
     "output_type": "stream",
     "text": [
      "xgboost train complete\n"
     ]
    }
   ],
   "source": [
    "x_train = np.concatenate(( et_oof_train, rf_oof_train, ada_oof_train, gb_oof_train, svc_oof_train), axis=1)\n",
    "x_test = np.concatenate(( et_oof_test, rf_oof_test, ada_oof_test, gb_oof_test, svc_oof_test), axis=1)\n",
    " \n",
    "gbm = xgb.XGBClassifier(\n",
    "    #learning_rate = 0.02,\n",
    " n_estimators= 2000,\n",
    " max_depth= 4,\n",
    " min_child_weight= 2,\n",
    " #gamma=1,\n",
    " gamma=0.9,                        \n",
    " subsample=0.8,\n",
    " colsample_bytree=0.8,\n",
    " objective= 'binary:logistic',\n",
    " nthread= -1,\n",
    " scale_pos_weight=1).fit(x_train, y_train)\n",
    "print(\"xgboost train complete\")\n",
    "predictions = gbm.predict(x_test)"
   ]
  },
  {
   "cell_type": "markdown",
   "metadata": {},
   "source": [
    "##### 偷窥一下真值和训练值，从头尾露出来的六个样本来看，预测全部准确，说明此实验的可行性。"
   ]
  },
  {
   "cell_type": "code",
   "execution_count": 33,
   "metadata": {},
   "outputs": [
    {
     "name": "stdout",
     "output_type": "stream",
     "text": [
      "[1 0 1 ... 0 0 1]\n",
      "[1. 0. 1. ... 0. 0. 1.]\n"
     ]
    }
   ],
   "source": [
    "print(predictions)\n",
    "print(test_true)"
   ]
  },
  {
   "cell_type": "markdown",
   "metadata": {},
   "source": [
    "##### 全部的数据精度如下，目前看来还是不太理想的。问题放在最后归纳吧"
   ]
  },
  {
   "cell_type": "code",
   "execution_count": 23,
   "metadata": {},
   "outputs": [
    {
     "name": "stdout",
     "output_type": "stream",
     "text": [
      "准确率： 0.7761301616723304\n",
      "精确率： 0.7292289300657502\n",
      "召回率： 0.8178770949720671\n",
      "F1-score: 0.7710132715399199\n"
     ]
    }
   ],
   "source": [
    "from sklearn import metrics \n",
    "def get_scores(y_true, y_predicet):\n",
    "    acc_score = metrics.accuracy_score(y_true,y_predicet)\n",
    "    pre_score = metrics.precision_score(y_true,y_predicet)\n",
    "    recall = metrics.recall_score(y_true,y_predicet)\n",
    "    F1 = metrics.f1_score(y_true,y_predicet)\n",
    "    print('准确率：',acc_score)\n",
    "    print('精确率：',pre_score)\n",
    "    print('召回率：',recall)\n",
    "    print('F1-score:',F1)\n",
    "    \n",
    "get_scores(test_true, predictions)"
   ]
  },
  {
   "cell_type": "markdown",
   "metadata": {},
   "source": [
    "##### 选出第一层的两个模型看一下具体的学习曲线。"
   ]
  },
  {
   "cell_type": "code",
   "execution_count": 35,
   "metadata": {},
   "outputs": [],
   "source": [
    "from sklearn.model_selection import learning_curve\n",
    "\n",
    "def plot_learning_curve(estimator, title, X, y, ylim=None, cv=None,\n",
    "                        n_jobs=1, train_sizes=np.linspace(.1, 1.0, 5), verbose=0):\n",
    "    \"\"\"\n",
    "    Generate a simple plot of the test and traning learning curve.\n",
    "\n",
    "    Parameters\n",
    "    ----------\n",
    "    estimator : object type that implements the \"fit\" and \"predict\" methods\n",
    "        An object of that type which is cloned for each validation.\n",
    "\n",
    "    title : string\n",
    "        Title for the chart.\n",
    "\n",
    "    X : array-like, shape (n_samples, n_features)\n",
    "        Training vector, where n_samples is the number of samples and\n",
    "        n_features is the number of features.\n",
    "\n",
    "    y : array-like, shape (n_samples) or (n_samples, n_features), optional\n",
    "        Target relative to X for classification or regression;\n",
    "        None for unsupervised learning.\n",
    "\n",
    "    ylim : tuple, shape (ymin, ymax), optional\n",
    "        Defines minimum and maximum yvalues plotted.\n",
    "\n",
    "    cv : integer, cross-validation generator, optional\n",
    "        If an integer is passed, it is the number of folds (defaults to 3).\n",
    "        Specific cross-validation objects can be passed, see\n",
    "        sklearn.cross_validation module for the list of possible objects\n",
    "\n",
    "    n_jobs : integer, optional\n",
    "        Number of jobs to run in parallel (default 1).\n",
    "    \"\"\"\n",
    "    plt.figure()\n",
    "    plt.title(title)\n",
    "    if ylim is not None:\n",
    "        plt.ylim(*ylim)\n",
    "    plt.xlabel(\"Training examples\")\n",
    "    plt.ylabel(\"Score\")\n",
    "    train_sizes, train_scores, test_scores = learning_curve(\n",
    "        estimator, X, y, cv=cv, n_jobs=n_jobs, train_sizes=train_sizes)\n",
    "    train_scores_mean = np.mean(train_scores, axis=1)\n",
    "    train_scores_std = np.std(train_scores, axis=1)\n",
    "    test_scores_mean = np.mean(test_scores, axis=1)\n",
    "    test_scores_std = np.std(test_scores, axis=1)\n",
    "    plt.grid()\n",
    "\n",
    "    plt.fill_between(train_sizes, train_scores_mean - train_scores_std,\n",
    "                     train_scores_mean + train_scores_std, alpha=0.1,\n",
    "                     color=\"r\")\n",
    "    plt.fill_between(train_sizes, test_scores_mean - test_scores_std,\n",
    "                     test_scores_mean + test_scores_std, alpha=0.1, color=\"g\")\n",
    "    plt.plot(train_sizes, train_scores_mean, 'o-', color=\"r\",\n",
    "             label=\"Training score\")\n",
    "    plt.plot(train_sizes, test_scores_mean, 'o-', color=\"g\",\n",
    "             label=\"Cross-validation score\")\n",
    "\n",
    "    plt.legend(loc=\"best\")\n",
    "    return plt"
   ]
  },
  {
   "cell_type": "code",
   "execution_count": 38,
   "metadata": {
    "scrolled": true
   },
   "outputs": [
    {
     "data": {
      "text/plain": [
       "<function matplotlib.pyplot.show(*args, **kw)>"
      ]
     },
     "execution_count": 38,
     "metadata": {},
     "output_type": "execute_result"
    },
    {
     "data": {
      "image/png": "[encoded data removed]",
      "text/plain": [
       "<Figure size 432x288 with 1 Axes>"
      ]
     },
     "metadata": {
      "needs_background": "light"
     },
     "output_type": "display_data"
    }
   ],
   "source": [
    "# rf = SklearnHelper(clf=RandomForestClassifier, seed=SEED, params=rf_params)\n",
    "# et = SklearnHelper(clf=ExtraTreesClassifier, seed=SEED, params=et_params)\n",
    "# ada = SklearnHelper(clf=AdaBoostClassifier, seed=SEED, params=ada_params)\n",
    "# gb = SklearnHelper(clf=GradientBoostingClassifier, seed=SEED, params=gb_params)\n",
    "# svc = SklearnHelper(clf=SVC, seed=SEED, params=svc_params)\n",
    "\n",
    "\n",
    "train_plot = train.dropna(axis=0,how='any')\n",
    "train_plot = train_plot.sample(frac=1)\n",
    "# train_plot.drop(['sigle_match_cnt', 'team_match_cnt', 'bp', 'rank', 'spend_money', 'register_day'], axis = 1, inplace=True)\n",
    "\n",
    "y_plot_train = train_plot['label'].ravel()\n",
    "train_plot = train_plot.drop(['label'], axis=1)\n",
    "x_plot_train = train_plot.values \n",
    "\n",
    "title = \"Random Forest Learning Curves\"\n",
    "plot_learning_curve(RandomForestClassifier(**rf_params), title, x_plot_train, y_plot_train, cv=None,  n_jobs=4, train_sizes=[500, 2000, 4000, 6000, 8000, 10000, 12000, 13000])\n",
    "plt.show "
   ]
  },
  {
   "cell_type": "code",
   "execution_count": 40,
   "metadata": {},
   "outputs": [],
   "source": [
    "# title = \"Extra Trees Learning Curves\"\n",
    "# plot_learning_curve(ExtraTreesClassifier(**et_params), title, x_plot_train, y_plot_train, cv=None,  n_jobs=4, train_sizes=[500, 2000, 4000, 6000, 8000, 10000, 12000, 13000])\n",
    "# plt.show "
   ]
  },
  {
   "cell_type": "code",
   "execution_count": 41,
   "metadata": {},
   "outputs": [],
   "source": [
    "# title = \"Ada Boost Learning Curves\"\n",
    "# plot_learning_curve(AdaBoostClassifier(**ada_params), title, x_plot_train, y_plot_train, cv=None,  n_jobs=4, train_sizes=[500, 2000, 4000, 6000, 8000, 10000, 12000, 13000])\n",
    "# plt.show "
   ]
  },
  {
   "cell_type": "code",
   "execution_count": 42,
   "metadata": {},
   "outputs": [
    {
     "data": {
      "text/plain": [
       "<function matplotlib.pyplot.show(*args, **kw)>"
      ]
     },
     "execution_count": 42,
     "metadata": {},
     "output_type": "execute_result"
    },
    {
     "data": {
      "image/png": "[encoded data removed]",
      "text/plain": [
       "<Figure size 432x288 with 1 Axes>"
      ]
     },
     "metadata": {
      "needs_background": "light"
     },
     "output_type": "display_data"
    }
   ],
   "source": [
    "title = \"Gradient Boosting Learning Curves\"\n",
    "plot_learning_curve(GradientBoostingClassifier(**gb_params), title, x_plot_train, y_plot_train, cv=None,  n_jobs=4, train_sizes=[500, 2000, 4000, 6000, 8000, 10000, 12000, 13000])\n",
    "plt.show "
   ]
  },
  {
   "cell_type": "code",
   "execution_count": 43,
   "metadata": {},
   "outputs": [],
   "source": [
    "# title = \"SVC Learning Curves\"\n",
    "# plot_learning_curve(SVC(**svc_params), title, x_plot_train, y_plot_train, cv=None,  n_jobs=4, train_sizes=[500, 2000, 4000, 6000, 8000, 10000, 12000, 13000])\n",
    "# plt.show "
   ]
  },
  {
   "cell_type": "markdown",
   "metadata": {},
   "source": [
    "## 总结一下\n",
    "这两个学习曲线比较有代表性，第一个随机森林看起来很稳定，收敛趋势明显，但是准确率不是很高，也就是有一点欠拟合的倾向。\n",
    "第二个GBDT看起来性能更好，但是训练样本准确率高于90%，验证集和训练集差距较大，有过拟合的倾向。\n",
    "\n",
    "对于这个项目，如果还需要进一步的优化，需要从特征开始处理，特征的根源来自人脑的奇思妙想，有了更多更相关的特征，后面再对模型进行优化调参，可以现针对某一个模型，进行增减特征，添加正则化项，等等方式，依据学习曲线和模型的准确率来进行调参。\n",
    "\n",
    "另外因为是实验性质的项目，其实样本采集本身也似乎有很多不合理性的，**譬如人机局和实战局的分离，疑似外挂数据的删除，亚洲玩家和欧美玩家的分离，正负样本更科学的判定，负反馈的增加，局内交互动作的增加，延迟的考虑，只有一局人机记录的样本和成熟玩家的数据是否应该放在一起，等等等等**。后面是不是也要为采集更多的数据增加osslog，或者引入kafka我们自己处理非结构化日志，有了足够的数据，有了现成的平台，是否可以对玩法进行评估，对活动进行评估，或是对商城物品的后台打分评估，有了流式实时性是不是可以对测试服的改动快速给出数据层面的决策支持，对于我们服务器是否可可以就得到一个重要业务指标的秒级监控，能想象空间还有很多，个人能力有限。\n",
    "\n",
    "机器学习的根本在于特征，那晚正哥看了特征相关性的图后提出一个增加一个局内总游戏时间的特征是不是要比局数和平均游戏时间更好，尝试以后发现。局内总游戏时间是正相关最强的一个特征，肯定还有很多特征需要去思考去发现。这次的实验就先到这里，因为idex上cpu算力槽老是空的，代码是跑在本地的，移植仅需求改载入数据的地方，以及加一个一个画图的包即可。"
   ]
  },
  {
   "cell_type": "code",
   "execution_count": null,
   "metadata": {},
   "outputs": [],
   "source": []
  }
 ],
 "metadata": {
  "kernelspec": {
   "display_name": "Python 3",
   "language": "python",
   "name": "python3"
  },
  "language_info": {
   "codemirror_mode": {
    "name": "ipython",
    "version": 3
   },
   "file_extension": ".py",
   "mimetype": "text/x-python",
   "name": "python",
   "nbconvert_exporter": "python",
   "pygments_lexer": "ipython3",
   "version": "3.7.3"
  }
 },
 "nbformat": 4,
 "nbformat_minor": 2
}
